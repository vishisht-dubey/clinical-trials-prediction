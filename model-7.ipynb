{
 "cells": [
  {
   "cell_type": "code",
   "execution_count": 1,
   "id": "4b1fc8bc",
   "metadata": {},
   "outputs": [],
   "source": [
    "import pandas as pd\n",
    "import numpy as np\n",
    "import matplotlib.pyplot as plt\n",
    "import seaborn as sns"
   ]
  },
  {
   "cell_type": "code",
   "execution_count": 2,
   "id": "8ea46f74",
   "metadata": {},
   "outputs": [],
   "source": [
    "cd=pd.read_csv(\"C:\\\\Users\\\\rabhi\\\\OneDrive\\\\Documents\\\\Data_Clinical_Samples.csv\")"
   ]
  },
  {
   "cell_type": "code",
   "execution_count": 3,
   "id": "419f2f64",
   "metadata": {},
   "outputs": [
    {
     "data": {
      "text/html": [
       "<div>\n",
       "<style scoped>\n",
       "    .dataframe tbody tr th:only-of-type {\n",
       "        vertical-align: middle;\n",
       "    }\n",
       "\n",
       "    .dataframe tbody tr th {\n",
       "        vertical-align: top;\n",
       "    }\n",
       "\n",
       "    .dataframe thead th {\n",
       "        text-align: right;\n",
       "    }\n",
       "</style>\n",
       "<table border=\"1\" class=\"dataframe\">\n",
       "  <thead>\n",
       "    <tr style=\"text-align: right;\">\n",
       "      <th></th>\n",
       "      <th>Title</th>\n",
       "      <th>Status</th>\n",
       "      <th>Study Results</th>\n",
       "      <th>Conditions</th>\n",
       "      <th>Interventions</th>\n",
       "      <th>Outcome Measures</th>\n",
       "      <th>Sponsor/Collaborators</th>\n",
       "      <th>Gender</th>\n",
       "      <th>Age</th>\n",
       "      <th>Phases</th>\n",
       "      <th>Enrollment</th>\n",
       "      <th>Funded Bys</th>\n",
       "      <th>Study Type</th>\n",
       "      <th>Study Designs</th>\n",
       "      <th>Other IDs</th>\n",
       "      <th>Locations</th>\n",
       "    </tr>\n",
       "  </thead>\n",
       "  <tbody>\n",
       "    <tr>\n",
       "      <th>0</th>\n",
       "      <td>Financial and Insurance Assistance- Oncology F...</td>\n",
       "      <td>Completed</td>\n",
       "      <td>No Results Available</td>\n",
       "      <td>Financial Stress|Pediatric Cancer</td>\n",
       "      <td>Other: FINassist</td>\n",
       "      <td>FINassist Feasibility|FINassist Adherence|FINa...</td>\n",
       "      <td>Jean Edward|Robert Wood Johnson Foundation|Uni...</td>\n",
       "      <td>All</td>\n",
       "      <td>18 Years to 65 Years   (Adult, Older Adult)</td>\n",
       "      <td>Not Applicable</td>\n",
       "      <td>61.0</td>\n",
       "      <td>Other</td>\n",
       "      <td>Interventional</td>\n",
       "      <td>Allocation: Non-Randomized|Intervention Model:...</td>\n",
       "      <td>57238</td>\n",
       "      <td>University of Kentucky DanceBlue Pediatric Hem...</td>\n",
       "    </tr>\n",
       "    <tr>\n",
       "      <th>1</th>\n",
       "      <td>Study of Progression to Progressive Fibrosing ...</td>\n",
       "      <td>Completed</td>\n",
       "      <td>No Results Available</td>\n",
       "      <td>Lung Diseases, Interstitial</td>\n",
       "      <td>Other: No intervention</td>\n",
       "      <td>Incidence probability of progression to PF-ILD...</td>\n",
       "      <td>Boehringer Ingelheim</td>\n",
       "      <td>All</td>\n",
       "      <td>18 Years and older   (Adult, Older Adult)</td>\n",
       "      <td>Not Applicable</td>\n",
       "      <td>200000.0</td>\n",
       "      <td>Industry</td>\n",
       "      <td>Observational</td>\n",
       "      <td>Observational Model: Cohort|Time Perspective: ...</td>\n",
       "      <td>1199-0523</td>\n",
       "      <td>Boehringer Ingelheim Pharmaceuticals, Inc., Ri...</td>\n",
       "    </tr>\n",
       "    <tr>\n",
       "      <th>2</th>\n",
       "      <td>Retrospective Assessment of AE-Related Healthc...</td>\n",
       "      <td>Completed</td>\n",
       "      <td>No Results Available</td>\n",
       "      <td>Melanoma</td>\n",
       "      <td>Other: No intervention</td>\n",
       "      <td>Percentage of patients with adverse events (AE...</td>\n",
       "      <td>Novartis Pharmaceuticals|Novartis</td>\n",
       "      <td>All</td>\n",
       "      <td>18 Years and older   (Adult, Older Adult)</td>\n",
       "      <td>Not Applicable</td>\n",
       "      <td>17517.0</td>\n",
       "      <td>Industry</td>\n",
       "      <td>Observational</td>\n",
       "      <td>Observational Model: Cohort|Time Perspective: ...</td>\n",
       "      <td>CTMT212AUS62</td>\n",
       "      <td>Novartis, East Hanover, New Jersey, United States</td>\n",
       "    </tr>\n",
       "    <tr>\n",
       "      <th>3</th>\n",
       "      <td>The Impact of Heartfulness Self-Care Program o...</td>\n",
       "      <td>Completed</td>\n",
       "      <td>No Results Available</td>\n",
       "      <td>Anxiety|Satisfaction With Life|Loneliness</td>\n",
       "      <td>Behavioral: Self-Care Program through Heartful...</td>\n",
       "      <td>Assess the current level of Anxiety|Changes le...</td>\n",
       "      <td>Heartfulness Institute</td>\n",
       "      <td>All</td>\n",
       "      <td>14 Years to 80 Years   (Child, Adult, Older Ad...</td>\n",
       "      <td>Not Applicable</td>\n",
       "      <td>203.0</td>\n",
       "      <td>Other</td>\n",
       "      <td>Interventional</td>\n",
       "      <td>Allocation: Randomized|Intervention Model: Par...</td>\n",
       "      <td>02-01-2022</td>\n",
       "      <td>Ranjani B Iyer, Novi, Michigan, United States</td>\n",
       "    </tr>\n",
       "    <tr>\n",
       "      <th>4</th>\n",
       "      <td>A Study to Evaluate the Safety, Tolerability, ...</td>\n",
       "      <td>Completed</td>\n",
       "      <td>No Results Available</td>\n",
       "      <td>Chronic Graft-versus-host Disease (cGVHD)</td>\n",
       "      <td>Drug: AMG 592|Other: Placebo</td>\n",
       "      <td>Number of Participants with Treatment-emergent...</td>\n",
       "      <td>Amgen</td>\n",
       "      <td>All</td>\n",
       "      <td>18 Years to 55 Years   (Adult)</td>\n",
       "      <td>Phase 1</td>\n",
       "      <td>64.0</td>\n",
       "      <td>Industry</td>\n",
       "      <td>Interventional</td>\n",
       "      <td>Allocation: Randomized|Intervention Model: Par...</td>\n",
       "      <td>20140324</td>\n",
       "      <td>Research Site, Aventura, Florida, United States</td>\n",
       "    </tr>\n",
       "    <tr>\n",
       "      <th>...</th>\n",
       "      <td>...</td>\n",
       "      <td>...</td>\n",
       "      <td>...</td>\n",
       "      <td>...</td>\n",
       "      <td>...</td>\n",
       "      <td>...</td>\n",
       "      <td>...</td>\n",
       "      <td>...</td>\n",
       "      <td>...</td>\n",
       "      <td>...</td>\n",
       "      <td>...</td>\n",
       "      <td>...</td>\n",
       "      <td>...</td>\n",
       "      <td>...</td>\n",
       "      <td>...</td>\n",
       "      <td>...</td>\n",
       "    </tr>\n",
       "    <tr>\n",
       "      <th>69714</th>\n",
       "      <td>Nab-paclitaxel and Gemcitabine vs Gemcitabine ...</td>\n",
       "      <td>Completed</td>\n",
       "      <td>Has Results</td>\n",
       "      <td>Pancreatic Neoplasms|Digestive System Neoplasm...</td>\n",
       "      <td>Drug: nab-Paclitaxel|Drug: Gemcitabine</td>\n",
       "      <td>Kaplan Meier Estimate for Disease Free Surviva...</td>\n",
       "      <td>Celgene</td>\n",
       "      <td>All</td>\n",
       "      <td>18 Years and older   (Adult, Older Adult)</td>\n",
       "      <td>Phase 3</td>\n",
       "      <td>866.0</td>\n",
       "      <td>Industry</td>\n",
       "      <td>Interventional</td>\n",
       "      <td>Allocation: Randomized|Intervention Model: Par...</td>\n",
       "      <td>ABI-007-PANC-003|2013-003398-91</td>\n",
       "      <td>Local Institution - 043, Scottsdale, Arizona, ...</td>\n",
       "    </tr>\n",
       "    <tr>\n",
       "      <th>69715</th>\n",
       "      <td>IFN-free Combination Therapy in HCV-infected P...</td>\n",
       "      <td>Completed</td>\n",
       "      <td>Has Results</td>\n",
       "      <td>Hepatitis C, Chronic</td>\n",
       "      <td>Drug: Ribavirin (RBV)|Drug: BI 201335 (Faldapr...</td>\n",
       "      <td>SVR12 Rates With Historical Control|Comparison...</td>\n",
       "      <td>Boehringer Ingelheim</td>\n",
       "      <td>All</td>\n",
       "      <td>18 Years to 75 Years   (Adult, Older Adult)</td>\n",
       "      <td>Phase 3</td>\n",
       "      <td>470.0</td>\n",
       "      <td>Industry</td>\n",
       "      <td>Interventional</td>\n",
       "      <td>Allocation: Randomized|Intervention Model: Par...</td>\n",
       "      <td>1241.20|2012-003533-41</td>\n",
       "      <td>1241.20.00026 Boehringer Ingelheim Investigati...</td>\n",
       "    </tr>\n",
       "    <tr>\n",
       "      <th>69716</th>\n",
       "      <td>Effect of Glycopyrronium on Morning Symptoms a...</td>\n",
       "      <td>Completed</td>\n",
       "      <td>Has Results</td>\n",
       "      <td>COPD</td>\n",
       "      <td>Drug: Glycopyrronium|Drug: Tiotropium|Drug: Pl...</td>\n",
       "      <td>Forced Expiratory Volume in 1 Second (FEV1) AU...</td>\n",
       "      <td>Novartis Pharmaceuticals|Novartis</td>\n",
       "      <td>All</td>\n",
       "      <td>40 Years and older   (Adult, Older Adult)</td>\n",
       "      <td>Phase 4</td>\n",
       "      <td>124.0</td>\n",
       "      <td>Industry</td>\n",
       "      <td>Interventional</td>\n",
       "      <td>Allocation: Randomized|Intervention Model: Cro...</td>\n",
       "      <td>CNVA237A3401</td>\n",
       "      <td>Novartis Investigative Site, Geesthacht, Schle...</td>\n",
       "    </tr>\n",
       "    <tr>\n",
       "      <th>69717</th>\n",
       "      <td>A Study Comparing Trametinib and Dabrafenib Co...</td>\n",
       "      <td>Completed</td>\n",
       "      <td>Has Results</td>\n",
       "      <td>Melanoma</td>\n",
       "      <td>Drug: Dabrafenib|Drug: Trametinib|Drug: Tramet...</td>\n",
       "      <td>Progression-Free Survival (PFS) as Assessed by...</td>\n",
       "      <td>Novartis Pharmaceuticals|Novartis</td>\n",
       "      <td>All</td>\n",
       "      <td>18 Years and older   (Adult, Older Adult)</td>\n",
       "      <td>Phase 3</td>\n",
       "      <td>423.0</td>\n",
       "      <td>Industry</td>\n",
       "      <td>Interventional</td>\n",
       "      <td>Allocation: Randomized|Intervention Model: Par...</td>\n",
       "      <td>115306|2011-006087-49|CDRB436B2301</td>\n",
       "      <td>Novartis Investigative Site, Scottsdale, Arizo...</td>\n",
       "    </tr>\n",
       "    <tr>\n",
       "      <th>69718</th>\n",
       "      <td>A Phase 3 Study of Ibrutinib (PCI-32765) Versu...</td>\n",
       "      <td>Completed</td>\n",
       "      <td>Has Results</td>\n",
       "      <td>Relapsed or Refractory Chronic Lymphocytic Leu...</td>\n",
       "      <td>Drug: ofatumumab|Drug: ibrutinib</td>\n",
       "      <td>PFS (Progression Free Survival) by Independent...</td>\n",
       "      <td>Pharmacyclics LLC.|Janssen Research &amp; Developm...</td>\n",
       "      <td>All</td>\n",
       "      <td>18 Years and older   (Adult, Older Adult)</td>\n",
       "      <td>Phase 3</td>\n",
       "      <td>391.0</td>\n",
       "      <td>Industry</td>\n",
       "      <td>Interventional</td>\n",
       "      <td>Allocation: Randomized|Intervention Model: Par...</td>\n",
       "      <td>PCYC-1112-CA|2012-000694-23</td>\n",
       "      <td>Site #408, La Jolla, California, United States...</td>\n",
       "    </tr>\n",
       "  </tbody>\n",
       "</table>\n",
       "<p>69719 rows × 16 columns</p>\n",
       "</div>"
      ],
      "text/plain": [
       "                                                   Title     Status  \\\n",
       "0      Financial and Insurance Assistance- Oncology F...  Completed   \n",
       "1      Study of Progression to Progressive Fibrosing ...  Completed   \n",
       "2      Retrospective Assessment of AE-Related Healthc...  Completed   \n",
       "3      The Impact of Heartfulness Self-Care Program o...  Completed   \n",
       "4      A Study to Evaluate the Safety, Tolerability, ...  Completed   \n",
       "...                                                  ...        ...   \n",
       "69714  Nab-paclitaxel and Gemcitabine vs Gemcitabine ...  Completed   \n",
       "69715  IFN-free Combination Therapy in HCV-infected P...  Completed   \n",
       "69716  Effect of Glycopyrronium on Morning Symptoms a...  Completed   \n",
       "69717  A Study Comparing Trametinib and Dabrafenib Co...  Completed   \n",
       "69718  A Phase 3 Study of Ibrutinib (PCI-32765) Versu...  Completed   \n",
       "\n",
       "              Study Results  \\\n",
       "0      No Results Available   \n",
       "1      No Results Available   \n",
       "2      No Results Available   \n",
       "3      No Results Available   \n",
       "4      No Results Available   \n",
       "...                     ...   \n",
       "69714           Has Results   \n",
       "69715           Has Results   \n",
       "69716           Has Results   \n",
       "69717           Has Results   \n",
       "69718           Has Results   \n",
       "\n",
       "                                              Conditions  \\\n",
       "0                      Financial Stress|Pediatric Cancer   \n",
       "1                            Lung Diseases, Interstitial   \n",
       "2                                               Melanoma   \n",
       "3              Anxiety|Satisfaction With Life|Loneliness   \n",
       "4              Chronic Graft-versus-host Disease (cGVHD)   \n",
       "...                                                  ...   \n",
       "69714  Pancreatic Neoplasms|Digestive System Neoplasm...   \n",
       "69715                               Hepatitis C, Chronic   \n",
       "69716                                               COPD   \n",
       "69717                                           Melanoma   \n",
       "69718  Relapsed or Refractory Chronic Lymphocytic Leu...   \n",
       "\n",
       "                                           Interventions  \\\n",
       "0                                       Other: FINassist   \n",
       "1                                 Other: No intervention   \n",
       "2                                 Other: No intervention   \n",
       "3      Behavioral: Self-Care Program through Heartful...   \n",
       "4                           Drug: AMG 592|Other: Placebo   \n",
       "...                                                  ...   \n",
       "69714             Drug: nab-Paclitaxel|Drug: Gemcitabine   \n",
       "69715  Drug: Ribavirin (RBV)|Drug: BI 201335 (Faldapr...   \n",
       "69716  Drug: Glycopyrronium|Drug: Tiotropium|Drug: Pl...   \n",
       "69717  Drug: Dabrafenib|Drug: Trametinib|Drug: Tramet...   \n",
       "69718                   Drug: ofatumumab|Drug: ibrutinib   \n",
       "\n",
       "                                        Outcome Measures  \\\n",
       "0      FINassist Feasibility|FINassist Adherence|FINa...   \n",
       "1      Incidence probability of progression to PF-ILD...   \n",
       "2      Percentage of patients with adverse events (AE...   \n",
       "3      Assess the current level of Anxiety|Changes le...   \n",
       "4      Number of Participants with Treatment-emergent...   \n",
       "...                                                  ...   \n",
       "69714  Kaplan Meier Estimate for Disease Free Surviva...   \n",
       "69715  SVR12 Rates With Historical Control|Comparison...   \n",
       "69716  Forced Expiratory Volume in 1 Second (FEV1) AU...   \n",
       "69717  Progression-Free Survival (PFS) as Assessed by...   \n",
       "69718  PFS (Progression Free Survival) by Independent...   \n",
       "\n",
       "                                   Sponsor/Collaborators Gender  \\\n",
       "0      Jean Edward|Robert Wood Johnson Foundation|Uni...    All   \n",
       "1                                   Boehringer Ingelheim    All   \n",
       "2                      Novartis Pharmaceuticals|Novartis    All   \n",
       "3                                 Heartfulness Institute    All   \n",
       "4                                                  Amgen    All   \n",
       "...                                                  ...    ...   \n",
       "69714                                            Celgene    All   \n",
       "69715                               Boehringer Ingelheim    All   \n",
       "69716                  Novartis Pharmaceuticals|Novartis    All   \n",
       "69717                  Novartis Pharmaceuticals|Novartis    All   \n",
       "69718  Pharmacyclics LLC.|Janssen Research & Developm...    All   \n",
       "\n",
       "                                                     Age          Phases  \\\n",
       "0            18 Years to 65 Years   (Adult, Older Adult)  Not Applicable   \n",
       "1              18 Years and older   (Adult, Older Adult)  Not Applicable   \n",
       "2              18 Years and older   (Adult, Older Adult)  Not Applicable   \n",
       "3      14 Years to 80 Years   (Child, Adult, Older Ad...  Not Applicable   \n",
       "4                         18 Years to 55 Years   (Adult)         Phase 1   \n",
       "...                                                  ...             ...   \n",
       "69714          18 Years and older   (Adult, Older Adult)         Phase 3   \n",
       "69715        18 Years to 75 Years   (Adult, Older Adult)         Phase 3   \n",
       "69716          40 Years and older   (Adult, Older Adult)         Phase 4   \n",
       "69717          18 Years and older   (Adult, Older Adult)         Phase 3   \n",
       "69718          18 Years and older   (Adult, Older Adult)         Phase 3   \n",
       "\n",
       "       Enrollment Funded Bys      Study Type  \\\n",
       "0            61.0      Other  Interventional   \n",
       "1        200000.0   Industry   Observational   \n",
       "2         17517.0   Industry   Observational   \n",
       "3           203.0      Other  Interventional   \n",
       "4            64.0   Industry  Interventional   \n",
       "...           ...        ...             ...   \n",
       "69714       866.0   Industry  Interventional   \n",
       "69715       470.0   Industry  Interventional   \n",
       "69716       124.0   Industry  Interventional   \n",
       "69717       423.0   Industry  Interventional   \n",
       "69718       391.0   Industry  Interventional   \n",
       "\n",
       "                                           Study Designs  \\\n",
       "0      Allocation: Non-Randomized|Intervention Model:...   \n",
       "1      Observational Model: Cohort|Time Perspective: ...   \n",
       "2      Observational Model: Cohort|Time Perspective: ...   \n",
       "3      Allocation: Randomized|Intervention Model: Par...   \n",
       "4      Allocation: Randomized|Intervention Model: Par...   \n",
       "...                                                  ...   \n",
       "69714  Allocation: Randomized|Intervention Model: Par...   \n",
       "69715  Allocation: Randomized|Intervention Model: Par...   \n",
       "69716  Allocation: Randomized|Intervention Model: Cro...   \n",
       "69717  Allocation: Randomized|Intervention Model: Par...   \n",
       "69718  Allocation: Randomized|Intervention Model: Par...   \n",
       "\n",
       "                                Other IDs  \\\n",
       "0                                   57238   \n",
       "1                               1199-0523   \n",
       "2                            CTMT212AUS62   \n",
       "3                              02-01-2022   \n",
       "4                                20140324   \n",
       "...                                   ...   \n",
       "69714     ABI-007-PANC-003|2013-003398-91   \n",
       "69715              1241.20|2012-003533-41   \n",
       "69716                        CNVA237A3401   \n",
       "69717  115306|2011-006087-49|CDRB436B2301   \n",
       "69718         PCYC-1112-CA|2012-000694-23   \n",
       "\n",
       "                                               Locations  \n",
       "0      University of Kentucky DanceBlue Pediatric Hem...  \n",
       "1      Boehringer Ingelheim Pharmaceuticals, Inc., Ri...  \n",
       "2      Novartis, East Hanover, New Jersey, United States  \n",
       "3          Ranjani B Iyer, Novi, Michigan, United States  \n",
       "4        Research Site, Aventura, Florida, United States  \n",
       "...                                                  ...  \n",
       "69714  Local Institution - 043, Scottsdale, Arizona, ...  \n",
       "69715  1241.20.00026 Boehringer Ingelheim Investigati...  \n",
       "69716  Novartis Investigative Site, Geesthacht, Schle...  \n",
       "69717  Novartis Investigative Site, Scottsdale, Arizo...  \n",
       "69718  Site #408, La Jolla, California, United States...  \n",
       "\n",
       "[69719 rows x 16 columns]"
      ]
     },
     "execution_count": 3,
     "metadata": {},
     "output_type": "execute_result"
    }
   ],
   "source": [
    "cd"
   ]
  },
  {
   "cell_type": "code",
   "execution_count": 4,
   "id": "399dfbc1",
   "metadata": {},
   "outputs": [],
   "source": [
    "cd1=cd.loc[30001:45001]"
   ]
  },
  {
   "cell_type": "code",
   "execution_count": 5,
   "id": "ff38144a",
   "metadata": {},
   "outputs": [
    {
     "data": {
      "text/html": [
       "<div>\n",
       "<style scoped>\n",
       "    .dataframe tbody tr th:only-of-type {\n",
       "        vertical-align: middle;\n",
       "    }\n",
       "\n",
       "    .dataframe tbody tr th {\n",
       "        vertical-align: top;\n",
       "    }\n",
       "\n",
       "    .dataframe thead th {\n",
       "        text-align: right;\n",
       "    }\n",
       "</style>\n",
       "<table border=\"1\" class=\"dataframe\">\n",
       "  <thead>\n",
       "    <tr style=\"text-align: right;\">\n",
       "      <th></th>\n",
       "      <th>Title</th>\n",
       "      <th>Status</th>\n",
       "      <th>Study Results</th>\n",
       "      <th>Conditions</th>\n",
       "      <th>Interventions</th>\n",
       "      <th>Outcome Measures</th>\n",
       "      <th>Sponsor/Collaborators</th>\n",
       "      <th>Gender</th>\n",
       "      <th>Age</th>\n",
       "      <th>Phases</th>\n",
       "      <th>Enrollment</th>\n",
       "      <th>Funded Bys</th>\n",
       "      <th>Study Type</th>\n",
       "      <th>Study Designs</th>\n",
       "      <th>Other IDs</th>\n",
       "      <th>Locations</th>\n",
       "    </tr>\n",
       "  </thead>\n",
       "  <tbody>\n",
       "    <tr>\n",
       "      <th>30001</th>\n",
       "      <td>Multidomain Intervention on Modifiable Lifesty...</td>\n",
       "      <td>Completed</td>\n",
       "      <td>No Results Available</td>\n",
       "      <td>Risk Behavior|Cognitive Decline</td>\n",
       "      <td>Behavioral: Luci Coach Assisted Intervention</td>\n",
       "      <td>Enrollment Ratio|Recruitment Rate|Acceptabilit...</td>\n",
       "      <td>LuciLab|Centre de Recherche de l'Institut Univ...</td>\n",
       "      <td>All</td>\n",
       "      <td>50 Years to 70 Years   (Adult, Older Adult)</td>\n",
       "      <td>Not Applicable</td>\n",
       "      <td>120.0</td>\n",
       "      <td>Industry|Other</td>\n",
       "      <td>Interventional</td>\n",
       "      <td>Allocation: Randomized|Intervention Model: Par...</td>\n",
       "      <td>LUCI-02</td>\n",
       "      <td>Lucilab, Montréal, Quebec, Canada</td>\n",
       "    </tr>\n",
       "    <tr>\n",
       "      <th>30002</th>\n",
       "      <td>Drug-drug Interaction Study of Digoxin and AT-...</td>\n",
       "      <td>Completed</td>\n",
       "      <td>No Results Available</td>\n",
       "      <td>Healthy Volunteers Study</td>\n",
       "      <td>Drug: AT-527 + digoxin</td>\n",
       "      <td>To determine the effect of AT-527 on the singl...</td>\n",
       "      <td>Atea Pharmaceuticals, Inc.|Hoffmann-La Roche</td>\n",
       "      <td>All</td>\n",
       "      <td>18 Years to 55 Years   (Adult)</td>\n",
       "      <td>Phase 1</td>\n",
       "      <td>29.0</td>\n",
       "      <td>Industry</td>\n",
       "      <td>Interventional</td>\n",
       "      <td>Allocation: Non-Randomized|Intervention Model:...</td>\n",
       "      <td>AT-03A-013</td>\n",
       "      <td>Atea Study Site, Montreal, Quebec, Canada</td>\n",
       "    </tr>\n",
       "    <tr>\n",
       "      <th>30003</th>\n",
       "      <td>A Drug-Drug Interaction Study Between ATI-2173...</td>\n",
       "      <td>Completed</td>\n",
       "      <td>No Results Available</td>\n",
       "      <td>Drug Drug Interaction</td>\n",
       "      <td>Drug: ATI-2173|Drug: Midazolam|Drug: Clarithro...</td>\n",
       "      <td>Cmax of Midazolam|AUC0-t of Midazolam|AUC0-inf...</td>\n",
       "      <td>Antios Therapeutics, Inc</td>\n",
       "      <td>All</td>\n",
       "      <td>18 Years to 60 Years   (Adult)</td>\n",
       "      <td>Phase 1</td>\n",
       "      <td>36.0</td>\n",
       "      <td>Industry</td>\n",
       "      <td>Interventional</td>\n",
       "      <td>Allocation: Non-Randomized|Intervention Model:...</td>\n",
       "      <td>ANTT103</td>\n",
       "      <td>Altasciences, Montréal, Quebec, Canada</td>\n",
       "    </tr>\n",
       "    <tr>\n",
       "      <th>30004</th>\n",
       "      <td>A Drug-Drug Interaction Study Between ATI-2173...</td>\n",
       "      <td>Completed</td>\n",
       "      <td>No Results Available</td>\n",
       "      <td>Drug Interaction</td>\n",
       "      <td>Drug: ATI-2173 50 mg|Drug: Tenofovir 300Mg Ora...</td>\n",
       "      <td>Cmax of ATI-2173, clevudine, and M1 in plasma|...</td>\n",
       "      <td>Antios Therapeutics, Inc</td>\n",
       "      <td>All</td>\n",
       "      <td>18 Years to 59 Years   (Adult)</td>\n",
       "      <td>Phase 1</td>\n",
       "      <td>32.0</td>\n",
       "      <td>Industry</td>\n",
       "      <td>Interventional</td>\n",
       "      <td>Allocation: Non-Randomized|Intervention Model:...</td>\n",
       "      <td>ANTT102</td>\n",
       "      <td>Altasciences, Montréal, Quebec, Canada</td>\n",
       "    </tr>\n",
       "    <tr>\n",
       "      <th>30005</th>\n",
       "      <td>South Asian Low-sodium Trial</td>\n",
       "      <td>Terminated</td>\n",
       "      <td>No Results Available</td>\n",
       "      <td>Hypertension|Cardiovascular Diseases</td>\n",
       "      <td>Behavioral: SALT-Intervention</td>\n",
       "      <td>Recruitment|Retention|Intervention Engagement ...</td>\n",
       "      <td>University of Toronto</td>\n",
       "      <td>All</td>\n",
       "      <td>18 Years and older   (Adult, Older Adult)</td>\n",
       "      <td>Not Applicable</td>\n",
       "      <td>23.0</td>\n",
       "      <td>Other</td>\n",
       "      <td>Interventional</td>\n",
       "      <td>Allocation: Randomized|Intervention Model: Par...</td>\n",
       "      <td>37070</td>\n",
       "      <td>Social Services Network, Markham, Ontario, Canada</td>\n",
       "    </tr>\n",
       "    <tr>\n",
       "      <th>...</th>\n",
       "      <td>...</td>\n",
       "      <td>...</td>\n",
       "      <td>...</td>\n",
       "      <td>...</td>\n",
       "      <td>...</td>\n",
       "      <td>...</td>\n",
       "      <td>...</td>\n",
       "      <td>...</td>\n",
       "      <td>...</td>\n",
       "      <td>...</td>\n",
       "      <td>...</td>\n",
       "      <td>...</td>\n",
       "      <td>...</td>\n",
       "      <td>...</td>\n",
       "      <td>...</td>\n",
       "      <td>...</td>\n",
       "    </tr>\n",
       "    <tr>\n",
       "      <th>44997</th>\n",
       "      <td>Influence of a Inhaled Corticosteroid Therapy ...</td>\n",
       "      <td>Completed</td>\n",
       "      <td>No Results Available</td>\n",
       "      <td>Allergic Asthma</td>\n",
       "      <td>Other: No intervention</td>\n",
       "      <td>Bioequivalence</td>\n",
       "      <td>Technische Universität Dresden</td>\n",
       "      <td>All</td>\n",
       "      <td>6 Years to 18 Years   (Child, Adult)</td>\n",
       "      <td>Not Applicable</td>\n",
       "      <td>27.0</td>\n",
       "      <td>Other</td>\n",
       "      <td>Observational</td>\n",
       "      <td>Observational Model: Case-Crossover|Time Persp...</td>\n",
       "      <td>D5890L00015</td>\n",
       "      <td>University Children´s Hospital, Technical Univ...</td>\n",
       "    </tr>\n",
       "    <tr>\n",
       "      <th>44998</th>\n",
       "      <td>PROPOSE Quality - PReOtact in Postmenopausal O...</td>\n",
       "      <td>Completed</td>\n",
       "      <td>No Results Available</td>\n",
       "      <td>Postmenopause|Osteoporosis</td>\n",
       "      <td>Drug: Parathyroid hormone (PTH) (Preotact)</td>\n",
       "      <td>Bioequivalence</td>\n",
       "      <td>Nycomed</td>\n",
       "      <td>Female</td>\n",
       "      <td>18 Years and older   (Adult, Older Adult)</td>\n",
       "      <td>Not Applicable</td>\n",
       "      <td>110.0</td>\n",
       "      <td>Industry</td>\n",
       "      <td>Observational</td>\n",
       "      <td>Observational Model: Case-Only|Time Perspectiv...</td>\n",
       "      <td>FP-004-DE</td>\n",
       "      <td>Nycomed Deutschland GmbH, Cities in Germany, G...</td>\n",
       "    </tr>\n",
       "    <tr>\n",
       "      <th>44999</th>\n",
       "      <td>HD18 for Advanced Stages in Hodgkins Lymphoma</td>\n",
       "      <td>Completed</td>\n",
       "      <td>No Results Available</td>\n",
       "      <td>Hodgkins Lymphoma</td>\n",
       "      <td>Drug: Rituximab|Drug: BEACOPP escalated</td>\n",
       "      <td>Progression Free Survival|Overall Survival|acu...</td>\n",
       "      <td>University of Cologne</td>\n",
       "      <td>All</td>\n",
       "      <td>18 Years to 60 Years   (Adult)</td>\n",
       "      <td>Phase 3</td>\n",
       "      <td>1500.0</td>\n",
       "      <td>Other</td>\n",
       "      <td>Interventional</td>\n",
       "      <td>Allocation: Randomized|Intervention Model: Par...</td>\n",
       "      <td>HD18</td>\n",
       "      <td>1st Dept. of Medicine, Cologne University Hosp...</td>\n",
       "    </tr>\n",
       "    <tr>\n",
       "      <th>45000</th>\n",
       "      <td>Effect of Exercise Training on the Function of...</td>\n",
       "      <td>Completed</td>\n",
       "      <td>No Results Available</td>\n",
       "      <td>Metabolic Syndrome X</td>\n",
       "      <td>Behavioral: physical exercise</td>\n",
       "      <td>Primary: vasculoprotective and regenerative fu...</td>\n",
       "      <td>Hannover Medical School</td>\n",
       "      <td>All</td>\n",
       "      <td>21 Years to 75 Years   (Adult, Older Adult)</td>\n",
       "      <td>Not Applicable</td>\n",
       "      <td>24.0</td>\n",
       "      <td>Other</td>\n",
       "      <td>Interventional</td>\n",
       "      <td>Allocation: Randomized|Intervention Model: Sin...</td>\n",
       "      <td>4031215</td>\n",
       "      <td>Hannover Medical School, Hannover, Germany</td>\n",
       "    </tr>\n",
       "    <tr>\n",
       "      <th>45001</th>\n",
       "      <td>Endotoxin Challenge Study For Healthy Men and ...</td>\n",
       "      <td>Completed</td>\n",
       "      <td>No Results Available</td>\n",
       "      <td>Pulmonary Disease, Chronic Obstructive</td>\n",
       "      <td>Drug: GSK256066|Drug: Placebo</td>\n",
       "      <td>Absolute BAL neutrophils at 24 h post LPS expo...</td>\n",
       "      <td>GlaxoSmithKline</td>\n",
       "      <td>All</td>\n",
       "      <td>18 Years to 50 Years   (Adult)</td>\n",
       "      <td>Phase 1</td>\n",
       "      <td>37.0</td>\n",
       "      <td>Industry</td>\n",
       "      <td>Interventional</td>\n",
       "      <td>Allocation: Randomized|Intervention Model: Par...</td>\n",
       "      <td>IPC103711</td>\n",
       "      <td>GSK Investigational Site, Hannover, Niedersach...</td>\n",
       "    </tr>\n",
       "  </tbody>\n",
       "</table>\n",
       "<p>15001 rows × 16 columns</p>\n",
       "</div>"
      ],
      "text/plain": [
       "                                                   Title      Status  \\\n",
       "30001  Multidomain Intervention on Modifiable Lifesty...   Completed   \n",
       "30002  Drug-drug Interaction Study of Digoxin and AT-...   Completed   \n",
       "30003  A Drug-Drug Interaction Study Between ATI-2173...   Completed   \n",
       "30004  A Drug-Drug Interaction Study Between ATI-2173...   Completed   \n",
       "30005                       South Asian Low-sodium Trial  Terminated   \n",
       "...                                                  ...         ...   \n",
       "44997  Influence of a Inhaled Corticosteroid Therapy ...   Completed   \n",
       "44998  PROPOSE Quality - PReOtact in Postmenopausal O...   Completed   \n",
       "44999      HD18 for Advanced Stages in Hodgkins Lymphoma   Completed   \n",
       "45000  Effect of Exercise Training on the Function of...   Completed   \n",
       "45001  Endotoxin Challenge Study For Healthy Men and ...   Completed   \n",
       "\n",
       "              Study Results                              Conditions  \\\n",
       "30001  No Results Available         Risk Behavior|Cognitive Decline   \n",
       "30002  No Results Available                Healthy Volunteers Study   \n",
       "30003  No Results Available                   Drug Drug Interaction   \n",
       "30004  No Results Available                        Drug Interaction   \n",
       "30005  No Results Available    Hypertension|Cardiovascular Diseases   \n",
       "...                     ...                                     ...   \n",
       "44997  No Results Available                         Allergic Asthma   \n",
       "44998  No Results Available              Postmenopause|Osteoporosis   \n",
       "44999  No Results Available                       Hodgkins Lymphoma   \n",
       "45000  No Results Available                    Metabolic Syndrome X   \n",
       "45001  No Results Available  Pulmonary Disease, Chronic Obstructive   \n",
       "\n",
       "                                           Interventions  \\\n",
       "30001       Behavioral: Luci Coach Assisted Intervention   \n",
       "30002                             Drug: AT-527 + digoxin   \n",
       "30003  Drug: ATI-2173|Drug: Midazolam|Drug: Clarithro...   \n",
       "30004  Drug: ATI-2173 50 mg|Drug: Tenofovir 300Mg Ora...   \n",
       "30005                      Behavioral: SALT-Intervention   \n",
       "...                                                  ...   \n",
       "44997                             Other: No intervention   \n",
       "44998         Drug: Parathyroid hormone (PTH) (Preotact)   \n",
       "44999            Drug: Rituximab|Drug: BEACOPP escalated   \n",
       "45000                      Behavioral: physical exercise   \n",
       "45001                      Drug: GSK256066|Drug: Placebo   \n",
       "\n",
       "                                        Outcome Measures  \\\n",
       "30001  Enrollment Ratio|Recruitment Rate|Acceptabilit...   \n",
       "30002  To determine the effect of AT-527 on the singl...   \n",
       "30003  Cmax of Midazolam|AUC0-t of Midazolam|AUC0-inf...   \n",
       "30004  Cmax of ATI-2173, clevudine, and M1 in plasma|...   \n",
       "30005  Recruitment|Retention|Intervention Engagement ...   \n",
       "...                                                  ...   \n",
       "44997                                     Bioequivalence   \n",
       "44998                                     Bioequivalence   \n",
       "44999  Progression Free Survival|Overall Survival|acu...   \n",
       "45000  Primary: vasculoprotective and regenerative fu...   \n",
       "45001  Absolute BAL neutrophils at 24 h post LPS expo...   \n",
       "\n",
       "                                   Sponsor/Collaborators  Gender  \\\n",
       "30001  LuciLab|Centre de Recherche de l'Institut Univ...     All   \n",
       "30002       Atea Pharmaceuticals, Inc.|Hoffmann-La Roche     All   \n",
       "30003                           Antios Therapeutics, Inc     All   \n",
       "30004                           Antios Therapeutics, Inc     All   \n",
       "30005                              University of Toronto     All   \n",
       "...                                                  ...     ...   \n",
       "44997                     Technische Universität Dresden     All   \n",
       "44998                                            Nycomed  Female   \n",
       "44999                              University of Cologne     All   \n",
       "45000                            Hannover Medical School     All   \n",
       "45001                                    GlaxoSmithKline     All   \n",
       "\n",
       "                                               Age          Phases  \\\n",
       "30001  50 Years to 70 Years   (Adult, Older Adult)  Not Applicable   \n",
       "30002               18 Years to 55 Years   (Adult)         Phase 1   \n",
       "30003               18 Years to 60 Years   (Adult)         Phase 1   \n",
       "30004               18 Years to 59 Years   (Adult)         Phase 1   \n",
       "30005    18 Years and older   (Adult, Older Adult)  Not Applicable   \n",
       "...                                            ...             ...   \n",
       "44997         6 Years to 18 Years   (Child, Adult)  Not Applicable   \n",
       "44998    18 Years and older   (Adult, Older Adult)  Not Applicable   \n",
       "44999               18 Years to 60 Years   (Adult)         Phase 3   \n",
       "45000  21 Years to 75 Years   (Adult, Older Adult)  Not Applicable   \n",
       "45001               18 Years to 50 Years   (Adult)         Phase 1   \n",
       "\n",
       "       Enrollment      Funded Bys      Study Type  \\\n",
       "30001       120.0  Industry|Other  Interventional   \n",
       "30002        29.0        Industry  Interventional   \n",
       "30003        36.0        Industry  Interventional   \n",
       "30004        32.0        Industry  Interventional   \n",
       "30005        23.0           Other  Interventional   \n",
       "...           ...             ...             ...   \n",
       "44997        27.0           Other   Observational   \n",
       "44998       110.0        Industry   Observational   \n",
       "44999      1500.0           Other  Interventional   \n",
       "45000        24.0           Other  Interventional   \n",
       "45001        37.0        Industry  Interventional   \n",
       "\n",
       "                                           Study Designs    Other IDs  \\\n",
       "30001  Allocation: Randomized|Intervention Model: Par...      LUCI-02   \n",
       "30002  Allocation: Non-Randomized|Intervention Model:...   AT-03A-013   \n",
       "30003  Allocation: Non-Randomized|Intervention Model:...      ANTT103   \n",
       "30004  Allocation: Non-Randomized|Intervention Model:...      ANTT102   \n",
       "30005  Allocation: Randomized|Intervention Model: Par...        37070   \n",
       "...                                                  ...          ...   \n",
       "44997  Observational Model: Case-Crossover|Time Persp...  D5890L00015   \n",
       "44998  Observational Model: Case-Only|Time Perspectiv...    FP-004-DE   \n",
       "44999  Allocation: Randomized|Intervention Model: Par...         HD18   \n",
       "45000  Allocation: Randomized|Intervention Model: Sin...      4031215   \n",
       "45001  Allocation: Randomized|Intervention Model: Par...    IPC103711   \n",
       "\n",
       "                                               Locations  \n",
       "30001                  Lucilab, Montréal, Quebec, Canada  \n",
       "30002          Atea Study Site, Montreal, Quebec, Canada  \n",
       "30003             Altasciences, Montréal, Quebec, Canada  \n",
       "30004             Altasciences, Montréal, Quebec, Canada  \n",
       "30005  Social Services Network, Markham, Ontario, Canada  \n",
       "...                                                  ...  \n",
       "44997  University Children´s Hospital, Technical Univ...  \n",
       "44998  Nycomed Deutschland GmbH, Cities in Germany, G...  \n",
       "44999  1st Dept. of Medicine, Cologne University Hosp...  \n",
       "45000         Hannover Medical School, Hannover, Germany  \n",
       "45001  GSK Investigational Site, Hannover, Niedersach...  \n",
       "\n",
       "[15001 rows x 16 columns]"
      ]
     },
     "execution_count": 5,
     "metadata": {},
     "output_type": "execute_result"
    }
   ],
   "source": [
    "cd1"
   ]
  },
  {
   "cell_type": "code",
   "execution_count": 6,
   "id": "9687c922",
   "metadata": {},
   "outputs": [],
   "source": [
    "cd1.to_csv(r'C:/Users/rabhi/OneDrive/Documents/Data_Sample_3.csv', index = False, header = True)"
   ]
  },
  {
   "cell_type": "code",
   "execution_count": 7,
   "id": "d1107a06",
   "metadata": {},
   "outputs": [],
   "source": [
    "i4=pd.read_csv(\"C:/Users/rabhi/OneDrive/Documents/I4.csv\")"
   ]
  },
  {
   "cell_type": "code",
   "execution_count": 8,
   "id": "1dc24478",
   "metadata": {},
   "outputs": [],
   "source": [
    "i4[['Allocation', 'IModel','Masking','Primary Purpose']] = i4['Study Designs'].str.split('|', expand=True)"
   ]
  },
  {
   "cell_type": "code",
   "execution_count": 9,
   "id": "7844f644",
   "metadata": {},
   "outputs": [],
   "source": [
    "i4.to_csv(r'C:/Users/rabhi/OneDrive/Documents/I44.csv', index = False, header = True)"
   ]
  },
  {
   "cell_type": "code",
   "execution_count": 10,
   "id": "afdb001b",
   "metadata": {},
   "outputs": [],
   "source": [
    "o4=pd.read_csv('C:/Users/rabhi/OneDrive/Documents/O4.csv')"
   ]
  },
  {
   "cell_type": "code",
   "execution_count": 11,
   "id": "c1d8f533",
   "metadata": {},
   "outputs": [],
   "source": [
    "o4[['OModel','Time Perspective']] = o4['Study Designs'].str.split('|', expand=True)"
   ]
  },
  {
   "cell_type": "code",
   "execution_count": 12,
   "id": "49c03a4a",
   "metadata": {},
   "outputs": [],
   "source": [
    "o4.to_csv(r'C:/Users/rabhi/OneDrive/Documents/O44.csv', index = False, header = True)"
   ]
  },
  {
   "cell_type": "code",
   "execution_count": 13,
   "id": "822d3a7e",
   "metadata": {},
   "outputs": [],
   "source": [
    "cds4=pd.read_csv(\"C:/Users/rabhi/OneDrive/Documents/S4.csv\")"
   ]
  },
  {
   "cell_type": "code",
   "execution_count": 14,
   "id": "41716e1c",
   "metadata": {},
   "outputs": [
    {
     "data": {
      "text/html": [
       "<div>\n",
       "<style scoped>\n",
       "    .dataframe tbody tr th:only-of-type {\n",
       "        vertical-align: middle;\n",
       "    }\n",
       "\n",
       "    .dataframe tbody tr th {\n",
       "        vertical-align: top;\n",
       "    }\n",
       "\n",
       "    .dataframe thead th {\n",
       "        text-align: right;\n",
       "    }\n",
       "</style>\n",
       "<table border=\"1\" class=\"dataframe\">\n",
       "  <thead>\n",
       "    <tr style=\"text-align: right;\">\n",
       "      <th></th>\n",
       "      <th>Title</th>\n",
       "      <th>Status</th>\n",
       "      <th>Study Results</th>\n",
       "      <th>Conditions</th>\n",
       "      <th>Interventions</th>\n",
       "      <th>Outcome Measures</th>\n",
       "      <th>Sponsor/Collaborators</th>\n",
       "      <th>Gender</th>\n",
       "      <th>Age</th>\n",
       "      <th>Phases</th>\n",
       "      <th>...</th>\n",
       "      <th>Study Type</th>\n",
       "      <th>Study Designs</th>\n",
       "      <th>Other IDs</th>\n",
       "      <th>Locations</th>\n",
       "      <th>Allocation</th>\n",
       "      <th>IModel</th>\n",
       "      <th>Masking</th>\n",
       "      <th>Primary Purpose</th>\n",
       "      <th>Omodel</th>\n",
       "      <th>Time Perspective</th>\n",
       "    </tr>\n",
       "  </thead>\n",
       "  <tbody>\n",
       "    <tr>\n",
       "      <th>0</th>\n",
       "      <td>Multidomain Intervention on Modifiable Lifesty...</td>\n",
       "      <td>Completed</td>\n",
       "      <td>No Results Available</td>\n",
       "      <td>Risk Behavior|Cognitive Decline</td>\n",
       "      <td>Behavioral: Luci Coach Assisted Intervention</td>\n",
       "      <td>Enrollment Ratio|Recruitment Rate|Acceptabilit...</td>\n",
       "      <td>LuciLab|Centre de Recherche de l'Institut Univ...</td>\n",
       "      <td>All</td>\n",
       "      <td>50 Years to 70 Years   (Adult, Older Adult)</td>\n",
       "      <td>Not Applicable</td>\n",
       "      <td>...</td>\n",
       "      <td>Interventional</td>\n",
       "      <td>Allocation: Randomized|Intervention Model: Par...</td>\n",
       "      <td>LUCI-02</td>\n",
       "      <td>Lucilab, Montréal, Quebec, Canada</td>\n",
       "      <td>Allocation: Randomized</td>\n",
       "      <td>Intervention Model: Parallel Assignment</td>\n",
       "      <td>Masking: Double (Participant, Outcomes Assessor)</td>\n",
       "      <td>Primary Purpose: Prevention</td>\n",
       "      <td>None</td>\n",
       "      <td>None</td>\n",
       "    </tr>\n",
       "    <tr>\n",
       "      <th>1</th>\n",
       "      <td>Drug-drug Interaction Study of Digoxin and AT-...</td>\n",
       "      <td>Completed</td>\n",
       "      <td>No Results Available</td>\n",
       "      <td>Healthy Volunteers Study</td>\n",
       "      <td>Drug: AT-527 + digoxin</td>\n",
       "      <td>To determine the effect of AT-527 on the singl...</td>\n",
       "      <td>Atea Pharmaceuticals, Inc.|Hoffmann-La Roche</td>\n",
       "      <td>All</td>\n",
       "      <td>18 Years to 55 Years   (Adult)</td>\n",
       "      <td>Phase 1</td>\n",
       "      <td>...</td>\n",
       "      <td>Interventional</td>\n",
       "      <td>Allocation: Non-Randomized|Intervention Model:...</td>\n",
       "      <td>AT-03A-013</td>\n",
       "      <td>Atea Study Site, Montreal, Quebec, Canada</td>\n",
       "      <td>Allocation: Non-Randomized</td>\n",
       "      <td>Intervention Model: Parallel Assignment</td>\n",
       "      <td>Masking: None (Open Label)</td>\n",
       "      <td>Primary Purpose: Treatment</td>\n",
       "      <td>None</td>\n",
       "      <td>None</td>\n",
       "    </tr>\n",
       "    <tr>\n",
       "      <th>2</th>\n",
       "      <td>A Drug-Drug Interaction Study Between ATI-2173...</td>\n",
       "      <td>Completed</td>\n",
       "      <td>No Results Available</td>\n",
       "      <td>Drug Drug Interaction</td>\n",
       "      <td>Drug: ATI-2173|Drug: Midazolam|Drug: Clarithro...</td>\n",
       "      <td>Cmax of Midazolam|AUC0-t of Midazolam|AUC0-inf...</td>\n",
       "      <td>Antios Therapeutics, Inc</td>\n",
       "      <td>All</td>\n",
       "      <td>18 Years to 60 Years   (Adult)</td>\n",
       "      <td>Phase 1</td>\n",
       "      <td>...</td>\n",
       "      <td>Interventional</td>\n",
       "      <td>Allocation: Non-Randomized|Intervention Model:...</td>\n",
       "      <td>ANTT103</td>\n",
       "      <td>Altasciences, Montréal, Quebec, Canada</td>\n",
       "      <td>Allocation: Non-Randomized</td>\n",
       "      <td>Intervention Model: Sequential Assignment</td>\n",
       "      <td>Masking: None (Open Label)</td>\n",
       "      <td>Primary Purpose: Treatment</td>\n",
       "      <td>None</td>\n",
       "      <td>None</td>\n",
       "    </tr>\n",
       "    <tr>\n",
       "      <th>3</th>\n",
       "      <td>A Drug-Drug Interaction Study Between ATI-2173...</td>\n",
       "      <td>Completed</td>\n",
       "      <td>No Results Available</td>\n",
       "      <td>Drug Interaction</td>\n",
       "      <td>Drug: ATI-2173 50 mg|Drug: Tenofovir 300Mg Ora...</td>\n",
       "      <td>Cmax of ATI-2173, clevudine, and M1 in plasma|...</td>\n",
       "      <td>Antios Therapeutics, Inc</td>\n",
       "      <td>All</td>\n",
       "      <td>18 Years to 59 Years   (Adult)</td>\n",
       "      <td>Phase 1</td>\n",
       "      <td>...</td>\n",
       "      <td>Interventional</td>\n",
       "      <td>Allocation: Non-Randomized|Intervention Model:...</td>\n",
       "      <td>ANTT102</td>\n",
       "      <td>Altasciences, Montréal, Quebec, Canada</td>\n",
       "      <td>Allocation: Non-Randomized</td>\n",
       "      <td>Intervention Model: Sequential Assignment</td>\n",
       "      <td>Masking: None (Open Label)</td>\n",
       "      <td>Primary Purpose: Treatment</td>\n",
       "      <td>None</td>\n",
       "      <td>None</td>\n",
       "    </tr>\n",
       "    <tr>\n",
       "      <th>4</th>\n",
       "      <td>South Asian Low-sodium Trial</td>\n",
       "      <td>Terminated</td>\n",
       "      <td>No Results Available</td>\n",
       "      <td>Hypertension|Cardiovascular Diseases</td>\n",
       "      <td>Behavioral: SALT-Intervention</td>\n",
       "      <td>Recruitment|Retention|Intervention Engagement ...</td>\n",
       "      <td>University of Toronto</td>\n",
       "      <td>All</td>\n",
       "      <td>18 Years and older   (Adult, Older Adult)</td>\n",
       "      <td>Not Applicable</td>\n",
       "      <td>...</td>\n",
       "      <td>Interventional</td>\n",
       "      <td>Allocation: Randomized|Intervention Model: Par...</td>\n",
       "      <td>37070</td>\n",
       "      <td>Social Services Network, Markham, Ontario, Canada</td>\n",
       "      <td>Allocation: Randomized</td>\n",
       "      <td>Intervention Model: Parallel Assignment</td>\n",
       "      <td>Masking: Single (Outcomes Assessor)</td>\n",
       "      <td>Primary Purpose: Prevention</td>\n",
       "      <td>None</td>\n",
       "      <td>None</td>\n",
       "    </tr>\n",
       "    <tr>\n",
       "      <th>...</th>\n",
       "      <td>...</td>\n",
       "      <td>...</td>\n",
       "      <td>...</td>\n",
       "      <td>...</td>\n",
       "      <td>...</td>\n",
       "      <td>...</td>\n",
       "      <td>...</td>\n",
       "      <td>...</td>\n",
       "      <td>...</td>\n",
       "      <td>...</td>\n",
       "      <td>...</td>\n",
       "      <td>...</td>\n",
       "      <td>...</td>\n",
       "      <td>...</td>\n",
       "      <td>...</td>\n",
       "      <td>...</td>\n",
       "      <td>...</td>\n",
       "      <td>...</td>\n",
       "      <td>...</td>\n",
       "      <td>...</td>\n",
       "      <td>...</td>\n",
       "    </tr>\n",
       "    <tr>\n",
       "      <th>14742</th>\n",
       "      <td>Use of Oral Contraceptives (OCs) Containing Di...</td>\n",
       "      <td>Completed</td>\n",
       "      <td>Has Results</td>\n",
       "      <td>Venous Thromboembolism</td>\n",
       "      <td>Other: No intervention</td>\n",
       "      <td>Risk of Venous Thromboembolism (VTE) Between W...</td>\n",
       "      <td>Center for Epidemiology and Health Research, G...</td>\n",
       "      <td>Female</td>\n",
       "      <td>15 Years to 49 Years   (Child, Adult)</td>\n",
       "      <td>Not Applicable</td>\n",
       "      <td>...</td>\n",
       "      <td>Observational</td>\n",
       "      <td>Observational Model: Case-Control</td>\n",
       "      <td>ZEG2007_02</td>\n",
       "      <td>Center for Epidemilogy and Health Research, Be...</td>\n",
       "      <td>None</td>\n",
       "      <td>None</td>\n",
       "      <td>None</td>\n",
       "      <td>None</td>\n",
       "      <td>Observational Model: Case-Control</td>\n",
       "      <td>None</td>\n",
       "    </tr>\n",
       "    <tr>\n",
       "      <th>14743</th>\n",
       "      <td>Effect of Different Working Conditions on Risk...</td>\n",
       "      <td>Completed</td>\n",
       "      <td>No Results Available</td>\n",
       "      <td>Healthy</td>\n",
       "      <td>Other: No intervention</td>\n",
       "      <td>Bioequivalence</td>\n",
       "      <td>University of Erlangen-Nürnberg Medical School...</td>\n",
       "      <td>All</td>\n",
       "      <td>19 Years to 60 Years   (Adult)</td>\n",
       "      <td>Not Applicable</td>\n",
       "      <td>...</td>\n",
       "      <td>Observational</td>\n",
       "      <td>Observational Model: Cohort|Time Perspective: ...</td>\n",
       "      <td>ZPII-2007-10</td>\n",
       "      <td>Zahn-, Mund- und Kieferklinik, University of E...</td>\n",
       "      <td>None</td>\n",
       "      <td>None</td>\n",
       "      <td>None</td>\n",
       "      <td>None</td>\n",
       "      <td>Observational Model: Cohort</td>\n",
       "      <td>Time Perspective: Prospective</td>\n",
       "    </tr>\n",
       "    <tr>\n",
       "      <th>14744</th>\n",
       "      <td>Influence of Mild Therapeutic Hypothermia on L...</td>\n",
       "      <td>Terminated</td>\n",
       "      <td>No Results Available</td>\n",
       "      <td>Ventricular Fibrillation</td>\n",
       "      <td>Other: No intervention</td>\n",
       "      <td>Bioequivalence</td>\n",
       "      <td>Charite University, Berlin, Germany</td>\n",
       "      <td>All</td>\n",
       "      <td>18 Years to 90 Years   (Adult, Older Adult)</td>\n",
       "      <td>Not Applicable</td>\n",
       "      <td>...</td>\n",
       "      <td>Observational</td>\n",
       "      <td>Observational Model: Case-Control|Time Perspec...</td>\n",
       "      <td>I-STU-26</td>\n",
       "      <td>Charite University Hospital, Berlin, Germany</td>\n",
       "      <td>None</td>\n",
       "      <td>None</td>\n",
       "      <td>None</td>\n",
       "      <td>None</td>\n",
       "      <td>Observational Model: Case-Control</td>\n",
       "      <td>Time Perspective: Prospective</td>\n",
       "    </tr>\n",
       "    <tr>\n",
       "      <th>14745</th>\n",
       "      <td>Influence of a Inhaled Corticosteroid Therapy ...</td>\n",
       "      <td>Completed</td>\n",
       "      <td>No Results Available</td>\n",
       "      <td>Allergic Asthma</td>\n",
       "      <td>Other: No intervention</td>\n",
       "      <td>Bioequivalence</td>\n",
       "      <td>Technische Universität Dresden</td>\n",
       "      <td>All</td>\n",
       "      <td>6 Years to 18 Years   (Child, Adult)</td>\n",
       "      <td>Not Applicable</td>\n",
       "      <td>...</td>\n",
       "      <td>Observational</td>\n",
       "      <td>Observational Model: Case-Crossover|Time Persp...</td>\n",
       "      <td>D5890L00015</td>\n",
       "      <td>University Children´s Hospital, Technical Univ...</td>\n",
       "      <td>None</td>\n",
       "      <td>None</td>\n",
       "      <td>None</td>\n",
       "      <td>None</td>\n",
       "      <td>Observational Model: Case-Crossover</td>\n",
       "      <td>Time Perspective: Prospective</td>\n",
       "    </tr>\n",
       "    <tr>\n",
       "      <th>14746</th>\n",
       "      <td>PROPOSE Quality - PReOtact in Postmenopausal O...</td>\n",
       "      <td>Completed</td>\n",
       "      <td>No Results Available</td>\n",
       "      <td>Postmenopause|Osteoporosis</td>\n",
       "      <td>Drug: Parathyroid hormone (PTH) (Preotact)</td>\n",
       "      <td>Bioequivalence</td>\n",
       "      <td>Nycomed</td>\n",
       "      <td>Female</td>\n",
       "      <td>18 Years and older   (Adult, Older Adult)</td>\n",
       "      <td>Not Applicable</td>\n",
       "      <td>...</td>\n",
       "      <td>Observational</td>\n",
       "      <td>Observational Model: Case-Only|Time Perspectiv...</td>\n",
       "      <td>FP-004-DE</td>\n",
       "      <td>Nycomed Deutschland GmbH, Cities in Germany, G...</td>\n",
       "      <td>None</td>\n",
       "      <td>None</td>\n",
       "      <td>None</td>\n",
       "      <td>None</td>\n",
       "      <td>Observational Model: Case-Only</td>\n",
       "      <td>Time Perspective: Prospective</td>\n",
       "    </tr>\n",
       "  </tbody>\n",
       "</table>\n",
       "<p>14747 rows × 22 columns</p>\n",
       "</div>"
      ],
      "text/plain": [
       "                                                   Title      Status  \\\n",
       "0      Multidomain Intervention on Modifiable Lifesty...   Completed   \n",
       "1      Drug-drug Interaction Study of Digoxin and AT-...   Completed   \n",
       "2      A Drug-Drug Interaction Study Between ATI-2173...   Completed   \n",
       "3      A Drug-Drug Interaction Study Between ATI-2173...   Completed   \n",
       "4                           South Asian Low-sodium Trial  Terminated   \n",
       "...                                                  ...         ...   \n",
       "14742  Use of Oral Contraceptives (OCs) Containing Di...   Completed   \n",
       "14743  Effect of Different Working Conditions on Risk...   Completed   \n",
       "14744  Influence of Mild Therapeutic Hypothermia on L...  Terminated   \n",
       "14745  Influence of a Inhaled Corticosteroid Therapy ...   Completed   \n",
       "14746  PROPOSE Quality - PReOtact in Postmenopausal O...   Completed   \n",
       "\n",
       "              Study Results                            Conditions  \\\n",
       "0      No Results Available       Risk Behavior|Cognitive Decline   \n",
       "1      No Results Available              Healthy Volunteers Study   \n",
       "2      No Results Available                 Drug Drug Interaction   \n",
       "3      No Results Available                      Drug Interaction   \n",
       "4      No Results Available  Hypertension|Cardiovascular Diseases   \n",
       "...                     ...                                   ...   \n",
       "14742           Has Results                Venous Thromboembolism   \n",
       "14743  No Results Available                               Healthy   \n",
       "14744  No Results Available              Ventricular Fibrillation   \n",
       "14745  No Results Available                       Allergic Asthma   \n",
       "14746  No Results Available            Postmenopause|Osteoporosis   \n",
       "\n",
       "                                           Interventions  \\\n",
       "0           Behavioral: Luci Coach Assisted Intervention   \n",
       "1                                 Drug: AT-527 + digoxin   \n",
       "2      Drug: ATI-2173|Drug: Midazolam|Drug: Clarithro...   \n",
       "3      Drug: ATI-2173 50 mg|Drug: Tenofovir 300Mg Ora...   \n",
       "4                          Behavioral: SALT-Intervention   \n",
       "...                                                  ...   \n",
       "14742                             Other: No intervention   \n",
       "14743                             Other: No intervention   \n",
       "14744                             Other: No intervention   \n",
       "14745                             Other: No intervention   \n",
       "14746         Drug: Parathyroid hormone (PTH) (Preotact)   \n",
       "\n",
       "                                        Outcome Measures  \\\n",
       "0      Enrollment Ratio|Recruitment Rate|Acceptabilit...   \n",
       "1      To determine the effect of AT-527 on the singl...   \n",
       "2      Cmax of Midazolam|AUC0-t of Midazolam|AUC0-inf...   \n",
       "3      Cmax of ATI-2173, clevudine, and M1 in plasma|...   \n",
       "4      Recruitment|Retention|Intervention Engagement ...   \n",
       "...                                                  ...   \n",
       "14742  Risk of Venous Thromboembolism (VTE) Between W...   \n",
       "14743                                     Bioequivalence   \n",
       "14744                                     Bioequivalence   \n",
       "14745                                     Bioequivalence   \n",
       "14746                                     Bioequivalence   \n",
       "\n",
       "                                   Sponsor/Collaborators  Gender  \\\n",
       "0      LuciLab|Centre de Recherche de l'Institut Univ...     All   \n",
       "1           Atea Pharmaceuticals, Inc.|Hoffmann-La Roche     All   \n",
       "2                               Antios Therapeutics, Inc     All   \n",
       "3                               Antios Therapeutics, Inc     All   \n",
       "4                                  University of Toronto     All   \n",
       "...                                                  ...     ...   \n",
       "14742  Center for Epidemiology and Health Research, G...  Female   \n",
       "14743  University of Erlangen-Nürnberg Medical School...     All   \n",
       "14744                Charite University, Berlin, Germany     All   \n",
       "14745                     Technische Universität Dresden     All   \n",
       "14746                                            Nycomed  Female   \n",
       "\n",
       "                                               Age          Phases  ...  \\\n",
       "0      50 Years to 70 Years   (Adult, Older Adult)  Not Applicable  ...   \n",
       "1                   18 Years to 55 Years   (Adult)         Phase 1  ...   \n",
       "2                   18 Years to 60 Years   (Adult)         Phase 1  ...   \n",
       "3                   18 Years to 59 Years   (Adult)         Phase 1  ...   \n",
       "4        18 Years and older   (Adult, Older Adult)  Not Applicable  ...   \n",
       "...                                            ...             ...  ...   \n",
       "14742        15 Years to 49 Years   (Child, Adult)  Not Applicable  ...   \n",
       "14743               19 Years to 60 Years   (Adult)  Not Applicable  ...   \n",
       "14744  18 Years to 90 Years   (Adult, Older Adult)  Not Applicable  ...   \n",
       "14745         6 Years to 18 Years   (Child, Adult)  Not Applicable  ...   \n",
       "14746    18 Years and older   (Adult, Older Adult)  Not Applicable  ...   \n",
       "\n",
       "           Study Type                                      Study Designs  \\\n",
       "0      Interventional  Allocation: Randomized|Intervention Model: Par...   \n",
       "1      Interventional  Allocation: Non-Randomized|Intervention Model:...   \n",
       "2      Interventional  Allocation: Non-Randomized|Intervention Model:...   \n",
       "3      Interventional  Allocation: Non-Randomized|Intervention Model:...   \n",
       "4      Interventional  Allocation: Randomized|Intervention Model: Par...   \n",
       "...               ...                                                ...   \n",
       "14742   Observational                  Observational Model: Case-Control   \n",
       "14743   Observational  Observational Model: Cohort|Time Perspective: ...   \n",
       "14744   Observational  Observational Model: Case-Control|Time Perspec...   \n",
       "14745   Observational  Observational Model: Case-Crossover|Time Persp...   \n",
       "14746   Observational  Observational Model: Case-Only|Time Perspectiv...   \n",
       "\n",
       "          Other IDs                                          Locations  \\\n",
       "0           LUCI-02                  Lucilab, Montréal, Quebec, Canada   \n",
       "1        AT-03A-013          Atea Study Site, Montreal, Quebec, Canada   \n",
       "2           ANTT103             Altasciences, Montréal, Quebec, Canada   \n",
       "3           ANTT102             Altasciences, Montréal, Quebec, Canada   \n",
       "4             37070  Social Services Network, Markham, Ontario, Canada   \n",
       "...             ...                                                ...   \n",
       "14742    ZEG2007_02  Center for Epidemilogy and Health Research, Be...   \n",
       "14743  ZPII-2007-10  Zahn-, Mund- und Kieferklinik, University of E...   \n",
       "14744      I-STU-26       Charite University Hospital, Berlin, Germany   \n",
       "14745   D5890L00015  University Children´s Hospital, Technical Univ...   \n",
       "14746     FP-004-DE  Nycomed Deutschland GmbH, Cities in Germany, G...   \n",
       "\n",
       "                       Allocation                                     IModel  \\\n",
       "0          Allocation: Randomized    Intervention Model: Parallel Assignment   \n",
       "1      Allocation: Non-Randomized    Intervention Model: Parallel Assignment   \n",
       "2      Allocation: Non-Randomized  Intervention Model: Sequential Assignment   \n",
       "3      Allocation: Non-Randomized  Intervention Model: Sequential Assignment   \n",
       "4          Allocation: Randomized    Intervention Model: Parallel Assignment   \n",
       "...                           ...                                        ...   \n",
       "14742                        None                                       None   \n",
       "14743                        None                                       None   \n",
       "14744                        None                                       None   \n",
       "14745                        None                                       None   \n",
       "14746                        None                                       None   \n",
       "\n",
       "                                                Masking  \\\n",
       "0      Masking: Double (Participant, Outcomes Assessor)   \n",
       "1                            Masking: None (Open Label)   \n",
       "2                            Masking: None (Open Label)   \n",
       "3                            Masking: None (Open Label)   \n",
       "4                   Masking: Single (Outcomes Assessor)   \n",
       "...                                                 ...   \n",
       "14742                                              None   \n",
       "14743                                              None   \n",
       "14744                                              None   \n",
       "14745                                              None   \n",
       "14746                                              None   \n",
       "\n",
       "                   Primary Purpose                               Omodel  \\\n",
       "0      Primary Purpose: Prevention                                 None   \n",
       "1       Primary Purpose: Treatment                                 None   \n",
       "2       Primary Purpose: Treatment                                 None   \n",
       "3       Primary Purpose: Treatment                                 None   \n",
       "4      Primary Purpose: Prevention                                 None   \n",
       "...                            ...                                  ...   \n",
       "14742                         None    Observational Model: Case-Control   \n",
       "14743                         None          Observational Model: Cohort   \n",
       "14744                         None    Observational Model: Case-Control   \n",
       "14745                         None  Observational Model: Case-Crossover   \n",
       "14746                         None       Observational Model: Case-Only   \n",
       "\n",
       "                    Time Perspective  \n",
       "0                               None  \n",
       "1                               None  \n",
       "2                               None  \n",
       "3                               None  \n",
       "4                               None  \n",
       "...                              ...  \n",
       "14742                           None  \n",
       "14743  Time Perspective: Prospective  \n",
       "14744  Time Perspective: Prospective  \n",
       "14745  Time Perspective: Prospective  \n",
       "14746  Time Perspective: Prospective  \n",
       "\n",
       "[14747 rows x 22 columns]"
      ]
     },
     "execution_count": 14,
     "metadata": {},
     "output_type": "execute_result"
    }
   ],
   "source": [
    "cds4"
   ]
  },
  {
   "cell_type": "code",
   "execution_count": 15,
   "id": "4944fa20",
   "metadata": {},
   "outputs": [],
   "source": [
    "cds4=cds4.fillna(value='None')"
   ]
  },
  {
   "cell_type": "code",
   "execution_count": 16,
   "id": "344b0326",
   "metadata": {},
   "outputs": [],
   "source": [
    "cds4=cds4.drop(['Study Designs'],axis=1)"
   ]
  },
  {
   "cell_type": "code",
   "execution_count": 17,
   "id": "fb96f54f",
   "metadata": {},
   "outputs": [],
   "source": [
    "from sklearn.feature_extraction.text import TfidfVectorizer\n",
    "\n",
    "# Create a TfidfVectorizer object\n",
    "vectorizer = TfidfVectorizer(stop_words='english')\n",
    "\n",
    "l=['Title','Conditions','Interventions','Outcome Measures','Sponsor/Collaborators','Age','Other IDs','Locations']\n",
    "\n",
    "for i in l:\n",
    "    vectorizer.fit(cds4[i]) # Fit the vectorizer to the text data\n",
    "    tfidf_representation = vectorizer.transform(cds4[i]) # Transform the text data into a TF-IDF representation\n",
    "    cds4[i]=tfidf_representation.toarray()"
   ]
  },
  {
   "cell_type": "code",
   "execution_count": 18,
   "id": "8162c675",
   "metadata": {},
   "outputs": [
    {
     "name": "stdout",
     "output_type": "stream",
     "text": [
      "<class 'pandas.core.frame.DataFrame'>\n",
      "RangeIndex: 14747 entries, 0 to 14746\n",
      "Data columns (total 21 columns):\n",
      " #   Column                 Non-Null Count  Dtype  \n",
      "---  ------                 --------------  -----  \n",
      " 0   Title                  14747 non-null  float64\n",
      " 1   Status                 14747 non-null  int32  \n",
      " 2   Study Results          14747 non-null  int32  \n",
      " 3   Conditions             14747 non-null  float64\n",
      " 4   Interventions          14747 non-null  float64\n",
      " 5   Outcome Measures       14747 non-null  float64\n",
      " 6   Sponsor/Collaborators  14747 non-null  float64\n",
      " 7   Gender                 14747 non-null  int32  \n",
      " 8   Age                    14747 non-null  float64\n",
      " 9   Phases                 14747 non-null  int32  \n",
      " 10  Enrollment             14747 non-null  float64\n",
      " 11  Funded Bys             14747 non-null  int32  \n",
      " 12  Study Type             14747 non-null  int32  \n",
      " 13  Other IDs              14747 non-null  float64\n",
      " 14  Locations              14747 non-null  float64\n",
      " 15  Allocation             14747 non-null  int32  \n",
      " 16  IModel                 14747 non-null  int32  \n",
      " 17  Masking                14747 non-null  int32  \n",
      " 18  Primary Purpose        14747 non-null  int32  \n",
      " 19  Omodel                 14747 non-null  int32  \n",
      " 20  Time Perspective       14747 non-null  int32  \n",
      "dtypes: float64(9), int32(12)\n",
      "memory usage: 1.7 MB\n",
      "None\n"
     ]
    }
   ],
   "source": [
    "l1=['Status','Study Results','Gender','Phases','Study Type','Allocation','IModel','Masking','Primary Purpose','Omodel','Time Perspective','Funded Bys']\n",
    "from sklearn.preprocessing import LabelEncoder\n",
    "le = LabelEncoder()\n",
    "\n",
    "for feat in l1:\n",
    "    cds4[feat] = le.fit_transform(cds4[feat].astype(str))\n",
    "\n",
    "print (cds4.info())"
   ]
  },
  {
   "cell_type": "code",
   "execution_count": 19,
   "id": "2b2debc8",
   "metadata": {},
   "outputs": [
    {
     "data": {
      "text/html": [
       "<div>\n",
       "<style scoped>\n",
       "    .dataframe tbody tr th:only-of-type {\n",
       "        vertical-align: middle;\n",
       "    }\n",
       "\n",
       "    .dataframe tbody tr th {\n",
       "        vertical-align: top;\n",
       "    }\n",
       "\n",
       "    .dataframe thead th {\n",
       "        text-align: right;\n",
       "    }\n",
       "</style>\n",
       "<table border=\"1\" class=\"dataframe\">\n",
       "  <thead>\n",
       "    <tr style=\"text-align: right;\">\n",
       "      <th></th>\n",
       "      <th>Title</th>\n",
       "      <th>Status</th>\n",
       "      <th>Study Results</th>\n",
       "      <th>Conditions</th>\n",
       "      <th>Interventions</th>\n",
       "      <th>Outcome Measures</th>\n",
       "      <th>Sponsor/Collaborators</th>\n",
       "      <th>Gender</th>\n",
       "      <th>Age</th>\n",
       "      <th>Phases</th>\n",
       "      <th>...</th>\n",
       "      <th>Funded Bys</th>\n",
       "      <th>Study Type</th>\n",
       "      <th>Other IDs</th>\n",
       "      <th>Locations</th>\n",
       "      <th>Allocation</th>\n",
       "      <th>IModel</th>\n",
       "      <th>Masking</th>\n",
       "      <th>Primary Purpose</th>\n",
       "      <th>Omodel</th>\n",
       "      <th>Time Perspective</th>\n",
       "    </tr>\n",
       "  </thead>\n",
       "  <tbody>\n",
       "    <tr>\n",
       "      <th>0</th>\n",
       "      <td>0.0</td>\n",
       "      <td>0</td>\n",
       "      <td>1</td>\n",
       "      <td>0.0</td>\n",
       "      <td>0.0</td>\n",
       "      <td>0.0</td>\n",
       "      <td>0.0</td>\n",
       "      <td>0</td>\n",
       "      <td>0.0</td>\n",
       "      <td>1</td>\n",
       "      <td>...</td>\n",
       "      <td>2</td>\n",
       "      <td>0</td>\n",
       "      <td>0.0</td>\n",
       "      <td>0.0</td>\n",
       "      <td>2</td>\n",
       "      <td>2</td>\n",
       "      <td>6</td>\n",
       "      <td>7</td>\n",
       "      <td>0</td>\n",
       "      <td>0</td>\n",
       "    </tr>\n",
       "    <tr>\n",
       "      <th>1</th>\n",
       "      <td>0.0</td>\n",
       "      <td>0</td>\n",
       "      <td>1</td>\n",
       "      <td>0.0</td>\n",
       "      <td>0.0</td>\n",
       "      <td>0.0</td>\n",
       "      <td>0.0</td>\n",
       "      <td>0</td>\n",
       "      <td>0.0</td>\n",
       "      <td>2</td>\n",
       "      <td>...</td>\n",
       "      <td>0</td>\n",
       "      <td>0</td>\n",
       "      <td>0.0</td>\n",
       "      <td>0.0</td>\n",
       "      <td>1</td>\n",
       "      <td>2</td>\n",
       "      <td>7</td>\n",
       "      <td>10</td>\n",
       "      <td>0</td>\n",
       "      <td>0</td>\n",
       "    </tr>\n",
       "    <tr>\n",
       "      <th>2</th>\n",
       "      <td>0.0</td>\n",
       "      <td>0</td>\n",
       "      <td>1</td>\n",
       "      <td>0.0</td>\n",
       "      <td>0.0</td>\n",
       "      <td>0.0</td>\n",
       "      <td>0.0</td>\n",
       "      <td>0</td>\n",
       "      <td>0.0</td>\n",
       "      <td>2</td>\n",
       "      <td>...</td>\n",
       "      <td>0</td>\n",
       "      <td>0</td>\n",
       "      <td>0.0</td>\n",
       "      <td>0.0</td>\n",
       "      <td>1</td>\n",
       "      <td>3</td>\n",
       "      <td>7</td>\n",
       "      <td>10</td>\n",
       "      <td>0</td>\n",
       "      <td>0</td>\n",
       "    </tr>\n",
       "    <tr>\n",
       "      <th>3</th>\n",
       "      <td>0.0</td>\n",
       "      <td>0</td>\n",
       "      <td>1</td>\n",
       "      <td>0.0</td>\n",
       "      <td>0.0</td>\n",
       "      <td>0.0</td>\n",
       "      <td>0.0</td>\n",
       "      <td>0</td>\n",
       "      <td>0.0</td>\n",
       "      <td>2</td>\n",
       "      <td>...</td>\n",
       "      <td>0</td>\n",
       "      <td>0</td>\n",
       "      <td>0.0</td>\n",
       "      <td>0.0</td>\n",
       "      <td>1</td>\n",
       "      <td>3</td>\n",
       "      <td>7</td>\n",
       "      <td>10</td>\n",
       "      <td>0</td>\n",
       "      <td>0</td>\n",
       "    </tr>\n",
       "    <tr>\n",
       "      <th>4</th>\n",
       "      <td>0.0</td>\n",
       "      <td>1</td>\n",
       "      <td>1</td>\n",
       "      <td>0.0</td>\n",
       "      <td>0.0</td>\n",
       "      <td>0.0</td>\n",
       "      <td>0.0</td>\n",
       "      <td>0</td>\n",
       "      <td>0.0</td>\n",
       "      <td>1</td>\n",
       "      <td>...</td>\n",
       "      <td>10</td>\n",
       "      <td>0</td>\n",
       "      <td>0.0</td>\n",
       "      <td>0.0</td>\n",
       "      <td>2</td>\n",
       "      <td>2</td>\n",
       "      <td>12</td>\n",
       "      <td>7</td>\n",
       "      <td>0</td>\n",
       "      <td>0</td>\n",
       "    </tr>\n",
       "    <tr>\n",
       "      <th>...</th>\n",
       "      <td>...</td>\n",
       "      <td>...</td>\n",
       "      <td>...</td>\n",
       "      <td>...</td>\n",
       "      <td>...</td>\n",
       "      <td>...</td>\n",
       "      <td>...</td>\n",
       "      <td>...</td>\n",
       "      <td>...</td>\n",
       "      <td>...</td>\n",
       "      <td>...</td>\n",
       "      <td>...</td>\n",
       "      <td>...</td>\n",
       "      <td>...</td>\n",
       "      <td>...</td>\n",
       "      <td>...</td>\n",
       "      <td>...</td>\n",
       "      <td>...</td>\n",
       "      <td>...</td>\n",
       "      <td>...</td>\n",
       "      <td>...</td>\n",
       "    </tr>\n",
       "    <tr>\n",
       "      <th>14742</th>\n",
       "      <td>0.0</td>\n",
       "      <td>0</td>\n",
       "      <td>0</td>\n",
       "      <td>0.0</td>\n",
       "      <td>0.0</td>\n",
       "      <td>0.0</td>\n",
       "      <td>0.0</td>\n",
       "      <td>1</td>\n",
       "      <td>0.0</td>\n",
       "      <td>1</td>\n",
       "      <td>...</td>\n",
       "      <td>11</td>\n",
       "      <td>1</td>\n",
       "      <td>0.0</td>\n",
       "      <td>0.0</td>\n",
       "      <td>3</td>\n",
       "      <td>5</td>\n",
       "      <td>18</td>\n",
       "      <td>0</td>\n",
       "      <td>1</td>\n",
       "      <td>0</td>\n",
       "    </tr>\n",
       "    <tr>\n",
       "      <th>14743</th>\n",
       "      <td>0.0</td>\n",
       "      <td>0</td>\n",
       "      <td>1</td>\n",
       "      <td>0.0</td>\n",
       "      <td>0.0</td>\n",
       "      <td>0.0</td>\n",
       "      <td>0.0</td>\n",
       "      <td>0</td>\n",
       "      <td>0.0</td>\n",
       "      <td>1</td>\n",
       "      <td>...</td>\n",
       "      <td>10</td>\n",
       "      <td>1</td>\n",
       "      <td>0.0</td>\n",
       "      <td>0.0</td>\n",
       "      <td>3</td>\n",
       "      <td>5</td>\n",
       "      <td>18</td>\n",
       "      <td>0</td>\n",
       "      <td>4</td>\n",
       "      <td>3</td>\n",
       "    </tr>\n",
       "    <tr>\n",
       "      <th>14744</th>\n",
       "      <td>0.0</td>\n",
       "      <td>1</td>\n",
       "      <td>1</td>\n",
       "      <td>0.0</td>\n",
       "      <td>0.0</td>\n",
       "      <td>0.0</td>\n",
       "      <td>0.0</td>\n",
       "      <td>0</td>\n",
       "      <td>0.0</td>\n",
       "      <td>1</td>\n",
       "      <td>...</td>\n",
       "      <td>10</td>\n",
       "      <td>1</td>\n",
       "      <td>0.0</td>\n",
       "      <td>0.0</td>\n",
       "      <td>3</td>\n",
       "      <td>5</td>\n",
       "      <td>18</td>\n",
       "      <td>0</td>\n",
       "      <td>1</td>\n",
       "      <td>3</td>\n",
       "    </tr>\n",
       "    <tr>\n",
       "      <th>14745</th>\n",
       "      <td>0.0</td>\n",
       "      <td>0</td>\n",
       "      <td>1</td>\n",
       "      <td>0.0</td>\n",
       "      <td>0.0</td>\n",
       "      <td>0.0</td>\n",
       "      <td>0.0</td>\n",
       "      <td>0</td>\n",
       "      <td>0.0</td>\n",
       "      <td>1</td>\n",
       "      <td>...</td>\n",
       "      <td>10</td>\n",
       "      <td>1</td>\n",
       "      <td>0.0</td>\n",
       "      <td>0.0</td>\n",
       "      <td>3</td>\n",
       "      <td>5</td>\n",
       "      <td>18</td>\n",
       "      <td>0</td>\n",
       "      <td>2</td>\n",
       "      <td>3</td>\n",
       "    </tr>\n",
       "    <tr>\n",
       "      <th>14746</th>\n",
       "      <td>0.0</td>\n",
       "      <td>0</td>\n",
       "      <td>1</td>\n",
       "      <td>0.0</td>\n",
       "      <td>0.0</td>\n",
       "      <td>0.0</td>\n",
       "      <td>0.0</td>\n",
       "      <td>1</td>\n",
       "      <td>0.0</td>\n",
       "      <td>1</td>\n",
       "      <td>...</td>\n",
       "      <td>0</td>\n",
       "      <td>1</td>\n",
       "      <td>0.0</td>\n",
       "      <td>0.0</td>\n",
       "      <td>3</td>\n",
       "      <td>5</td>\n",
       "      <td>18</td>\n",
       "      <td>0</td>\n",
       "      <td>3</td>\n",
       "      <td>3</td>\n",
       "    </tr>\n",
       "  </tbody>\n",
       "</table>\n",
       "<p>14747 rows × 21 columns</p>\n",
       "</div>"
      ],
      "text/plain": [
       "       Title  Status  Study Results  Conditions  Interventions  \\\n",
       "0        0.0       0              1         0.0            0.0   \n",
       "1        0.0       0              1         0.0            0.0   \n",
       "2        0.0       0              1         0.0            0.0   \n",
       "3        0.0       0              1         0.0            0.0   \n",
       "4        0.0       1              1         0.0            0.0   \n",
       "...      ...     ...            ...         ...            ...   \n",
       "14742    0.0       0              0         0.0            0.0   \n",
       "14743    0.0       0              1         0.0            0.0   \n",
       "14744    0.0       1              1         0.0            0.0   \n",
       "14745    0.0       0              1         0.0            0.0   \n",
       "14746    0.0       0              1         0.0            0.0   \n",
       "\n",
       "       Outcome Measures  Sponsor/Collaborators  Gender  Age  Phases  ...  \\\n",
       "0                   0.0                    0.0       0  0.0       1  ...   \n",
       "1                   0.0                    0.0       0  0.0       2  ...   \n",
       "2                   0.0                    0.0       0  0.0       2  ...   \n",
       "3                   0.0                    0.0       0  0.0       2  ...   \n",
       "4                   0.0                    0.0       0  0.0       1  ...   \n",
       "...                 ...                    ...     ...  ...     ...  ...   \n",
       "14742               0.0                    0.0       1  0.0       1  ...   \n",
       "14743               0.0                    0.0       0  0.0       1  ...   \n",
       "14744               0.0                    0.0       0  0.0       1  ...   \n",
       "14745               0.0                    0.0       0  0.0       1  ...   \n",
       "14746               0.0                    0.0       1  0.0       1  ...   \n",
       "\n",
       "       Funded Bys  Study Type  Other IDs  Locations  Allocation  IModel  \\\n",
       "0               2           0        0.0        0.0           2       2   \n",
       "1               0           0        0.0        0.0           1       2   \n",
       "2               0           0        0.0        0.0           1       3   \n",
       "3               0           0        0.0        0.0           1       3   \n",
       "4              10           0        0.0        0.0           2       2   \n",
       "...           ...         ...        ...        ...         ...     ...   \n",
       "14742          11           1        0.0        0.0           3       5   \n",
       "14743          10           1        0.0        0.0           3       5   \n",
       "14744          10           1        0.0        0.0           3       5   \n",
       "14745          10           1        0.0        0.0           3       5   \n",
       "14746           0           1        0.0        0.0           3       5   \n",
       "\n",
       "       Masking  Primary Purpose  Omodel  Time Perspective  \n",
       "0            6                7       0                 0  \n",
       "1            7               10       0                 0  \n",
       "2            7               10       0                 0  \n",
       "3            7               10       0                 0  \n",
       "4           12                7       0                 0  \n",
       "...        ...              ...     ...               ...  \n",
       "14742       18                0       1                 0  \n",
       "14743       18                0       4                 3  \n",
       "14744       18                0       1                 3  \n",
       "14745       18                0       2                 3  \n",
       "14746       18                0       3                 3  \n",
       "\n",
       "[14747 rows x 21 columns]"
      ]
     },
     "execution_count": 19,
     "metadata": {},
     "output_type": "execute_result"
    }
   ],
   "source": [
    "cds4"
   ]
  },
  {
   "cell_type": "code",
   "execution_count": 20,
   "id": "a48bb921",
   "metadata": {},
   "outputs": [],
   "source": [
    "x=cds4.drop(['Status'],axis=1)\n",
    "y=cds4['Status']"
   ]
  },
  {
   "cell_type": "code",
   "execution_count": 21,
   "id": "0c191a6a",
   "metadata": {},
   "outputs": [
    {
     "data": {
      "image/png": "[encoded data removed]",
      "text/plain": [
       "<Figure size 1296x1152 with 2 Axes>"
      ]
     },
     "metadata": {
      "needs_background": "light"
     },
     "output_type": "display_data"
    }
   ],
   "source": [
    "plt.figure(figsize=(18,16))\n",
    "cor=x.corr()\n",
    "sns.heatmap(cor,annot=True,cmap=plt.cm.CMRmap_r)\n",
    "plt.show()"
   ]
  },
  {
   "cell_type": "code",
   "execution_count": 22,
   "id": "0c8f083d",
   "metadata": {},
   "outputs": [],
   "source": [
    "def correlation(dataset, threshold):\n",
    "    col_corr = set()  # Set of all the names of correlated columns\n",
    "    corr_matrix = dataset.corr()\n",
    "    for i in range(len(corr_matrix.columns)):\n",
    "        for j in range(i):\n",
    "            if (abs(corr_matrix.iloc[i, j])) > threshold: # we are interested in absolute coeff value\n",
    "                colname = corr_matrix.columns[i]  # getting the name of column\n",
    "                col_corr.add(colname)\n",
    "    return col_corr"
   ]
  },
  {
   "cell_type": "code",
   "execution_count": 23,
   "id": "fc1098df",
   "metadata": {},
   "outputs": [
    {
     "data": {
      "text/plain": [
       "3"
      ]
     },
     "execution_count": 23,
     "metadata": {},
     "output_type": "execute_result"
    }
   ],
   "source": [
    "corr_features = correlation(x, 0.80)\n",
    "len(set(corr_features))"
   ]
  },
  {
   "cell_type": "code",
   "execution_count": 24,
   "id": "b73beca4",
   "metadata": {},
   "outputs": [],
   "source": [
    "x=x.drop(corr_features,axis=1)"
   ]
  },
  {
   "cell_type": "code",
   "execution_count": 25,
   "id": "94faad2f",
   "metadata": {},
   "outputs": [],
   "source": [
    "from sklearn.model_selection import train_test_split"
   ]
  },
  {
   "cell_type": "code",
   "execution_count": 26,
   "id": "fb218b2a",
   "metadata": {},
   "outputs": [],
   "source": [
    "x_train,x_test,y_train,y_test=train_test_split(x,y,test_size=0.3,random_state=100)"
   ]
  },
  {
   "cell_type": "code",
   "execution_count": 27,
   "id": "9d46ca73",
   "metadata": {},
   "outputs": [],
   "source": [
    "from sklearn.ensemble import RandomForestClassifier"
   ]
  },
  {
   "cell_type": "code",
   "execution_count": 28,
   "id": "6f8644ae",
   "metadata": {},
   "outputs": [],
   "source": [
    "rfc=RandomForestClassifier(class_weight='balanced')"
   ]
  },
  {
   "cell_type": "code",
   "execution_count": 29,
   "id": "ca4f1104",
   "metadata": {},
   "outputs": [
    {
     "data": {
      "text/html": [
       "<style>#sk-container-id-1 {color: black;background-color: white;}#sk-container-id-1 pre{padding: 0;}#sk-container-id-1 div.sk-toggleable {background-color: white;}#sk-container-id-1 label.sk-toggleable__label {cursor: pointer;display: block;width: 100%;margin-bottom: 0;padding: 0.3em;box-sizing: border-box;text-align: center;}#sk-container-id-1 label.sk-toggleable__label-arrow:before {content: \"▸\";float: left;margin-right: 0.25em;color: #696969;}#sk-container-id-1 label.sk-toggleable__label-arrow:hover:before {color: black;}#sk-container-id-1 div.sk-estimator:hover label.sk-toggleable__label-arrow:before {color: black;}#sk-container-id-1 div.sk-toggleable__content {max-height: 0;max-width: 0;overflow: hidden;text-align: left;background-color: #f0f8ff;}#sk-container-id-1 div.sk-toggleable__content pre {margin: 0.2em;color: black;border-radius: 0.25em;background-color: #f0f8ff;}#sk-container-id-1 input.sk-toggleable__control:checked~div.sk-toggleable__content {max-height: 200px;max-width: 100%;overflow: auto;}#sk-container-id-1 input.sk-toggleable__control:checked~label.sk-toggleable__label-arrow:before {content: \"▾\";}#sk-container-id-1 div.sk-estimator input.sk-toggleable__control:checked~label.sk-toggleable__label {background-color: #d4ebff;}#sk-container-id-1 div.sk-label input.sk-toggleable__control:checked~label.sk-toggleable__label {background-color: #d4ebff;}#sk-container-id-1 input.sk-hidden--visually {border: 0;clip: rect(1px 1px 1px 1px);clip: rect(1px, 1px, 1px, 1px);height: 1px;margin: -1px;overflow: hidden;padding: 0;position: absolute;width: 1px;}#sk-container-id-1 div.sk-estimator {font-family: monospace;background-color: #f0f8ff;border: 1px dotted black;border-radius: 0.25em;box-sizing: border-box;margin-bottom: 0.5em;}#sk-container-id-1 div.sk-estimator:hover {background-color: #d4ebff;}#sk-container-id-1 div.sk-parallel-item::after {content: \"\";width: 100%;border-bottom: 1px solid gray;flex-grow: 1;}#sk-container-id-1 div.sk-label:hover label.sk-toggleable__label {background-color: #d4ebff;}#sk-container-id-1 div.sk-serial::before {content: \"\";position: absolute;border-left: 1px solid gray;box-sizing: border-box;top: 0;bottom: 0;left: 50%;z-index: 0;}#sk-container-id-1 div.sk-serial {display: flex;flex-direction: column;align-items: center;background-color: white;padding-right: 0.2em;padding-left: 0.2em;position: relative;}#sk-container-id-1 div.sk-item {position: relative;z-index: 1;}#sk-container-id-1 div.sk-parallel {display: flex;align-items: stretch;justify-content: center;background-color: white;position: relative;}#sk-container-id-1 div.sk-item::before, #sk-container-id-1 div.sk-parallel-item::before {content: \"\";position: absolute;border-left: 1px solid gray;box-sizing: border-box;top: 0;bottom: 0;left: 50%;z-index: -1;}#sk-container-id-1 div.sk-parallel-item {display: flex;flex-direction: column;z-index: 1;position: relative;background-color: white;}#sk-container-id-1 div.sk-parallel-item:first-child::after {align-self: flex-end;width: 50%;}#sk-container-id-1 div.sk-parallel-item:last-child::after {align-self: flex-start;width: 50%;}#sk-container-id-1 div.sk-parallel-item:only-child::after {width: 0;}#sk-container-id-1 div.sk-dashed-wrapped {border: 1px dashed gray;margin: 0 0.4em 0.5em 0.4em;box-sizing: border-box;padding-bottom: 0.4em;background-color: white;}#sk-container-id-1 div.sk-label label {font-family: monospace;font-weight: bold;display: inline-block;line-height: 1.2em;}#sk-container-id-1 div.sk-label-container {text-align: center;}#sk-container-id-1 div.sk-container {/* jupyter's `normalize.less` sets `[hidden] { display: none; }` but bootstrap.min.css set `[hidden] { display: none !important; }` so we also need the `!important` here to be able to override the default hidden behavior on the sphinx rendered scikit-learn.org. See: https://github.com/scikit-learn/scikit-learn/issues/21755 */display: inline-block !important;position: relative;}#sk-container-id-1 div.sk-text-repr-fallback {display: none;}</style><div id=\"sk-container-id-1\" class=\"sk-top-container\"><div class=\"sk-text-repr-fallback\"><pre>RandomForestClassifier(class_weight=&#x27;balanced&#x27;)</pre><b>In a Jupyter environment, please rerun this cell to show the HTML representation or trust the notebook. <br />On GitHub, the HTML representation is unable to render, please try loading this page with nbviewer.org.</b></div><div class=\"sk-container\" hidden><div class=\"sk-item\"><div class=\"sk-estimator sk-toggleable\"><input class=\"sk-toggleable__control sk-hidden--visually\" id=\"sk-estimator-id-1\" type=\"checkbox\" checked><label for=\"sk-estimator-id-1\" class=\"sk-toggleable__label sk-toggleable__label-arrow\">RandomForestClassifier</label><div class=\"sk-toggleable__content\"><pre>RandomForestClassifier(class_weight=&#x27;balanced&#x27;)</pre></div></div></div></div></div>"
      ],
      "text/plain": [
       "RandomForestClassifier(class_weight='balanced')"
      ]
     },
     "execution_count": 29,
     "metadata": {},
     "output_type": "execute_result"
    }
   ],
   "source": [
    "rfc.fit(x_train,y_train)"
   ]
  },
  {
   "cell_type": "code",
   "execution_count": 30,
   "id": "ef8d996b",
   "metadata": {},
   "outputs": [],
   "source": [
    "y_pred_rfc=rfc.predict(x_test)"
   ]
  },
  {
   "cell_type": "code",
   "execution_count": 31,
   "id": "1ce8a852",
   "metadata": {},
   "outputs": [],
   "source": [
    "from sklearn.metrics import balanced_accuracy_score"
   ]
  },
  {
   "cell_type": "code",
   "execution_count": 32,
   "id": "078f9608",
   "metadata": {},
   "outputs": [
    {
     "data": {
      "text/plain": [
       "0.6097968154010334"
      ]
     },
     "execution_count": 32,
     "metadata": {},
     "output_type": "execute_result"
    }
   ],
   "source": [
    "balanced_acc = balanced_accuracy_score(y_test, y_pred_rfc)\n",
    "balanced_acc"
   ]
  },
  {
   "cell_type": "code",
   "execution_count": 33,
   "id": "5a224942",
   "metadata": {},
   "outputs": [],
   "source": [
    "from sklearn.metrics import recall_score, precision_score, f1_score"
   ]
  },
  {
   "cell_type": "code",
   "execution_count": 34,
   "id": "cf3a9a0a",
   "metadata": {},
   "outputs": [
    {
     "data": {
      "text/plain": [
       "0.8861016949152543"
      ]
     },
     "execution_count": 34,
     "metadata": {},
     "output_type": "execute_result"
    }
   ],
   "source": [
    "recall_score(y_test,y_pred_rfc,average='weighted')"
   ]
  },
  {
   "cell_type": "code",
   "execution_count": 35,
   "id": "0c481b16",
   "metadata": {},
   "outputs": [
    {
     "data": {
      "text/plain": [
       "0.8711402185770921"
      ]
     },
     "execution_count": 35,
     "metadata": {},
     "output_type": "execute_result"
    }
   ],
   "source": [
    "precision_score(y_test,y_pred_rfc,average='weighted')"
   ]
  },
  {
   "cell_type": "code",
   "execution_count": 36,
   "id": "8cb17eab",
   "metadata": {},
   "outputs": [
    {
     "data": {
      "text/plain": [
       "0.877607588705658"
      ]
     },
     "execution_count": 36,
     "metadata": {},
     "output_type": "execute_result"
    }
   ],
   "source": [
    "f1_score(y_test,y_pred_rfc,average='weighted')"
   ]
  },
  {
   "cell_type": "code",
   "execution_count": 37,
   "id": "4af42e73",
   "metadata": {},
   "outputs": [],
   "source": [
    "import xgboost as xgb"
   ]
  },
  {
   "cell_type": "code",
   "execution_count": 38,
   "id": "0836edfa",
   "metadata": {},
   "outputs": [],
   "source": [
    "smallest_class_count = y_train.sum()\n",
    "largest_class_count = len(y_train) - smallest_class_count\n",
    "spw = largest_class_count / smallest_class_count"
   ]
  },
  {
   "cell_type": "code",
   "execution_count": 39,
   "id": "ef1841e7",
   "metadata": {},
   "outputs": [],
   "source": [
    "xg=xgb.XGBClassifier(scale_pos_weight=spw)"
   ]
  },
  {
   "cell_type": "code",
   "execution_count": 40,
   "id": "906c6cef",
   "metadata": {},
   "outputs": [
    {
     "name": "stderr",
     "output_type": "stream",
     "text": [
      "C:\\Users\\rabhi\\anaconda3\\lib\\site-packages\\xgboost\\sklearn.py:1224: UserWarning: The use of label encoder in XGBClassifier is deprecated and will be removed in a future release. To remove this warning, do the following: 1) Pass option use_label_encoder=False when constructing XGBClassifier object; and 2) Encode your labels (y) as integers starting with 0, i.e. 0, 1, 2, ..., [num_class - 1].\n",
      "  warnings.warn(label_encoder_deprecation_msg, UserWarning)\n"
     ]
    },
    {
     "name": "stdout",
     "output_type": "stream",
     "text": [
      "[21:43:05] WARNING: ..\\src\\learner.cc:1115: Starting in XGBoost 1.3.0, the default evaluation metric used with the objective 'binary:logistic' was changed from 'error' to 'logloss'. Explicitly set eval_metric if you'd like to restore the old behavior.\n"
     ]
    },
    {
     "data": {
      "text/html": [
       "<style>#sk-container-id-2 {color: black;background-color: white;}#sk-container-id-2 pre{padding: 0;}#sk-container-id-2 div.sk-toggleable {background-color: white;}#sk-container-id-2 label.sk-toggleable__label {cursor: pointer;display: block;width: 100%;margin-bottom: 0;padding: 0.3em;box-sizing: border-box;text-align: center;}#sk-container-id-2 label.sk-toggleable__label-arrow:before {content: \"▸\";float: left;margin-right: 0.25em;color: #696969;}#sk-container-id-2 label.sk-toggleable__label-arrow:hover:before {color: black;}#sk-container-id-2 div.sk-estimator:hover label.sk-toggleable__label-arrow:before {color: black;}#sk-container-id-2 div.sk-toggleable__content {max-height: 0;max-width: 0;overflow: hidden;text-align: left;background-color: #f0f8ff;}#sk-container-id-2 div.sk-toggleable__content pre {margin: 0.2em;color: black;border-radius: 0.25em;background-color: #f0f8ff;}#sk-container-id-2 input.sk-toggleable__control:checked~div.sk-toggleable__content {max-height: 200px;max-width: 100%;overflow: auto;}#sk-container-id-2 input.sk-toggleable__control:checked~label.sk-toggleable__label-arrow:before {content: \"▾\";}#sk-container-id-2 div.sk-estimator input.sk-toggleable__control:checked~label.sk-toggleable__label {background-color: #d4ebff;}#sk-container-id-2 div.sk-label input.sk-toggleable__control:checked~label.sk-toggleable__label {background-color: #d4ebff;}#sk-container-id-2 input.sk-hidden--visually {border: 0;clip: rect(1px 1px 1px 1px);clip: rect(1px, 1px, 1px, 1px);height: 1px;margin: -1px;overflow: hidden;padding: 0;position: absolute;width: 1px;}#sk-container-id-2 div.sk-estimator {font-family: monospace;background-color: #f0f8ff;border: 1px dotted black;border-radius: 0.25em;box-sizing: border-box;margin-bottom: 0.5em;}#sk-container-id-2 div.sk-estimator:hover {background-color: #d4ebff;}#sk-container-id-2 div.sk-parallel-item::after {content: \"\";width: 100%;border-bottom: 1px solid gray;flex-grow: 1;}#sk-container-id-2 div.sk-label:hover label.sk-toggleable__label {background-color: #d4ebff;}#sk-container-id-2 div.sk-serial::before {content: \"\";position: absolute;border-left: 1px solid gray;box-sizing: border-box;top: 0;bottom: 0;left: 50%;z-index: 0;}#sk-container-id-2 div.sk-serial {display: flex;flex-direction: column;align-items: center;background-color: white;padding-right: 0.2em;padding-left: 0.2em;position: relative;}#sk-container-id-2 div.sk-item {position: relative;z-index: 1;}#sk-container-id-2 div.sk-parallel {display: flex;align-items: stretch;justify-content: center;background-color: white;position: relative;}#sk-container-id-2 div.sk-item::before, #sk-container-id-2 div.sk-parallel-item::before {content: \"\";position: absolute;border-left: 1px solid gray;box-sizing: border-box;top: 0;bottom: 0;left: 50%;z-index: -1;}#sk-container-id-2 div.sk-parallel-item {display: flex;flex-direction: column;z-index: 1;position: relative;background-color: white;}#sk-container-id-2 div.sk-parallel-item:first-child::after {align-self: flex-end;width: 50%;}#sk-container-id-2 div.sk-parallel-item:last-child::after {align-self: flex-start;width: 50%;}#sk-container-id-2 div.sk-parallel-item:only-child::after {width: 0;}#sk-container-id-2 div.sk-dashed-wrapped {border: 1px dashed gray;margin: 0 0.4em 0.5em 0.4em;box-sizing: border-box;padding-bottom: 0.4em;background-color: white;}#sk-container-id-2 div.sk-label label {font-family: monospace;font-weight: bold;display: inline-block;line-height: 1.2em;}#sk-container-id-2 div.sk-label-container {text-align: center;}#sk-container-id-2 div.sk-container {/* jupyter's `normalize.less` sets `[hidden] { display: none; }` but bootstrap.min.css set `[hidden] { display: none !important; }` so we also need the `!important` here to be able to override the default hidden behavior on the sphinx rendered scikit-learn.org. See: https://github.com/scikit-learn/scikit-learn/issues/21755 */display: inline-block !important;position: relative;}#sk-container-id-2 div.sk-text-repr-fallback {display: none;}</style><div id=\"sk-container-id-2\" class=\"sk-top-container\"><div class=\"sk-text-repr-fallback\"><pre>XGBClassifier(base_score=0.5, booster=&#x27;gbtree&#x27;, colsample_bylevel=1,\n",
       "              colsample_bynode=1, colsample_bytree=1, enable_categorical=False,\n",
       "              gamma=0, gpu_id=-1, importance_type=None,\n",
       "              interaction_constraints=&#x27;&#x27;, learning_rate=0.300000012,\n",
       "              max_delta_step=0, max_depth=6, min_child_weight=1, missing=nan,\n",
       "              monotone_constraints=&#x27;()&#x27;, n_estimators=100, n_jobs=8,\n",
       "              num_parallel_tree=1, predictor=&#x27;auto&#x27;, random_state=0,\n",
       "              reg_alpha=0, reg_lambda=1, scale_pos_weight=9.663223140495868,\n",
       "              subsample=1, tree_method=&#x27;exact&#x27;, validate_parameters=1,\n",
       "              verbosity=None)</pre><b>In a Jupyter environment, please rerun this cell to show the HTML representation or trust the notebook. <br />On GitHub, the HTML representation is unable to render, please try loading this page with nbviewer.org.</b></div><div class=\"sk-container\" hidden><div class=\"sk-item\"><div class=\"sk-estimator sk-toggleable\"><input class=\"sk-toggleable__control sk-hidden--visually\" id=\"sk-estimator-id-2\" type=\"checkbox\" checked><label for=\"sk-estimator-id-2\" class=\"sk-toggleable__label sk-toggleable__label-arrow\">XGBClassifier</label><div class=\"sk-toggleable__content\"><pre>XGBClassifier(base_score=0.5, booster=&#x27;gbtree&#x27;, colsample_bylevel=1,\n",
       "              colsample_bynode=1, colsample_bytree=1, enable_categorical=False,\n",
       "              gamma=0, gpu_id=-1, importance_type=None,\n",
       "              interaction_constraints=&#x27;&#x27;, learning_rate=0.300000012,\n",
       "              max_delta_step=0, max_depth=6, min_child_weight=1, missing=nan,\n",
       "              monotone_constraints=&#x27;()&#x27;, n_estimators=100, n_jobs=8,\n",
       "              num_parallel_tree=1, predictor=&#x27;auto&#x27;, random_state=0,\n",
       "              reg_alpha=0, reg_lambda=1, scale_pos_weight=9.663223140495868,\n",
       "              subsample=1, tree_method=&#x27;exact&#x27;, validate_parameters=1,\n",
       "              verbosity=None)</pre></div></div></div></div></div>"
      ],
      "text/plain": [
       "XGBClassifier(base_score=0.5, booster='gbtree', colsample_bylevel=1,\n",
       "              colsample_bynode=1, colsample_bytree=1, enable_categorical=False,\n",
       "              gamma=0, gpu_id=-1, importance_type=None,\n",
       "              interaction_constraints='', learning_rate=0.300000012,\n",
       "              max_delta_step=0, max_depth=6, min_child_weight=1, missing=nan,\n",
       "              monotone_constraints='()', n_estimators=100, n_jobs=8,\n",
       "              num_parallel_tree=1, predictor='auto', random_state=0,\n",
       "              reg_alpha=0, reg_lambda=1, scale_pos_weight=9.663223140495868,\n",
       "              subsample=1, tree_method='exact', validate_parameters=1,\n",
       "              verbosity=None)"
      ]
     },
     "execution_count": 40,
     "metadata": {},
     "output_type": "execute_result"
    }
   ],
   "source": [
    "xg.fit(x_train,y_train)"
   ]
  },
  {
   "cell_type": "code",
   "execution_count": 41,
   "id": "48c05c11",
   "metadata": {},
   "outputs": [],
   "source": [
    "y_pred_xg=xg.predict(x_test)"
   ]
  },
  {
   "cell_type": "code",
   "execution_count": 42,
   "id": "fa6697b8",
   "metadata": {},
   "outputs": [
    {
     "data": {
      "text/plain": [
       "0.8176271186440678"
      ]
     },
     "execution_count": 42,
     "metadata": {},
     "output_type": "execute_result"
    }
   ],
   "source": [
    "recall_score(y_test,y_pred_xg,average='weighted')"
   ]
  },
  {
   "cell_type": "code",
   "execution_count": 43,
   "id": "f3b78473",
   "metadata": {},
   "outputs": [
    {
     "data": {
      "text/plain": [
       "0.8723330835753392"
      ]
     },
     "execution_count": 43,
     "metadata": {},
     "output_type": "execute_result"
    }
   ],
   "source": [
    "precision_score(y_test,y_pred_xg,average='weighted')"
   ]
  },
  {
   "cell_type": "code",
   "execution_count": 44,
   "id": "28964b0e",
   "metadata": {},
   "outputs": [
    {
     "data": {
      "text/plain": [
       "0.8402112568483219"
      ]
     },
     "execution_count": 44,
     "metadata": {},
     "output_type": "execute_result"
    }
   ],
   "source": [
    "f1_score(y_test,y_pred_xg,average='weighted')"
   ]
  },
  {
   "cell_type": "code",
   "execution_count": 45,
   "id": "acb49b5f",
   "metadata": {},
   "outputs": [
    {
     "data": {
      "text/plain": [
       "0.6620986232473611"
      ]
     },
     "execution_count": 45,
     "metadata": {},
     "output_type": "execute_result"
    }
   ],
   "source": [
    "balanced_acc = balanced_accuracy_score(y_test, y_pred_xg)\n",
    "balanced_acc"
   ]
  },
  {
   "cell_type": "code",
   "execution_count": 46,
   "id": "6db8f7b3",
   "metadata": {},
   "outputs": [],
   "source": [
    "from sklearn.linear_model import LogisticRegression"
   ]
  },
  {
   "cell_type": "code",
   "execution_count": 47,
   "id": "5f9bafb7",
   "metadata": {},
   "outputs": [],
   "source": [
    "lr=LogisticRegression(class_weight='balanced')"
   ]
  },
  {
   "cell_type": "code",
   "execution_count": 48,
   "id": "29843864",
   "metadata": {},
   "outputs": [
    {
     "data": {
      "text/html": [
       "<style>#sk-container-id-3 {color: black;background-color: white;}#sk-container-id-3 pre{padding: 0;}#sk-container-id-3 div.sk-toggleable {background-color: white;}#sk-container-id-3 label.sk-toggleable__label {cursor: pointer;display: block;width: 100%;margin-bottom: 0;padding: 0.3em;box-sizing: border-box;text-align: center;}#sk-container-id-3 label.sk-toggleable__label-arrow:before {content: \"▸\";float: left;margin-right: 0.25em;color: #696969;}#sk-container-id-3 label.sk-toggleable__label-arrow:hover:before {color: black;}#sk-container-id-3 div.sk-estimator:hover label.sk-toggleable__label-arrow:before {color: black;}#sk-container-id-3 div.sk-toggleable__content {max-height: 0;max-width: 0;overflow: hidden;text-align: left;background-color: #f0f8ff;}#sk-container-id-3 div.sk-toggleable__content pre {margin: 0.2em;color: black;border-radius: 0.25em;background-color: #f0f8ff;}#sk-container-id-3 input.sk-toggleable__control:checked~div.sk-toggleable__content {max-height: 200px;max-width: 100%;overflow: auto;}#sk-container-id-3 input.sk-toggleable__control:checked~label.sk-toggleable__label-arrow:before {content: \"▾\";}#sk-container-id-3 div.sk-estimator input.sk-toggleable__control:checked~label.sk-toggleable__label {background-color: #d4ebff;}#sk-container-id-3 div.sk-label input.sk-toggleable__control:checked~label.sk-toggleable__label {background-color: #d4ebff;}#sk-container-id-3 input.sk-hidden--visually {border: 0;clip: rect(1px 1px 1px 1px);clip: rect(1px, 1px, 1px, 1px);height: 1px;margin: -1px;overflow: hidden;padding: 0;position: absolute;width: 1px;}#sk-container-id-3 div.sk-estimator {font-family: monospace;background-color: #f0f8ff;border: 1px dotted black;border-radius: 0.25em;box-sizing: border-box;margin-bottom: 0.5em;}#sk-container-id-3 div.sk-estimator:hover {background-color: #d4ebff;}#sk-container-id-3 div.sk-parallel-item::after {content: \"\";width: 100%;border-bottom: 1px solid gray;flex-grow: 1;}#sk-container-id-3 div.sk-label:hover label.sk-toggleable__label {background-color: #d4ebff;}#sk-container-id-3 div.sk-serial::before {content: \"\";position: absolute;border-left: 1px solid gray;box-sizing: border-box;top: 0;bottom: 0;left: 50%;z-index: 0;}#sk-container-id-3 div.sk-serial {display: flex;flex-direction: column;align-items: center;background-color: white;padding-right: 0.2em;padding-left: 0.2em;position: relative;}#sk-container-id-3 div.sk-item {position: relative;z-index: 1;}#sk-container-id-3 div.sk-parallel {display: flex;align-items: stretch;justify-content: center;background-color: white;position: relative;}#sk-container-id-3 div.sk-item::before, #sk-container-id-3 div.sk-parallel-item::before {content: \"\";position: absolute;border-left: 1px solid gray;box-sizing: border-box;top: 0;bottom: 0;left: 50%;z-index: -1;}#sk-container-id-3 div.sk-parallel-item {display: flex;flex-direction: column;z-index: 1;position: relative;background-color: white;}#sk-container-id-3 div.sk-parallel-item:first-child::after {align-self: flex-end;width: 50%;}#sk-container-id-3 div.sk-parallel-item:last-child::after {align-self: flex-start;width: 50%;}#sk-container-id-3 div.sk-parallel-item:only-child::after {width: 0;}#sk-container-id-3 div.sk-dashed-wrapped {border: 1px dashed gray;margin: 0 0.4em 0.5em 0.4em;box-sizing: border-box;padding-bottom: 0.4em;background-color: white;}#sk-container-id-3 div.sk-label label {font-family: monospace;font-weight: bold;display: inline-block;line-height: 1.2em;}#sk-container-id-3 div.sk-label-container {text-align: center;}#sk-container-id-3 div.sk-container {/* jupyter's `normalize.less` sets `[hidden] { display: none; }` but bootstrap.min.css set `[hidden] { display: none !important; }` so we also need the `!important` here to be able to override the default hidden behavior on the sphinx rendered scikit-learn.org. See: https://github.com/scikit-learn/scikit-learn/issues/21755 */display: inline-block !important;position: relative;}#sk-container-id-3 div.sk-text-repr-fallback {display: none;}</style><div id=\"sk-container-id-3\" class=\"sk-top-container\"><div class=\"sk-text-repr-fallback\"><pre>LogisticRegression(class_weight=&#x27;balanced&#x27;)</pre><b>In a Jupyter environment, please rerun this cell to show the HTML representation or trust the notebook. <br />On GitHub, the HTML representation is unable to render, please try loading this page with nbviewer.org.</b></div><div class=\"sk-container\" hidden><div class=\"sk-item\"><div class=\"sk-estimator sk-toggleable\"><input class=\"sk-toggleable__control sk-hidden--visually\" id=\"sk-estimator-id-3\" type=\"checkbox\" checked><label for=\"sk-estimator-id-3\" class=\"sk-toggleable__label sk-toggleable__label-arrow\">LogisticRegression</label><div class=\"sk-toggleable__content\"><pre>LogisticRegression(class_weight=&#x27;balanced&#x27;)</pre></div></div></div></div></div>"
      ],
      "text/plain": [
       "LogisticRegression(class_weight='balanced')"
      ]
     },
     "execution_count": 48,
     "metadata": {},
     "output_type": "execute_result"
    }
   ],
   "source": [
    "lr.fit(x_train,y_train)"
   ]
  },
  {
   "cell_type": "code",
   "execution_count": 49,
   "id": "15281920",
   "metadata": {},
   "outputs": [],
   "source": [
    "y_pred_lr=lr.predict(x_test)"
   ]
  },
  {
   "cell_type": "code",
   "execution_count": 50,
   "id": "5b393f41",
   "metadata": {},
   "outputs": [
    {
     "data": {
      "text/plain": [
       "0.4230508474576271"
      ]
     },
     "execution_count": 50,
     "metadata": {},
     "output_type": "execute_result"
    }
   ],
   "source": [
    "recall_score(y_test,y_pred_lr,average='weighted')"
   ]
  },
  {
   "cell_type": "code",
   "execution_count": 51,
   "id": "c4e74ce4",
   "metadata": {},
   "outputs": [
    {
     "data": {
      "text/plain": [
       "0.8511379890852877"
      ]
     },
     "execution_count": 51,
     "metadata": {},
     "output_type": "execute_result"
    }
   ],
   "source": [
    "precision_score(y_test,y_pred_lr,average='weighted')"
   ]
  },
  {
   "cell_type": "code",
   "execution_count": 52,
   "id": "20ea8b22",
   "metadata": {},
   "outputs": [
    {
     "data": {
      "text/plain": [
       "0.5163131609511332"
      ]
     },
     "execution_count": 52,
     "metadata": {},
     "output_type": "execute_result"
    }
   ],
   "source": [
    "f1_score(y_test,y_pred_lr,average='weighted')"
   ]
  },
  {
   "cell_type": "code",
   "execution_count": 53,
   "id": "9a539486",
   "metadata": {},
   "outputs": [
    {
     "data": {
      "text/plain": [
       "0.5570512346396458"
      ]
     },
     "execution_count": 53,
     "metadata": {},
     "output_type": "execute_result"
    }
   ],
   "source": [
    "balanced_acc = balanced_accuracy_score(y_test, y_pred_lr)\n",
    "balanced_acc"
   ]
  },
  {
   "cell_type": "code",
   "execution_count": 54,
   "id": "1d8ce7b0",
   "metadata": {},
   "outputs": [],
   "source": [
    "from sklearn.tree import DecisionTreeClassifier"
   ]
  },
  {
   "cell_type": "code",
   "execution_count": 55,
   "id": "486588df",
   "metadata": {},
   "outputs": [],
   "source": [
    "dt=DecisionTreeClassifier(class_weight='balanced')"
   ]
  },
  {
   "cell_type": "code",
   "execution_count": 56,
   "id": "6f5633e8",
   "metadata": {},
   "outputs": [
    {
     "data": {
      "text/html": [
       "<style>#sk-container-id-4 {color: black;background-color: white;}#sk-container-id-4 pre{padding: 0;}#sk-container-id-4 div.sk-toggleable {background-color: white;}#sk-container-id-4 label.sk-toggleable__label {cursor: pointer;display: block;width: 100%;margin-bottom: 0;padding: 0.3em;box-sizing: border-box;text-align: center;}#sk-container-id-4 label.sk-toggleable__label-arrow:before {content: \"▸\";float: left;margin-right: 0.25em;color: #696969;}#sk-container-id-4 label.sk-toggleable__label-arrow:hover:before {color: black;}#sk-container-id-4 div.sk-estimator:hover label.sk-toggleable__label-arrow:before {color: black;}#sk-container-id-4 div.sk-toggleable__content {max-height: 0;max-width: 0;overflow: hidden;text-align: left;background-color: #f0f8ff;}#sk-container-id-4 div.sk-toggleable__content pre {margin: 0.2em;color: black;border-radius: 0.25em;background-color: #f0f8ff;}#sk-container-id-4 input.sk-toggleable__control:checked~div.sk-toggleable__content {max-height: 200px;max-width: 100%;overflow: auto;}#sk-container-id-4 input.sk-toggleable__control:checked~label.sk-toggleable__label-arrow:before {content: \"▾\";}#sk-container-id-4 div.sk-estimator input.sk-toggleable__control:checked~label.sk-toggleable__label {background-color: #d4ebff;}#sk-container-id-4 div.sk-label input.sk-toggleable__control:checked~label.sk-toggleable__label {background-color: #d4ebff;}#sk-container-id-4 input.sk-hidden--visually {border: 0;clip: rect(1px 1px 1px 1px);clip: rect(1px, 1px, 1px, 1px);height: 1px;margin: -1px;overflow: hidden;padding: 0;position: absolute;width: 1px;}#sk-container-id-4 div.sk-estimator {font-family: monospace;background-color: #f0f8ff;border: 1px dotted black;border-radius: 0.25em;box-sizing: border-box;margin-bottom: 0.5em;}#sk-container-id-4 div.sk-estimator:hover {background-color: #d4ebff;}#sk-container-id-4 div.sk-parallel-item::after {content: \"\";width: 100%;border-bottom: 1px solid gray;flex-grow: 1;}#sk-container-id-4 div.sk-label:hover label.sk-toggleable__label {background-color: #d4ebff;}#sk-container-id-4 div.sk-serial::before {content: \"\";position: absolute;border-left: 1px solid gray;box-sizing: border-box;top: 0;bottom: 0;left: 50%;z-index: 0;}#sk-container-id-4 div.sk-serial {display: flex;flex-direction: column;align-items: center;background-color: white;padding-right: 0.2em;padding-left: 0.2em;position: relative;}#sk-container-id-4 div.sk-item {position: relative;z-index: 1;}#sk-container-id-4 div.sk-parallel {display: flex;align-items: stretch;justify-content: center;background-color: white;position: relative;}#sk-container-id-4 div.sk-item::before, #sk-container-id-4 div.sk-parallel-item::before {content: \"\";position: absolute;border-left: 1px solid gray;box-sizing: border-box;top: 0;bottom: 0;left: 50%;z-index: -1;}#sk-container-id-4 div.sk-parallel-item {display: flex;flex-direction: column;z-index: 1;position: relative;background-color: white;}#sk-container-id-4 div.sk-parallel-item:first-child::after {align-self: flex-end;width: 50%;}#sk-container-id-4 div.sk-parallel-item:last-child::after {align-self: flex-start;width: 50%;}#sk-container-id-4 div.sk-parallel-item:only-child::after {width: 0;}#sk-container-id-4 div.sk-dashed-wrapped {border: 1px dashed gray;margin: 0 0.4em 0.5em 0.4em;box-sizing: border-box;padding-bottom: 0.4em;background-color: white;}#sk-container-id-4 div.sk-label label {font-family: monospace;font-weight: bold;display: inline-block;line-height: 1.2em;}#sk-container-id-4 div.sk-label-container {text-align: center;}#sk-container-id-4 div.sk-container {/* jupyter's `normalize.less` sets `[hidden] { display: none; }` but bootstrap.min.css set `[hidden] { display: none !important; }` so we also need the `!important` here to be able to override the default hidden behavior on the sphinx rendered scikit-learn.org. See: https://github.com/scikit-learn/scikit-learn/issues/21755 */display: inline-block !important;position: relative;}#sk-container-id-4 div.sk-text-repr-fallback {display: none;}</style><div id=\"sk-container-id-4\" class=\"sk-top-container\"><div class=\"sk-text-repr-fallback\"><pre>DecisionTreeClassifier(class_weight=&#x27;balanced&#x27;)</pre><b>In a Jupyter environment, please rerun this cell to show the HTML representation or trust the notebook. <br />On GitHub, the HTML representation is unable to render, please try loading this page with nbviewer.org.</b></div><div class=\"sk-container\" hidden><div class=\"sk-item\"><div class=\"sk-estimator sk-toggleable\"><input class=\"sk-toggleable__control sk-hidden--visually\" id=\"sk-estimator-id-4\" type=\"checkbox\" checked><label for=\"sk-estimator-id-4\" class=\"sk-toggleable__label sk-toggleable__label-arrow\">DecisionTreeClassifier</label><div class=\"sk-toggleable__content\"><pre>DecisionTreeClassifier(class_weight=&#x27;balanced&#x27;)</pre></div></div></div></div></div>"
      ],
      "text/plain": [
       "DecisionTreeClassifier(class_weight='balanced')"
      ]
     },
     "execution_count": 56,
     "metadata": {},
     "output_type": "execute_result"
    }
   ],
   "source": [
    "dt.fit(x_train,y_train)"
   ]
  },
  {
   "cell_type": "code",
   "execution_count": 57,
   "id": "25278c6c",
   "metadata": {},
   "outputs": [],
   "source": [
    "y_pred_dt=dt.predict(x_test)"
   ]
  },
  {
   "cell_type": "code",
   "execution_count": 58,
   "id": "8af9f7ca",
   "metadata": {},
   "outputs": [
    {
     "data": {
      "text/plain": [
       "0.8377401129943503"
      ]
     },
     "execution_count": 58,
     "metadata": {},
     "output_type": "execute_result"
    }
   ],
   "source": [
    "recall_score(y_test,y_pred_dt,average='weighted')"
   ]
  },
  {
   "cell_type": "code",
   "execution_count": 59,
   "id": "ce739118",
   "metadata": {},
   "outputs": [
    {
     "data": {
      "text/plain": [
       "0.8582002447046829"
      ]
     },
     "execution_count": 59,
     "metadata": {},
     "output_type": "execute_result"
    }
   ],
   "source": [
    "precision_score(y_test,y_pred_dt,average='weighted')"
   ]
  },
  {
   "cell_type": "code",
   "execution_count": 60,
   "id": "af26bab9",
   "metadata": {},
   "outputs": [
    {
     "data": {
      "text/plain": [
       "0.8472619497711092"
      ]
     },
     "execution_count": 60,
     "metadata": {},
     "output_type": "execute_result"
    }
   ],
   "source": [
    "f1_score(y_test, y_pred_dt,average='weighted')"
   ]
  },
  {
   "cell_type": "code",
   "execution_count": 61,
   "id": "aff26e44",
   "metadata": {},
   "outputs": [
    {
     "data": {
      "text/plain": [
       "0.6029650018138337"
      ]
     },
     "execution_count": 61,
     "metadata": {},
     "output_type": "execute_result"
    }
   ],
   "source": [
    "balanced_acc = balanced_accuracy_score(y_test, y_pred_dt)\n",
    "balanced_acc"
   ]
  },
  {
   "cell_type": "code",
   "execution_count": 62,
   "id": "73fdf44d",
   "metadata": {},
   "outputs": [],
   "source": [
    "from sklearn.svm import SVC"
   ]
  },
  {
   "cell_type": "code",
   "execution_count": 63,
   "id": "97495526",
   "metadata": {},
   "outputs": [],
   "source": [
    "sv=SVC(class_weight='balanced')"
   ]
  },
  {
   "cell_type": "code",
   "execution_count": 64,
   "id": "ff55c932",
   "metadata": {},
   "outputs": [
    {
     "data": {
      "text/html": [
       "<style>#sk-container-id-5 {color: black;background-color: white;}#sk-container-id-5 pre{padding: 0;}#sk-container-id-5 div.sk-toggleable {background-color: white;}#sk-container-id-5 label.sk-toggleable__label {cursor: pointer;display: block;width: 100%;margin-bottom: 0;padding: 0.3em;box-sizing: border-box;text-align: center;}#sk-container-id-5 label.sk-toggleable__label-arrow:before {content: \"▸\";float: left;margin-right: 0.25em;color: #696969;}#sk-container-id-5 label.sk-toggleable__label-arrow:hover:before {color: black;}#sk-container-id-5 div.sk-estimator:hover label.sk-toggleable__label-arrow:before {color: black;}#sk-container-id-5 div.sk-toggleable__content {max-height: 0;max-width: 0;overflow: hidden;text-align: left;background-color: #f0f8ff;}#sk-container-id-5 div.sk-toggleable__content pre {margin: 0.2em;color: black;border-radius: 0.25em;background-color: #f0f8ff;}#sk-container-id-5 input.sk-toggleable__control:checked~div.sk-toggleable__content {max-height: 200px;max-width: 100%;overflow: auto;}#sk-container-id-5 input.sk-toggleable__control:checked~label.sk-toggleable__label-arrow:before {content: \"▾\";}#sk-container-id-5 div.sk-estimator input.sk-toggleable__control:checked~label.sk-toggleable__label {background-color: #d4ebff;}#sk-container-id-5 div.sk-label input.sk-toggleable__control:checked~label.sk-toggleable__label {background-color: #d4ebff;}#sk-container-id-5 input.sk-hidden--visually {border: 0;clip: rect(1px 1px 1px 1px);clip: rect(1px, 1px, 1px, 1px);height: 1px;margin: -1px;overflow: hidden;padding: 0;position: absolute;width: 1px;}#sk-container-id-5 div.sk-estimator {font-family: monospace;background-color: #f0f8ff;border: 1px dotted black;border-radius: 0.25em;box-sizing: border-box;margin-bottom: 0.5em;}#sk-container-id-5 div.sk-estimator:hover {background-color: #d4ebff;}#sk-container-id-5 div.sk-parallel-item::after {content: \"\";width: 100%;border-bottom: 1px solid gray;flex-grow: 1;}#sk-container-id-5 div.sk-label:hover label.sk-toggleable__label {background-color: #d4ebff;}#sk-container-id-5 div.sk-serial::before {content: \"\";position: absolute;border-left: 1px solid gray;box-sizing: border-box;top: 0;bottom: 0;left: 50%;z-index: 0;}#sk-container-id-5 div.sk-serial {display: flex;flex-direction: column;align-items: center;background-color: white;padding-right: 0.2em;padding-left: 0.2em;position: relative;}#sk-container-id-5 div.sk-item {position: relative;z-index: 1;}#sk-container-id-5 div.sk-parallel {display: flex;align-items: stretch;justify-content: center;background-color: white;position: relative;}#sk-container-id-5 div.sk-item::before, #sk-container-id-5 div.sk-parallel-item::before {content: \"\";position: absolute;border-left: 1px solid gray;box-sizing: border-box;top: 0;bottom: 0;left: 50%;z-index: -1;}#sk-container-id-5 div.sk-parallel-item {display: flex;flex-direction: column;z-index: 1;position: relative;background-color: white;}#sk-container-id-5 div.sk-parallel-item:first-child::after {align-self: flex-end;width: 50%;}#sk-container-id-5 div.sk-parallel-item:last-child::after {align-self: flex-start;width: 50%;}#sk-container-id-5 div.sk-parallel-item:only-child::after {width: 0;}#sk-container-id-5 div.sk-dashed-wrapped {border: 1px dashed gray;margin: 0 0.4em 0.5em 0.4em;box-sizing: border-box;padding-bottom: 0.4em;background-color: white;}#sk-container-id-5 div.sk-label label {font-family: monospace;font-weight: bold;display: inline-block;line-height: 1.2em;}#sk-container-id-5 div.sk-label-container {text-align: center;}#sk-container-id-5 div.sk-container {/* jupyter's `normalize.less` sets `[hidden] { display: none; }` but bootstrap.min.css set `[hidden] { display: none !important; }` so we also need the `!important` here to be able to override the default hidden behavior on the sphinx rendered scikit-learn.org. See: https://github.com/scikit-learn/scikit-learn/issues/21755 */display: inline-block !important;position: relative;}#sk-container-id-5 div.sk-text-repr-fallback {display: none;}</style><div id=\"sk-container-id-5\" class=\"sk-top-container\"><div class=\"sk-text-repr-fallback\"><pre>SVC(class_weight=&#x27;balanced&#x27;)</pre><b>In a Jupyter environment, please rerun this cell to show the HTML representation or trust the notebook. <br />On GitHub, the HTML representation is unable to render, please try loading this page with nbviewer.org.</b></div><div class=\"sk-container\" hidden><div class=\"sk-item\"><div class=\"sk-estimator sk-toggleable\"><input class=\"sk-toggleable__control sk-hidden--visually\" id=\"sk-estimator-id-5\" type=\"checkbox\" checked><label for=\"sk-estimator-id-5\" class=\"sk-toggleable__label sk-toggleable__label-arrow\">SVC</label><div class=\"sk-toggleable__content\"><pre>SVC(class_weight=&#x27;balanced&#x27;)</pre></div></div></div></div></div>"
      ],
      "text/plain": [
       "SVC(class_weight='balanced')"
      ]
     },
     "execution_count": 64,
     "metadata": {},
     "output_type": "execute_result"
    }
   ],
   "source": [
    "sv.fit(x_train,y_train)"
   ]
  },
  {
   "cell_type": "code",
   "execution_count": 65,
   "id": "fe24802a",
   "metadata": {},
   "outputs": [],
   "source": [
    "y_pred_sv=sv.predict(x_test)"
   ]
  },
  {
   "cell_type": "code",
   "execution_count": 66,
   "id": "864f0e3b",
   "metadata": {},
   "outputs": [
    {
     "data": {
      "text/plain": [
       "0.11050847457627119"
      ]
     },
     "execution_count": 66,
     "metadata": {},
     "output_type": "execute_result"
    }
   ],
   "source": [
    "recall_score(y_test,y_pred_sv,average='weighted')"
   ]
  },
  {
   "cell_type": "code",
   "execution_count": 67,
   "id": "bbf4dc74",
   "metadata": {},
   "outputs": [
    {
     "data": {
      "text/plain": [
       "0.8992095259739484"
      ]
     },
     "execution_count": 67,
     "metadata": {},
     "output_type": "execute_result"
    }
   ],
   "source": [
    "precision_score(y_test,y_pred_sv,average='weighted')"
   ]
  },
  {
   "cell_type": "code",
   "execution_count": 68,
   "id": "ebda2e16",
   "metadata": {},
   "outputs": [
    {
     "data": {
      "text/plain": [
       "0.04556179108859312"
      ]
     },
     "execution_count": 68,
     "metadata": {},
     "output_type": "execute_result"
    }
   ],
   "source": [
    "f1_score(y_test,y_pred_sv,average='weighted')"
   ]
  },
  {
   "cell_type": "code",
   "execution_count": 69,
   "id": "d095ca33",
   "metadata": {},
   "outputs": [
    {
     "data": {
      "text/plain": [
       "0.5068282915799373"
      ]
     },
     "execution_count": 69,
     "metadata": {},
     "output_type": "execute_result"
    }
   ],
   "source": [
    "balanced_acc = balanced_accuracy_score(y_test, y_pred_sv)\n",
    "balanced_acc"
   ]
  },
  {
   "cell_type": "code",
   "execution_count": null,
   "id": "56fc816d",
   "metadata": {},
   "outputs": [],
   "source": []
  },
  {
   "cell_type": "code",
   "execution_count": null,
   "id": "a1823704",
   "metadata": {},
   "outputs": [],
   "source": []
  },
  {
   "cell_type": "code",
   "execution_count": null,
   "id": "8e78632b",
   "metadata": {},
   "outputs": [],
   "source": []
  },
  {
   "cell_type": "code",
   "execution_count": null,
   "id": "5d3b9a67",
   "metadata": {},
   "outputs": [],
   "source": []
  },
  {
   "cell_type": "code",
   "execution_count": 70,
   "id": "8c10db99",
   "metadata": {},
   "outputs": [],
   "source": [
    "cdtest=pd.read_csv(\"C:/Users/rabhi/OneDrive/Documents/Data_Clinical_Test1.csv\")"
   ]
  },
  {
   "cell_type": "code",
   "execution_count": 71,
   "id": "c8a6c1d4",
   "metadata": {},
   "outputs": [
    {
     "data": {
      "text/html": [
       "<div>\n",
       "<style scoped>\n",
       "    .dataframe tbody tr th:only-of-type {\n",
       "        vertical-align: middle;\n",
       "    }\n",
       "\n",
       "    .dataframe tbody tr th {\n",
       "        vertical-align: top;\n",
       "    }\n",
       "\n",
       "    .dataframe thead th {\n",
       "        text-align: right;\n",
       "    }\n",
       "</style>\n",
       "<table border=\"1\" class=\"dataframe\">\n",
       "  <thead>\n",
       "    <tr style=\"text-align: right;\">\n",
       "      <th></th>\n",
       "      <th>Title</th>\n",
       "      <th>Status</th>\n",
       "      <th>Study Results</th>\n",
       "      <th>Conditions</th>\n",
       "      <th>Interventions</th>\n",
       "      <th>Outcome Measures</th>\n",
       "      <th>Sponsor/Collaborators</th>\n",
       "      <th>Gender</th>\n",
       "      <th>Age</th>\n",
       "      <th>Phases</th>\n",
       "      <th>...</th>\n",
       "      <th>Funded Bys</th>\n",
       "      <th>Study Type</th>\n",
       "      <th>Other IDs</th>\n",
       "      <th>Locations</th>\n",
       "      <th>Allocation</th>\n",
       "      <th>IModel</th>\n",
       "      <th>Masking</th>\n",
       "      <th>Primary Purpose</th>\n",
       "      <th>OModel</th>\n",
       "      <th>Time Perspective</th>\n",
       "    </tr>\n",
       "  </thead>\n",
       "  <tbody>\n",
       "    <tr>\n",
       "      <th>0</th>\n",
       "      <td>0.0</td>\n",
       "      <td>0</td>\n",
       "      <td>1</td>\n",
       "      <td>0.0</td>\n",
       "      <td>0.0</td>\n",
       "      <td>0.0</td>\n",
       "      <td>0.0</td>\n",
       "      <td>0</td>\n",
       "      <td>0.0</td>\n",
       "      <td>1</td>\n",
       "      <td>...</td>\n",
       "      <td>11</td>\n",
       "      <td>0</td>\n",
       "      <td>0.0</td>\n",
       "      <td>0.0</td>\n",
       "      <td>1</td>\n",
       "      <td>4</td>\n",
       "      <td>7</td>\n",
       "      <td>4</td>\n",
       "      <td>0</td>\n",
       "      <td>0</td>\n",
       "    </tr>\n",
       "    <tr>\n",
       "      <th>1</th>\n",
       "      <td>0.0</td>\n",
       "      <td>0</td>\n",
       "      <td>1</td>\n",
       "      <td>0.0</td>\n",
       "      <td>0.0</td>\n",
       "      <td>0.0</td>\n",
       "      <td>0.0</td>\n",
       "      <td>0</td>\n",
       "      <td>0.0</td>\n",
       "      <td>1</td>\n",
       "      <td>...</td>\n",
       "      <td>11</td>\n",
       "      <td>0</td>\n",
       "      <td>0.0</td>\n",
       "      <td>0.0</td>\n",
       "      <td>2</td>\n",
       "      <td>2</td>\n",
       "      <td>5</td>\n",
       "      <td>8</td>\n",
       "      <td>0</td>\n",
       "      <td>0</td>\n",
       "    </tr>\n",
       "    <tr>\n",
       "      <th>2</th>\n",
       "      <td>0.0</td>\n",
       "      <td>0</td>\n",
       "      <td>1</td>\n",
       "      <td>0.0</td>\n",
       "      <td>0.0</td>\n",
       "      <td>0.0</td>\n",
       "      <td>0.0</td>\n",
       "      <td>0</td>\n",
       "      <td>0.0</td>\n",
       "      <td>2</td>\n",
       "      <td>...</td>\n",
       "      <td>0</td>\n",
       "      <td>0</td>\n",
       "      <td>0.0</td>\n",
       "      <td>0.0</td>\n",
       "      <td>2</td>\n",
       "      <td>2</td>\n",
       "      <td>5</td>\n",
       "      <td>1</td>\n",
       "      <td>0</td>\n",
       "      <td>0</td>\n",
       "    </tr>\n",
       "    <tr>\n",
       "      <th>3</th>\n",
       "      <td>0.0</td>\n",
       "      <td>0</td>\n",
       "      <td>1</td>\n",
       "      <td>0.0</td>\n",
       "      <td>0.0</td>\n",
       "      <td>0.0</td>\n",
       "      <td>0.0</td>\n",
       "      <td>2</td>\n",
       "      <td>0.0</td>\n",
       "      <td>2</td>\n",
       "      <td>...</td>\n",
       "      <td>0</td>\n",
       "      <td>0</td>\n",
       "      <td>0.0</td>\n",
       "      <td>0.0</td>\n",
       "      <td>0</td>\n",
       "      <td>4</td>\n",
       "      <td>7</td>\n",
       "      <td>9</td>\n",
       "      <td>0</td>\n",
       "      <td>0</td>\n",
       "    </tr>\n",
       "    <tr>\n",
       "      <th>4</th>\n",
       "      <td>0.0</td>\n",
       "      <td>0</td>\n",
       "      <td>1</td>\n",
       "      <td>0.0</td>\n",
       "      <td>0.0</td>\n",
       "      <td>0.0</td>\n",
       "      <td>0.0</td>\n",
       "      <td>0</td>\n",
       "      <td>0.0</td>\n",
       "      <td>1</td>\n",
       "      <td>...</td>\n",
       "      <td>11</td>\n",
       "      <td>0</td>\n",
       "      <td>0.0</td>\n",
       "      <td>0.0</td>\n",
       "      <td>2</td>\n",
       "      <td>2</td>\n",
       "      <td>15</td>\n",
       "      <td>1</td>\n",
       "      <td>0</td>\n",
       "      <td>0</td>\n",
       "    </tr>\n",
       "    <tr>\n",
       "      <th>...</th>\n",
       "      <td>...</td>\n",
       "      <td>...</td>\n",
       "      <td>...</td>\n",
       "      <td>...</td>\n",
       "      <td>...</td>\n",
       "      <td>...</td>\n",
       "      <td>...</td>\n",
       "      <td>...</td>\n",
       "      <td>...</td>\n",
       "      <td>...</td>\n",
       "      <td>...</td>\n",
       "      <td>...</td>\n",
       "      <td>...</td>\n",
       "      <td>...</td>\n",
       "      <td>...</td>\n",
       "      <td>...</td>\n",
       "      <td>...</td>\n",
       "      <td>...</td>\n",
       "      <td>...</td>\n",
       "      <td>...</td>\n",
       "      <td>...</td>\n",
       "    </tr>\n",
       "    <tr>\n",
       "      <th>9995</th>\n",
       "      <td>0.0</td>\n",
       "      <td>0</td>\n",
       "      <td>1</td>\n",
       "      <td>0.0</td>\n",
       "      <td>0.0</td>\n",
       "      <td>0.0</td>\n",
       "      <td>0.0</td>\n",
       "      <td>0</td>\n",
       "      <td>0.0</td>\n",
       "      <td>1</td>\n",
       "      <td>...</td>\n",
       "      <td>11</td>\n",
       "      <td>1</td>\n",
       "      <td>0.0</td>\n",
       "      <td>0.0</td>\n",
       "      <td>5</td>\n",
       "      <td>6</td>\n",
       "      <td>17</td>\n",
       "      <td>0</td>\n",
       "      <td>4</td>\n",
       "      <td>1</td>\n",
       "    </tr>\n",
       "    <tr>\n",
       "      <th>9996</th>\n",
       "      <td>0.0</td>\n",
       "      <td>0</td>\n",
       "      <td>1</td>\n",
       "      <td>0.0</td>\n",
       "      <td>0.0</td>\n",
       "      <td>0.0</td>\n",
       "      <td>0.0</td>\n",
       "      <td>0</td>\n",
       "      <td>0.0</td>\n",
       "      <td>1</td>\n",
       "      <td>...</td>\n",
       "      <td>11</td>\n",
       "      <td>1</td>\n",
       "      <td>0.0</td>\n",
       "      <td>0.0</td>\n",
       "      <td>5</td>\n",
       "      <td>6</td>\n",
       "      <td>17</td>\n",
       "      <td>0</td>\n",
       "      <td>4</td>\n",
       "      <td>3</td>\n",
       "    </tr>\n",
       "    <tr>\n",
       "      <th>9997</th>\n",
       "      <td>0.0</td>\n",
       "      <td>0</td>\n",
       "      <td>1</td>\n",
       "      <td>0.0</td>\n",
       "      <td>0.0</td>\n",
       "      <td>0.0</td>\n",
       "      <td>0.0</td>\n",
       "      <td>0</td>\n",
       "      <td>0.0</td>\n",
       "      <td>1</td>\n",
       "      <td>...</td>\n",
       "      <td>11</td>\n",
       "      <td>1</td>\n",
       "      <td>0.0</td>\n",
       "      <td>0.0</td>\n",
       "      <td>5</td>\n",
       "      <td>6</td>\n",
       "      <td>17</td>\n",
       "      <td>0</td>\n",
       "      <td>3</td>\n",
       "      <td>3</td>\n",
       "    </tr>\n",
       "    <tr>\n",
       "      <th>9998</th>\n",
       "      <td>0.0</td>\n",
       "      <td>1</td>\n",
       "      <td>1</td>\n",
       "      <td>0.0</td>\n",
       "      <td>0.0</td>\n",
       "      <td>0.0</td>\n",
       "      <td>0.0</td>\n",
       "      <td>0</td>\n",
       "      <td>0.0</td>\n",
       "      <td>1</td>\n",
       "      <td>...</td>\n",
       "      <td>0</td>\n",
       "      <td>1</td>\n",
       "      <td>0.0</td>\n",
       "      <td>0.0</td>\n",
       "      <td>5</td>\n",
       "      <td>6</td>\n",
       "      <td>17</td>\n",
       "      <td>0</td>\n",
       "      <td>3</td>\n",
       "      <td>3</td>\n",
       "    </tr>\n",
       "    <tr>\n",
       "      <th>9999</th>\n",
       "      <td>0.0</td>\n",
       "      <td>0</td>\n",
       "      <td>1</td>\n",
       "      <td>0.0</td>\n",
       "      <td>0.0</td>\n",
       "      <td>0.0</td>\n",
       "      <td>0.0</td>\n",
       "      <td>0</td>\n",
       "      <td>0.0</td>\n",
       "      <td>1</td>\n",
       "      <td>...</td>\n",
       "      <td>11</td>\n",
       "      <td>1</td>\n",
       "      <td>0.0</td>\n",
       "      <td>0.0</td>\n",
       "      <td>5</td>\n",
       "      <td>6</td>\n",
       "      <td>17</td>\n",
       "      <td>0</td>\n",
       "      <td>4</td>\n",
       "      <td>3</td>\n",
       "    </tr>\n",
       "  </tbody>\n",
       "</table>\n",
       "<p>10000 rows × 21 columns</p>\n",
       "</div>"
      ],
      "text/plain": [
       "      Title  Status  Study Results  Conditions  Interventions  \\\n",
       "0       0.0       0              1         0.0            0.0   \n",
       "1       0.0       0              1         0.0            0.0   \n",
       "2       0.0       0              1         0.0            0.0   \n",
       "3       0.0       0              1         0.0            0.0   \n",
       "4       0.0       0              1         0.0            0.0   \n",
       "...     ...     ...            ...         ...            ...   \n",
       "9995    0.0       0              1         0.0            0.0   \n",
       "9996    0.0       0              1         0.0            0.0   \n",
       "9997    0.0       0              1         0.0            0.0   \n",
       "9998    0.0       1              1         0.0            0.0   \n",
       "9999    0.0       0              1         0.0            0.0   \n",
       "\n",
       "      Outcome Measures  Sponsor/Collaborators  Gender  Age  Phases  ...  \\\n",
       "0                  0.0                    0.0       0  0.0       1  ...   \n",
       "1                  0.0                    0.0       0  0.0       1  ...   \n",
       "2                  0.0                    0.0       0  0.0       2  ...   \n",
       "3                  0.0                    0.0       2  0.0       2  ...   \n",
       "4                  0.0                    0.0       0  0.0       1  ...   \n",
       "...                ...                    ...     ...  ...     ...  ...   \n",
       "9995               0.0                    0.0       0  0.0       1  ...   \n",
       "9996               0.0                    0.0       0  0.0       1  ...   \n",
       "9997               0.0                    0.0       0  0.0       1  ...   \n",
       "9998               0.0                    0.0       0  0.0       1  ...   \n",
       "9999               0.0                    0.0       0  0.0       1  ...   \n",
       "\n",
       "      Funded Bys  Study Type  Other IDs  Locations  Allocation  IModel  \\\n",
       "0             11           0        0.0        0.0           1       4   \n",
       "1             11           0        0.0        0.0           2       2   \n",
       "2              0           0        0.0        0.0           2       2   \n",
       "3              0           0        0.0        0.0           0       4   \n",
       "4             11           0        0.0        0.0           2       2   \n",
       "...          ...         ...        ...        ...         ...     ...   \n",
       "9995          11           1        0.0        0.0           5       6   \n",
       "9996          11           1        0.0        0.0           5       6   \n",
       "9997          11           1        0.0        0.0           5       6   \n",
       "9998           0           1        0.0        0.0           5       6   \n",
       "9999          11           1        0.0        0.0           5       6   \n",
       "\n",
       "      Masking  Primary Purpose  OModel  Time Perspective  \n",
       "0           7                4       0                 0  \n",
       "1           5                8       0                 0  \n",
       "2           5                1       0                 0  \n",
       "3           7                9       0                 0  \n",
       "4          15                1       0                 0  \n",
       "...       ...              ...     ...               ...  \n",
       "9995       17                0       4                 1  \n",
       "9996       17                0       4                 3  \n",
       "9997       17                0       3                 3  \n",
       "9998       17                0       3                 3  \n",
       "9999       17                0       4                 3  \n",
       "\n",
       "[10000 rows x 21 columns]"
      ]
     },
     "execution_count": 71,
     "metadata": {},
     "output_type": "execute_result"
    }
   ],
   "source": [
    "cdtest"
   ]
  },
  {
   "cell_type": "code",
   "execution_count": 72,
   "id": "539cabb8",
   "metadata": {},
   "outputs": [],
   "source": [
    "x_test2=cdtest.drop(['Status'],axis=1)"
   ]
  },
  {
   "cell_type": "code",
   "execution_count": 73,
   "id": "b3befe79",
   "metadata": {},
   "outputs": [],
   "source": [
    "y_test2=cdtest['Status']"
   ]
  },
  {
   "cell_type": "code",
   "execution_count": 74,
   "id": "01d71095",
   "metadata": {},
   "outputs": [
    {
     "data": {
      "text/plain": [
       "{'Interventions', 'Omodel', 'Time Perspective'}"
      ]
     },
     "execution_count": 74,
     "metadata": {},
     "output_type": "execute_result"
    }
   ],
   "source": [
    "corr_features"
   ]
  },
  {
   "cell_type": "code",
   "execution_count": 75,
   "id": "78eee969",
   "metadata": {},
   "outputs": [],
   "source": [
    "x_test2=x_test2.drop(['Interventions','OModel','Time Perspective'],axis=1)"
   ]
  },
  {
   "cell_type": "code",
   "execution_count": 76,
   "id": "f0f0f8e7",
   "metadata": {},
   "outputs": [],
   "source": [
    "y_pred_xg2=xg.predict(x_test2)"
   ]
  },
  {
   "cell_type": "code",
   "execution_count": 77,
   "id": "183191da",
   "metadata": {},
   "outputs": [
    {
     "data": {
      "text/plain": [
       "0.7226502015654179"
      ]
     },
     "execution_count": 77,
     "metadata": {},
     "output_type": "execute_result"
    }
   ],
   "source": [
    "balanced_acc = balanced_accuracy_score(y_test2, y_pred_xg2)\n",
    "balanced_acc"
   ]
  },
  {
   "cell_type": "code",
   "execution_count": 78,
   "id": "3ba52d9b",
   "metadata": {},
   "outputs": [],
   "source": [
    "y_pred_rfc2=rfc.predict(x_test2)"
   ]
  },
  {
   "cell_type": "code",
   "execution_count": 79,
   "id": "47a7c611",
   "metadata": {},
   "outputs": [
    {
     "data": {
      "text/plain": [
       "0.6559413933162032"
      ]
     },
     "execution_count": 79,
     "metadata": {},
     "output_type": "execute_result"
    }
   ],
   "source": [
    "balanced_acc = balanced_accuracy_score(y_test2, y_pred_rfc2)\n",
    "balanced_acc"
   ]
  },
  {
   "cell_type": "code",
   "execution_count": 80,
   "id": "6fd3276f",
   "metadata": {},
   "outputs": [],
   "source": [
    "cdtestog=pd.read_csv(\"C:/Users/rabhi/OneDrive/Documents/Data_Clinical_Test.csv\")"
   ]
  },
  {
   "cell_type": "code",
   "execution_count": 81,
   "id": "0c28cf05",
   "metadata": {},
   "outputs": [],
   "source": [
    "cdtestog=cdtestog.drop(['Interventions','Omodel','Time Perspective'],axis=1)"
   ]
  },
  {
   "cell_type": "code",
   "execution_count": 82,
   "id": "36f09926",
   "metadata": {},
   "outputs": [],
   "source": [
    "xg1=xgb.XGBClassifier(scale_pos_weight=spw)"
   ]
  },
  {
   "cell_type": "code",
   "execution_count": 83,
   "id": "26c112a4",
   "metadata": {},
   "outputs": [
    {
     "name": "stderr",
     "output_type": "stream",
     "text": [
      "C:\\Users\\rabhi\\anaconda3\\lib\\site-packages\\xgboost\\sklearn.py:1224: UserWarning: The use of label encoder in XGBClassifier is deprecated and will be removed in a future release. To remove this warning, do the following: 1) Pass option use_label_encoder=False when constructing XGBClassifier object; and 2) Encode your labels (y) as integers starting with 0, i.e. 0, 1, 2, ..., [num_class - 1].\n",
      "  warnings.warn(label_encoder_deprecation_msg, UserWarning)\n"
     ]
    },
    {
     "name": "stdout",
     "output_type": "stream",
     "text": [
      "[21:43:16] WARNING: ..\\src\\learner.cc:1115: Starting in XGBoost 1.3.0, the default evaluation metric used with the objective 'binary:logistic' was changed from 'error' to 'logloss'. Explicitly set eval_metric if you'd like to restore the old behavior.\n"
     ]
    },
    {
     "data": {
      "text/html": [
       "<style>#sk-container-id-6 {color: black;background-color: white;}#sk-container-id-6 pre{padding: 0;}#sk-container-id-6 div.sk-toggleable {background-color: white;}#sk-container-id-6 label.sk-toggleable__label {cursor: pointer;display: block;width: 100%;margin-bottom: 0;padding: 0.3em;box-sizing: border-box;text-align: center;}#sk-container-id-6 label.sk-toggleable__label-arrow:before {content: \"▸\";float: left;margin-right: 0.25em;color: #696969;}#sk-container-id-6 label.sk-toggleable__label-arrow:hover:before {color: black;}#sk-container-id-6 div.sk-estimator:hover label.sk-toggleable__label-arrow:before {color: black;}#sk-container-id-6 div.sk-toggleable__content {max-height: 0;max-width: 0;overflow: hidden;text-align: left;background-color: #f0f8ff;}#sk-container-id-6 div.sk-toggleable__content pre {margin: 0.2em;color: black;border-radius: 0.25em;background-color: #f0f8ff;}#sk-container-id-6 input.sk-toggleable__control:checked~div.sk-toggleable__content {max-height: 200px;max-width: 100%;overflow: auto;}#sk-container-id-6 input.sk-toggleable__control:checked~label.sk-toggleable__label-arrow:before {content: \"▾\";}#sk-container-id-6 div.sk-estimator input.sk-toggleable__control:checked~label.sk-toggleable__label {background-color: #d4ebff;}#sk-container-id-6 div.sk-label input.sk-toggleable__control:checked~label.sk-toggleable__label {background-color: #d4ebff;}#sk-container-id-6 input.sk-hidden--visually {border: 0;clip: rect(1px 1px 1px 1px);clip: rect(1px, 1px, 1px, 1px);height: 1px;margin: -1px;overflow: hidden;padding: 0;position: absolute;width: 1px;}#sk-container-id-6 div.sk-estimator {font-family: monospace;background-color: #f0f8ff;border: 1px dotted black;border-radius: 0.25em;box-sizing: border-box;margin-bottom: 0.5em;}#sk-container-id-6 div.sk-estimator:hover {background-color: #d4ebff;}#sk-container-id-6 div.sk-parallel-item::after {content: \"\";width: 100%;border-bottom: 1px solid gray;flex-grow: 1;}#sk-container-id-6 div.sk-label:hover label.sk-toggleable__label {background-color: #d4ebff;}#sk-container-id-6 div.sk-serial::before {content: \"\";position: absolute;border-left: 1px solid gray;box-sizing: border-box;top: 0;bottom: 0;left: 50%;z-index: 0;}#sk-container-id-6 div.sk-serial {display: flex;flex-direction: column;align-items: center;background-color: white;padding-right: 0.2em;padding-left: 0.2em;position: relative;}#sk-container-id-6 div.sk-item {position: relative;z-index: 1;}#sk-container-id-6 div.sk-parallel {display: flex;align-items: stretch;justify-content: center;background-color: white;position: relative;}#sk-container-id-6 div.sk-item::before, #sk-container-id-6 div.sk-parallel-item::before {content: \"\";position: absolute;border-left: 1px solid gray;box-sizing: border-box;top: 0;bottom: 0;left: 50%;z-index: -1;}#sk-container-id-6 div.sk-parallel-item {display: flex;flex-direction: column;z-index: 1;position: relative;background-color: white;}#sk-container-id-6 div.sk-parallel-item:first-child::after {align-self: flex-end;width: 50%;}#sk-container-id-6 div.sk-parallel-item:last-child::after {align-self: flex-start;width: 50%;}#sk-container-id-6 div.sk-parallel-item:only-child::after {width: 0;}#sk-container-id-6 div.sk-dashed-wrapped {border: 1px dashed gray;margin: 0 0.4em 0.5em 0.4em;box-sizing: border-box;padding-bottom: 0.4em;background-color: white;}#sk-container-id-6 div.sk-label label {font-family: monospace;font-weight: bold;display: inline-block;line-height: 1.2em;}#sk-container-id-6 div.sk-label-container {text-align: center;}#sk-container-id-6 div.sk-container {/* jupyter's `normalize.less` sets `[hidden] { display: none; }` but bootstrap.min.css set `[hidden] { display: none !important; }` so we also need the `!important` here to be able to override the default hidden behavior on the sphinx rendered scikit-learn.org. See: https://github.com/scikit-learn/scikit-learn/issues/21755 */display: inline-block !important;position: relative;}#sk-container-id-6 div.sk-text-repr-fallback {display: none;}</style><div id=\"sk-container-id-6\" class=\"sk-top-container\"><div class=\"sk-text-repr-fallback\"><pre>XGBClassifier(base_score=0.5, booster=&#x27;gbtree&#x27;, colsample_bylevel=1,\n",
       "              colsample_bynode=1, colsample_bytree=1, enable_categorical=False,\n",
       "              gamma=0, gpu_id=-1, importance_type=None,\n",
       "              interaction_constraints=&#x27;&#x27;, learning_rate=0.300000012,\n",
       "              max_delta_step=0, max_depth=6, min_child_weight=1, missing=nan,\n",
       "              monotone_constraints=&#x27;()&#x27;, n_estimators=100, n_jobs=8,\n",
       "              num_parallel_tree=1, predictor=&#x27;auto&#x27;, random_state=0,\n",
       "              reg_alpha=0, reg_lambda=1, scale_pos_weight=9.663223140495868,\n",
       "              subsample=1, tree_method=&#x27;exact&#x27;, validate_parameters=1,\n",
       "              verbosity=None)</pre><b>In a Jupyter environment, please rerun this cell to show the HTML representation or trust the notebook. <br />On GitHub, the HTML representation is unable to render, please try loading this page with nbviewer.org.</b></div><div class=\"sk-container\" hidden><div class=\"sk-item\"><div class=\"sk-estimator sk-toggleable\"><input class=\"sk-toggleable__control sk-hidden--visually\" id=\"sk-estimator-id-6\" type=\"checkbox\" checked><label for=\"sk-estimator-id-6\" class=\"sk-toggleable__label sk-toggleable__label-arrow\">XGBClassifier</label><div class=\"sk-toggleable__content\"><pre>XGBClassifier(base_score=0.5, booster=&#x27;gbtree&#x27;, colsample_bylevel=1,\n",
       "              colsample_bynode=1, colsample_bytree=1, enable_categorical=False,\n",
       "              gamma=0, gpu_id=-1, importance_type=None,\n",
       "              interaction_constraints=&#x27;&#x27;, learning_rate=0.300000012,\n",
       "              max_delta_step=0, max_depth=6, min_child_weight=1, missing=nan,\n",
       "              monotone_constraints=&#x27;()&#x27;, n_estimators=100, n_jobs=8,\n",
       "              num_parallel_tree=1, predictor=&#x27;auto&#x27;, random_state=0,\n",
       "              reg_alpha=0, reg_lambda=1, scale_pos_weight=9.663223140495868,\n",
       "              subsample=1, tree_method=&#x27;exact&#x27;, validate_parameters=1,\n",
       "              verbosity=None)</pre></div></div></div></div></div>"
      ],
      "text/plain": [
       "XGBClassifier(base_score=0.5, booster='gbtree', colsample_bylevel=1,\n",
       "              colsample_bynode=1, colsample_bytree=1, enable_categorical=False,\n",
       "              gamma=0, gpu_id=-1, importance_type=None,\n",
       "              interaction_constraints='', learning_rate=0.300000012,\n",
       "              max_delta_step=0, max_depth=6, min_child_weight=1, missing=nan,\n",
       "              monotone_constraints='()', n_estimators=100, n_jobs=8,\n",
       "              num_parallel_tree=1, predictor='auto', random_state=0,\n",
       "              reg_alpha=0, reg_lambda=1, scale_pos_weight=9.663223140495868,\n",
       "              subsample=1, tree_method='exact', validate_parameters=1,\n",
       "              verbosity=None)"
      ]
     },
     "execution_count": 83,
     "metadata": {},
     "output_type": "execute_result"
    }
   ],
   "source": [
    "xg1.fit(x,y)"
   ]
  },
  {
   "cell_type": "code",
   "execution_count": 84,
   "id": "de2fef55",
   "metadata": {},
   "outputs": [],
   "source": [
    "y_pred_xg22=xg1.predict(x_test2)"
   ]
  },
  {
   "cell_type": "code",
   "execution_count": 85,
   "id": "ccbe7d7a",
   "metadata": {},
   "outputs": [
    {
     "data": {
      "text/plain": [
       "0.7166003899109405"
      ]
     },
     "execution_count": 85,
     "metadata": {},
     "output_type": "execute_result"
    }
   ],
   "source": [
    "balanced_acc = balanced_accuracy_score(y_test2, y_pred_xg22)\n",
    "balanced_acc"
   ]
  },
  {
   "cell_type": "code",
   "execution_count": 86,
   "id": "1c6a88de",
   "metadata": {},
   "outputs": [],
   "source": [
    "x_testog=cdtestog.drop(['Status'],axis=1)"
   ]
  },
  {
   "cell_type": "code",
   "execution_count": 87,
   "id": "386315f1",
   "metadata": {},
   "outputs": [],
   "source": [
    "y_testog=cdtestog['Status']"
   ]
  },
  {
   "cell_type": "code",
   "execution_count": 88,
   "id": "c1c4865a",
   "metadata": {},
   "outputs": [],
   "source": [
    "y_pred_ogxg=xg1.predict(x_testog)"
   ]
  },
  {
   "cell_type": "code",
   "execution_count": 89,
   "id": "8633ebd3",
   "metadata": {},
   "outputs": [
    {
     "data": {
      "text/plain": [
       "0.7909352640100277"
      ]
     },
     "execution_count": 89,
     "metadata": {},
     "output_type": "execute_result"
    }
   ],
   "source": [
    "balanced_acc = balanced_accuracy_score(y_testog, y_pred_ogxg)\n",
    "balanced_acc"
   ]
  },
  {
   "cell_type": "code",
   "execution_count": 90,
   "id": "364c9cac",
   "metadata": {},
   "outputs": [],
   "source": [
    "y_pred_ogxg1=xg.predict(x_testog)"
   ]
  },
  {
   "cell_type": "code",
   "execution_count": 91,
   "id": "c65672f2",
   "metadata": {},
   "outputs": [
    {
     "data": {
      "text/plain": [
       "0.8012723925419125"
      ]
     },
     "execution_count": 91,
     "metadata": {},
     "output_type": "execute_result"
    }
   ],
   "source": [
    "balanced_acc = balanced_accuracy_score(y_testog, y_pred_ogxg1)\n",
    "balanced_acc"
   ]
  },
  {
   "cell_type": "code",
   "execution_count": 92,
   "id": "d96b38ab",
   "metadata": {},
   "outputs": [],
   "source": [
    "cdtest3=pd.read_csv(\"C:/Users/rabhi/OneDrive/Documents/Data_Clinical_Sample_3.csv\")"
   ]
  },
  {
   "cell_type": "code",
   "execution_count": 93,
   "id": "d5431588",
   "metadata": {},
   "outputs": [],
   "source": [
    "cdtest3=cdtest3.drop(['Interventions','Omodel','Time Perspective'],axis=1)"
   ]
  },
  {
   "cell_type": "code",
   "execution_count": 94,
   "id": "bff2f917",
   "metadata": {},
   "outputs": [],
   "source": [
    "x_test3=cdtest3.drop(['Status'],axis=1)"
   ]
  },
  {
   "cell_type": "code",
   "execution_count": 95,
   "id": "029d4c7f",
   "metadata": {},
   "outputs": [],
   "source": [
    "y_test3=cdtest3['Status']"
   ]
  },
  {
   "cell_type": "code",
   "execution_count": 96,
   "id": "d2ac1061",
   "metadata": {},
   "outputs": [],
   "source": [
    "y_pred_xg33=xg1.predict(x_test3)"
   ]
  },
  {
   "cell_type": "code",
   "execution_count": 97,
   "id": "c47d22c4",
   "metadata": {},
   "outputs": [
    {
     "data": {
      "text/plain": [
       "0.6028596891710185"
      ]
     },
     "execution_count": 97,
     "metadata": {},
     "output_type": "execute_result"
    }
   ],
   "source": [
    "balanced_acc = balanced_accuracy_score(y_test3, y_pred_xg33)\n",
    "balanced_acc"
   ]
  },
  {
   "cell_type": "code",
   "execution_count": 98,
   "id": "c57158fc",
   "metadata": {},
   "outputs": [],
   "source": [
    "cd_eda=cd.loc[0:45001]"
   ]
  },
  {
   "cell_type": "code",
   "execution_count": 99,
   "id": "501b26fb",
   "metadata": {},
   "outputs": [
    {
     "data": {
      "text/html": [
       "<div>\n",
       "<style scoped>\n",
       "    .dataframe tbody tr th:only-of-type {\n",
       "        vertical-align: middle;\n",
       "    }\n",
       "\n",
       "    .dataframe tbody tr th {\n",
       "        vertical-align: top;\n",
       "    }\n",
       "\n",
       "    .dataframe thead th {\n",
       "        text-align: right;\n",
       "    }\n",
       "</style>\n",
       "<table border=\"1\" class=\"dataframe\">\n",
       "  <thead>\n",
       "    <tr style=\"text-align: right;\">\n",
       "      <th></th>\n",
       "      <th>Title</th>\n",
       "      <th>Status</th>\n",
       "      <th>Study Results</th>\n",
       "      <th>Conditions</th>\n",
       "      <th>Interventions</th>\n",
       "      <th>Outcome Measures</th>\n",
       "      <th>Sponsor/Collaborators</th>\n",
       "      <th>Gender</th>\n",
       "      <th>Age</th>\n",
       "      <th>Phases</th>\n",
       "      <th>Enrollment</th>\n",
       "      <th>Funded Bys</th>\n",
       "      <th>Study Type</th>\n",
       "      <th>Study Designs</th>\n",
       "      <th>Other IDs</th>\n",
       "      <th>Locations</th>\n",
       "    </tr>\n",
       "  </thead>\n",
       "  <tbody>\n",
       "    <tr>\n",
       "      <th>0</th>\n",
       "      <td>Financial and Insurance Assistance- Oncology F...</td>\n",
       "      <td>Completed</td>\n",
       "      <td>No Results Available</td>\n",
       "      <td>Financial Stress|Pediatric Cancer</td>\n",
       "      <td>Other: FINassist</td>\n",
       "      <td>FINassist Feasibility|FINassist Adherence|FINa...</td>\n",
       "      <td>Jean Edward|Robert Wood Johnson Foundation|Uni...</td>\n",
       "      <td>All</td>\n",
       "      <td>18 Years to 65 Years   (Adult, Older Adult)</td>\n",
       "      <td>Not Applicable</td>\n",
       "      <td>61.0</td>\n",
       "      <td>Other</td>\n",
       "      <td>Interventional</td>\n",
       "      <td>Allocation: Non-Randomized|Intervention Model:...</td>\n",
       "      <td>57238</td>\n",
       "      <td>University of Kentucky DanceBlue Pediatric Hem...</td>\n",
       "    </tr>\n",
       "    <tr>\n",
       "      <th>1</th>\n",
       "      <td>Study of Progression to Progressive Fibrosing ...</td>\n",
       "      <td>Completed</td>\n",
       "      <td>No Results Available</td>\n",
       "      <td>Lung Diseases, Interstitial</td>\n",
       "      <td>Other: No intervention</td>\n",
       "      <td>Incidence probability of progression to PF-ILD...</td>\n",
       "      <td>Boehringer Ingelheim</td>\n",
       "      <td>All</td>\n",
       "      <td>18 Years and older   (Adult, Older Adult)</td>\n",
       "      <td>Not Applicable</td>\n",
       "      <td>200000.0</td>\n",
       "      <td>Industry</td>\n",
       "      <td>Observational</td>\n",
       "      <td>Observational Model: Cohort|Time Perspective: ...</td>\n",
       "      <td>1199-0523</td>\n",
       "      <td>Boehringer Ingelheim Pharmaceuticals, Inc., Ri...</td>\n",
       "    </tr>\n",
       "    <tr>\n",
       "      <th>2</th>\n",
       "      <td>Retrospective Assessment of AE-Related Healthc...</td>\n",
       "      <td>Completed</td>\n",
       "      <td>No Results Available</td>\n",
       "      <td>Melanoma</td>\n",
       "      <td>Other: No intervention</td>\n",
       "      <td>Percentage of patients with adverse events (AE...</td>\n",
       "      <td>Novartis Pharmaceuticals|Novartis</td>\n",
       "      <td>All</td>\n",
       "      <td>18 Years and older   (Adult, Older Adult)</td>\n",
       "      <td>Not Applicable</td>\n",
       "      <td>17517.0</td>\n",
       "      <td>Industry</td>\n",
       "      <td>Observational</td>\n",
       "      <td>Observational Model: Cohort|Time Perspective: ...</td>\n",
       "      <td>CTMT212AUS62</td>\n",
       "      <td>Novartis, East Hanover, New Jersey, United States</td>\n",
       "    </tr>\n",
       "    <tr>\n",
       "      <th>3</th>\n",
       "      <td>The Impact of Heartfulness Self-Care Program o...</td>\n",
       "      <td>Completed</td>\n",
       "      <td>No Results Available</td>\n",
       "      <td>Anxiety|Satisfaction With Life|Loneliness</td>\n",
       "      <td>Behavioral: Self-Care Program through Heartful...</td>\n",
       "      <td>Assess the current level of Anxiety|Changes le...</td>\n",
       "      <td>Heartfulness Institute</td>\n",
       "      <td>All</td>\n",
       "      <td>14 Years to 80 Years   (Child, Adult, Older Ad...</td>\n",
       "      <td>Not Applicable</td>\n",
       "      <td>203.0</td>\n",
       "      <td>Other</td>\n",
       "      <td>Interventional</td>\n",
       "      <td>Allocation: Randomized|Intervention Model: Par...</td>\n",
       "      <td>02-01-2022</td>\n",
       "      <td>Ranjani B Iyer, Novi, Michigan, United States</td>\n",
       "    </tr>\n",
       "    <tr>\n",
       "      <th>4</th>\n",
       "      <td>A Study to Evaluate the Safety, Tolerability, ...</td>\n",
       "      <td>Completed</td>\n",
       "      <td>No Results Available</td>\n",
       "      <td>Chronic Graft-versus-host Disease (cGVHD)</td>\n",
       "      <td>Drug: AMG 592|Other: Placebo</td>\n",
       "      <td>Number of Participants with Treatment-emergent...</td>\n",
       "      <td>Amgen</td>\n",
       "      <td>All</td>\n",
       "      <td>18 Years to 55 Years   (Adult)</td>\n",
       "      <td>Phase 1</td>\n",
       "      <td>64.0</td>\n",
       "      <td>Industry</td>\n",
       "      <td>Interventional</td>\n",
       "      <td>Allocation: Randomized|Intervention Model: Par...</td>\n",
       "      <td>20140324</td>\n",
       "      <td>Research Site, Aventura, Florida, United States</td>\n",
       "    </tr>\n",
       "    <tr>\n",
       "      <th>...</th>\n",
       "      <td>...</td>\n",
       "      <td>...</td>\n",
       "      <td>...</td>\n",
       "      <td>...</td>\n",
       "      <td>...</td>\n",
       "      <td>...</td>\n",
       "      <td>...</td>\n",
       "      <td>...</td>\n",
       "      <td>...</td>\n",
       "      <td>...</td>\n",
       "      <td>...</td>\n",
       "      <td>...</td>\n",
       "      <td>...</td>\n",
       "      <td>...</td>\n",
       "      <td>...</td>\n",
       "      <td>...</td>\n",
       "    </tr>\n",
       "    <tr>\n",
       "      <th>44997</th>\n",
       "      <td>Influence of a Inhaled Corticosteroid Therapy ...</td>\n",
       "      <td>Completed</td>\n",
       "      <td>No Results Available</td>\n",
       "      <td>Allergic Asthma</td>\n",
       "      <td>Other: No intervention</td>\n",
       "      <td>Bioequivalence</td>\n",
       "      <td>Technische Universität Dresden</td>\n",
       "      <td>All</td>\n",
       "      <td>6 Years to 18 Years   (Child, Adult)</td>\n",
       "      <td>Not Applicable</td>\n",
       "      <td>27.0</td>\n",
       "      <td>Other</td>\n",
       "      <td>Observational</td>\n",
       "      <td>Observational Model: Case-Crossover|Time Persp...</td>\n",
       "      <td>D5890L00015</td>\n",
       "      <td>University Children´s Hospital, Technical Univ...</td>\n",
       "    </tr>\n",
       "    <tr>\n",
       "      <th>44998</th>\n",
       "      <td>PROPOSE Quality - PReOtact in Postmenopausal O...</td>\n",
       "      <td>Completed</td>\n",
       "      <td>No Results Available</td>\n",
       "      <td>Postmenopause|Osteoporosis</td>\n",
       "      <td>Drug: Parathyroid hormone (PTH) (Preotact)</td>\n",
       "      <td>Bioequivalence</td>\n",
       "      <td>Nycomed</td>\n",
       "      <td>Female</td>\n",
       "      <td>18 Years and older   (Adult, Older Adult)</td>\n",
       "      <td>Not Applicable</td>\n",
       "      <td>110.0</td>\n",
       "      <td>Industry</td>\n",
       "      <td>Observational</td>\n",
       "      <td>Observational Model: Case-Only|Time Perspectiv...</td>\n",
       "      <td>FP-004-DE</td>\n",
       "      <td>Nycomed Deutschland GmbH, Cities in Germany, G...</td>\n",
       "    </tr>\n",
       "    <tr>\n",
       "      <th>44999</th>\n",
       "      <td>HD18 for Advanced Stages in Hodgkins Lymphoma</td>\n",
       "      <td>Completed</td>\n",
       "      <td>No Results Available</td>\n",
       "      <td>Hodgkins Lymphoma</td>\n",
       "      <td>Drug: Rituximab|Drug: BEACOPP escalated</td>\n",
       "      <td>Progression Free Survival|Overall Survival|acu...</td>\n",
       "      <td>University of Cologne</td>\n",
       "      <td>All</td>\n",
       "      <td>18 Years to 60 Years   (Adult)</td>\n",
       "      <td>Phase 3</td>\n",
       "      <td>1500.0</td>\n",
       "      <td>Other</td>\n",
       "      <td>Interventional</td>\n",
       "      <td>Allocation: Randomized|Intervention Model: Par...</td>\n",
       "      <td>HD18</td>\n",
       "      <td>1st Dept. of Medicine, Cologne University Hosp...</td>\n",
       "    </tr>\n",
       "    <tr>\n",
       "      <th>45000</th>\n",
       "      <td>Effect of Exercise Training on the Function of...</td>\n",
       "      <td>Completed</td>\n",
       "      <td>No Results Available</td>\n",
       "      <td>Metabolic Syndrome X</td>\n",
       "      <td>Behavioral: physical exercise</td>\n",
       "      <td>Primary: vasculoprotective and regenerative fu...</td>\n",
       "      <td>Hannover Medical School</td>\n",
       "      <td>All</td>\n",
       "      <td>21 Years to 75 Years   (Adult, Older Adult)</td>\n",
       "      <td>Not Applicable</td>\n",
       "      <td>24.0</td>\n",
       "      <td>Other</td>\n",
       "      <td>Interventional</td>\n",
       "      <td>Allocation: Randomized|Intervention Model: Sin...</td>\n",
       "      <td>4031215</td>\n",
       "      <td>Hannover Medical School, Hannover, Germany</td>\n",
       "    </tr>\n",
       "    <tr>\n",
       "      <th>45001</th>\n",
       "      <td>Endotoxin Challenge Study For Healthy Men and ...</td>\n",
       "      <td>Completed</td>\n",
       "      <td>No Results Available</td>\n",
       "      <td>Pulmonary Disease, Chronic Obstructive</td>\n",
       "      <td>Drug: GSK256066|Drug: Placebo</td>\n",
       "      <td>Absolute BAL neutrophils at 24 h post LPS expo...</td>\n",
       "      <td>GlaxoSmithKline</td>\n",
       "      <td>All</td>\n",
       "      <td>18 Years to 50 Years   (Adult)</td>\n",
       "      <td>Phase 1</td>\n",
       "      <td>37.0</td>\n",
       "      <td>Industry</td>\n",
       "      <td>Interventional</td>\n",
       "      <td>Allocation: Randomized|Intervention Model: Par...</td>\n",
       "      <td>IPC103711</td>\n",
       "      <td>GSK Investigational Site, Hannover, Niedersach...</td>\n",
       "    </tr>\n",
       "  </tbody>\n",
       "</table>\n",
       "<p>45002 rows × 16 columns</p>\n",
       "</div>"
      ],
      "text/plain": [
       "                                                   Title     Status  \\\n",
       "0      Financial and Insurance Assistance- Oncology F...  Completed   \n",
       "1      Study of Progression to Progressive Fibrosing ...  Completed   \n",
       "2      Retrospective Assessment of AE-Related Healthc...  Completed   \n",
       "3      The Impact of Heartfulness Self-Care Program o...  Completed   \n",
       "4      A Study to Evaluate the Safety, Tolerability, ...  Completed   \n",
       "...                                                  ...        ...   \n",
       "44997  Influence of a Inhaled Corticosteroid Therapy ...  Completed   \n",
       "44998  PROPOSE Quality - PReOtact in Postmenopausal O...  Completed   \n",
       "44999      HD18 for Advanced Stages in Hodgkins Lymphoma  Completed   \n",
       "45000  Effect of Exercise Training on the Function of...  Completed   \n",
       "45001  Endotoxin Challenge Study For Healthy Men and ...  Completed   \n",
       "\n",
       "              Study Results                                 Conditions  \\\n",
       "0      No Results Available          Financial Stress|Pediatric Cancer   \n",
       "1      No Results Available                Lung Diseases, Interstitial   \n",
       "2      No Results Available                                   Melanoma   \n",
       "3      No Results Available  Anxiety|Satisfaction With Life|Loneliness   \n",
       "4      No Results Available  Chronic Graft-versus-host Disease (cGVHD)   \n",
       "...                     ...                                        ...   \n",
       "44997  No Results Available                            Allergic Asthma   \n",
       "44998  No Results Available                 Postmenopause|Osteoporosis   \n",
       "44999  No Results Available                          Hodgkins Lymphoma   \n",
       "45000  No Results Available                       Metabolic Syndrome X   \n",
       "45001  No Results Available     Pulmonary Disease, Chronic Obstructive   \n",
       "\n",
       "                                           Interventions  \\\n",
       "0                                       Other: FINassist   \n",
       "1                                 Other: No intervention   \n",
       "2                                 Other: No intervention   \n",
       "3      Behavioral: Self-Care Program through Heartful...   \n",
       "4                           Drug: AMG 592|Other: Placebo   \n",
       "...                                                  ...   \n",
       "44997                             Other: No intervention   \n",
       "44998         Drug: Parathyroid hormone (PTH) (Preotact)   \n",
       "44999            Drug: Rituximab|Drug: BEACOPP escalated   \n",
       "45000                      Behavioral: physical exercise   \n",
       "45001                      Drug: GSK256066|Drug: Placebo   \n",
       "\n",
       "                                        Outcome Measures  \\\n",
       "0      FINassist Feasibility|FINassist Adherence|FINa...   \n",
       "1      Incidence probability of progression to PF-ILD...   \n",
       "2      Percentage of patients with adverse events (AE...   \n",
       "3      Assess the current level of Anxiety|Changes le...   \n",
       "4      Number of Participants with Treatment-emergent...   \n",
       "...                                                  ...   \n",
       "44997                                     Bioequivalence   \n",
       "44998                                     Bioequivalence   \n",
       "44999  Progression Free Survival|Overall Survival|acu...   \n",
       "45000  Primary: vasculoprotective and regenerative fu...   \n",
       "45001  Absolute BAL neutrophils at 24 h post LPS expo...   \n",
       "\n",
       "                                   Sponsor/Collaborators  Gender  \\\n",
       "0      Jean Edward|Robert Wood Johnson Foundation|Uni...     All   \n",
       "1                                   Boehringer Ingelheim     All   \n",
       "2                      Novartis Pharmaceuticals|Novartis     All   \n",
       "3                                 Heartfulness Institute     All   \n",
       "4                                                  Amgen     All   \n",
       "...                                                  ...     ...   \n",
       "44997                     Technische Universität Dresden     All   \n",
       "44998                                            Nycomed  Female   \n",
       "44999                              University of Cologne     All   \n",
       "45000                            Hannover Medical School     All   \n",
       "45001                                    GlaxoSmithKline     All   \n",
       "\n",
       "                                                     Age          Phases  \\\n",
       "0            18 Years to 65 Years   (Adult, Older Adult)  Not Applicable   \n",
       "1              18 Years and older   (Adult, Older Adult)  Not Applicable   \n",
       "2              18 Years and older   (Adult, Older Adult)  Not Applicable   \n",
       "3      14 Years to 80 Years   (Child, Adult, Older Ad...  Not Applicable   \n",
       "4                         18 Years to 55 Years   (Adult)         Phase 1   \n",
       "...                                                  ...             ...   \n",
       "44997               6 Years to 18 Years   (Child, Adult)  Not Applicable   \n",
       "44998          18 Years and older   (Adult, Older Adult)  Not Applicable   \n",
       "44999                     18 Years to 60 Years   (Adult)         Phase 3   \n",
       "45000        21 Years to 75 Years   (Adult, Older Adult)  Not Applicable   \n",
       "45001                     18 Years to 50 Years   (Adult)         Phase 1   \n",
       "\n",
       "       Enrollment Funded Bys      Study Type  \\\n",
       "0            61.0      Other  Interventional   \n",
       "1        200000.0   Industry   Observational   \n",
       "2         17517.0   Industry   Observational   \n",
       "3           203.0      Other  Interventional   \n",
       "4            64.0   Industry  Interventional   \n",
       "...           ...        ...             ...   \n",
       "44997        27.0      Other   Observational   \n",
       "44998       110.0   Industry   Observational   \n",
       "44999      1500.0      Other  Interventional   \n",
       "45000        24.0      Other  Interventional   \n",
       "45001        37.0   Industry  Interventional   \n",
       "\n",
       "                                           Study Designs     Other IDs  \\\n",
       "0      Allocation: Non-Randomized|Intervention Model:...         57238   \n",
       "1      Observational Model: Cohort|Time Perspective: ...     1199-0523   \n",
       "2      Observational Model: Cohort|Time Perspective: ...  CTMT212AUS62   \n",
       "3      Allocation: Randomized|Intervention Model: Par...    02-01-2022   \n",
       "4      Allocation: Randomized|Intervention Model: Par...      20140324   \n",
       "...                                                  ...           ...   \n",
       "44997  Observational Model: Case-Crossover|Time Persp...   D5890L00015   \n",
       "44998  Observational Model: Case-Only|Time Perspectiv...     FP-004-DE   \n",
       "44999  Allocation: Randomized|Intervention Model: Par...          HD18   \n",
       "45000  Allocation: Randomized|Intervention Model: Sin...       4031215   \n",
       "45001  Allocation: Randomized|Intervention Model: Par...     IPC103711   \n",
       "\n",
       "                                               Locations  \n",
       "0      University of Kentucky DanceBlue Pediatric Hem...  \n",
       "1      Boehringer Ingelheim Pharmaceuticals, Inc., Ri...  \n",
       "2      Novartis, East Hanover, New Jersey, United States  \n",
       "3          Ranjani B Iyer, Novi, Michigan, United States  \n",
       "4        Research Site, Aventura, Florida, United States  \n",
       "...                                                  ...  \n",
       "44997  University Children´s Hospital, Technical Univ...  \n",
       "44998  Nycomed Deutschland GmbH, Cities in Germany, G...  \n",
       "44999  1st Dept. of Medicine, Cologne University Hosp...  \n",
       "45000         Hannover Medical School, Hannover, Germany  \n",
       "45001  GSK Investigational Site, Hannover, Niedersach...  \n",
       "\n",
       "[45002 rows x 16 columns]"
      ]
     },
     "execution_count": 99,
     "metadata": {},
     "output_type": "execute_result"
    }
   ],
   "source": [
    "cd_eda"
   ]
  },
  {
   "cell_type": "code",
   "execution_count": 100,
   "id": "f8ed1fb6",
   "metadata": {},
   "outputs": [],
   "source": [
    "cd_eda.to_csv(r'C:/Users/rabhi/OneDrive/Documents/Data_Clinical_eda.csv', index = False, header = True)"
   ]
  },
  {
   "cell_type": "code",
   "execution_count": 101,
   "id": "39ffd883",
   "metadata": {},
   "outputs": [],
   "source": [
    "from sklearn import model_selection\n",
    "class Benchmark:\n",
    "    def plot_cv_results(self):\n",
    "        plt.figure(figsize=(15,5))\n",
    "        x = np.arange(len(self.results))\n",
    "        plt.bar(x, list(self.results.values()), align='center', color ='g')\n",
    "        plt.xticks(x, list(self.results.keys()))\n",
    "        plt.ylim([0, 1])\n",
    "        plt.ylabel('Cross-Validation Score')\n",
    "        plt.xlabel('Models')\n",
    "        plt.title('Model Comparison')\n",
    "        for index, value in enumerate(self.results.values()):\n",
    "            plt.text(index, value, str(round(value,2)))\n",
    "        plt.show()\n",
    "\n",
    "\n",
    "    def __init__(self, models):\n",
    "        self.models = models\n",
    "\n",
    "    def test_models(self, X=x, y=y, cv=5):\n",
    "        self.results = {}\n",
    "        for name, model in self.models.items():\n",
    "            scores = model_selection.cross_val_score(model, X, y, cv=cv)\n",
    "            self.results[name] = scores.mean()\n",
    "        self.best_model = max(self.results, key=self.results.get)\n",
    "        return f\"The best model is: {self.best_model} with a score of {self.results[self.best_model]:.3f}\""
   ]
  },
  {
   "cell_type": "code",
   "execution_count": 102,
   "id": "ec0aff9f",
   "metadata": {},
   "outputs": [
    {
     "name": "stderr",
     "output_type": "stream",
     "text": [
      "C:\\Users\\rabhi\\anaconda3\\lib\\site-packages\\sklearn\\linear_model\\_logistic.py:458: ConvergenceWarning: lbfgs failed to converge (status=1):\n",
      "STOP: TOTAL NO. of ITERATIONS REACHED LIMIT.\n",
      "\n",
      "Increase the number of iterations (max_iter) or scale the data as shown in:\n",
      "    https://scikit-learn.org/stable/modules/preprocessing.html\n",
      "Please also refer to the documentation for alternative solver options:\n",
      "    https://scikit-learn.org/stable/modules/linear_model.html#logistic-regression\n",
      "  n_iter_i = _check_optimize_result(\n",
      "C:\\Users\\rabhi\\anaconda3\\lib\\site-packages\\sklearn\\linear_model\\_logistic.py:458: ConvergenceWarning: lbfgs failed to converge (status=1):\n",
      "STOP: TOTAL NO. of ITERATIONS REACHED LIMIT.\n",
      "\n",
      "Increase the number of iterations (max_iter) or scale the data as shown in:\n",
      "    https://scikit-learn.org/stable/modules/preprocessing.html\n",
      "Please also refer to the documentation for alternative solver options:\n",
      "    https://scikit-learn.org/stable/modules/linear_model.html#logistic-regression\n",
      "  n_iter_i = _check_optimize_result(\n",
      "C:\\Users\\rabhi\\anaconda3\\lib\\site-packages\\sklearn\\linear_model\\_logistic.py:458: ConvergenceWarning: lbfgs failed to converge (status=1):\n",
      "STOP: TOTAL NO. of ITERATIONS REACHED LIMIT.\n",
      "\n",
      "Increase the number of iterations (max_iter) or scale the data as shown in:\n",
      "    https://scikit-learn.org/stable/modules/preprocessing.html\n",
      "Please also refer to the documentation for alternative solver options:\n",
      "    https://scikit-learn.org/stable/modules/linear_model.html#logistic-regression\n",
      "  n_iter_i = _check_optimize_result(\n",
      "C:\\Users\\rabhi\\anaconda3\\lib\\site-packages\\xgboost\\sklearn.py:1224: UserWarning: The use of label encoder in XGBClassifier is deprecated and will be removed in a future release. To remove this warning, do the following: 1) Pass option use_label_encoder=False when constructing XGBClassifier object; and 2) Encode your labels (y) as integers starting with 0, i.e. 0, 1, 2, ..., [num_class - 1].\n",
      "  warnings.warn(label_encoder_deprecation_msg, UserWarning)\n"
     ]
    },
    {
     "name": "stdout",
     "output_type": "stream",
     "text": [
      "[21:43:51] WARNING: ..\\src\\learner.cc:1115: Starting in XGBoost 1.3.0, the default evaluation metric used with the objective 'binary:logistic' was changed from 'error' to 'logloss'. Explicitly set eval_metric if you'd like to restore the old behavior.\n"
     ]
    },
    {
     "name": "stderr",
     "output_type": "stream",
     "text": [
      "C:\\Users\\rabhi\\anaconda3\\lib\\site-packages\\xgboost\\sklearn.py:1224: UserWarning: The use of label encoder in XGBClassifier is deprecated and will be removed in a future release. To remove this warning, do the following: 1) Pass option use_label_encoder=False when constructing XGBClassifier object; and 2) Encode your labels (y) as integers starting with 0, i.e. 0, 1, 2, ..., [num_class - 1].\n",
      "  warnings.warn(label_encoder_deprecation_msg, UserWarning)\n"
     ]
    },
    {
     "name": "stdout",
     "output_type": "stream",
     "text": [
      "[21:43:51] WARNING: ..\\src\\learner.cc:1115: Starting in XGBoost 1.3.0, the default evaluation metric used with the objective 'binary:logistic' was changed from 'error' to 'logloss'. Explicitly set eval_metric if you'd like to restore the old behavior.\n"
     ]
    },
    {
     "name": "stderr",
     "output_type": "stream",
     "text": [
      "C:\\Users\\rabhi\\anaconda3\\lib\\site-packages\\xgboost\\sklearn.py:1224: UserWarning: The use of label encoder in XGBClassifier is deprecated and will be removed in a future release. To remove this warning, do the following: 1) Pass option use_label_encoder=False when constructing XGBClassifier object; and 2) Encode your labels (y) as integers starting with 0, i.e. 0, 1, 2, ..., [num_class - 1].\n",
      "  warnings.warn(label_encoder_deprecation_msg, UserWarning)\n"
     ]
    },
    {
     "name": "stdout",
     "output_type": "stream",
     "text": [
      "[21:43:51] WARNING: ..\\src\\learner.cc:1115: Starting in XGBoost 1.3.0, the default evaluation metric used with the objective 'binary:logistic' was changed from 'error' to 'logloss'. Explicitly set eval_metric if you'd like to restore the old behavior.\n"
     ]
    },
    {
     "name": "stderr",
     "output_type": "stream",
     "text": [
      "C:\\Users\\rabhi\\anaconda3\\lib\\site-packages\\xgboost\\sklearn.py:1224: UserWarning: The use of label encoder in XGBClassifier is deprecated and will be removed in a future release. To remove this warning, do the following: 1) Pass option use_label_encoder=False when constructing XGBClassifier object; and 2) Encode your labels (y) as integers starting with 0, i.e. 0, 1, 2, ..., [num_class - 1].\n",
      "  warnings.warn(label_encoder_deprecation_msg, UserWarning)\n"
     ]
    },
    {
     "name": "stdout",
     "output_type": "stream",
     "text": [
      "[21:43:52] WARNING: ..\\src\\learner.cc:1115: Starting in XGBoost 1.3.0, the default evaluation metric used with the objective 'binary:logistic' was changed from 'error' to 'logloss'. Explicitly set eval_metric if you'd like to restore the old behavior.\n"
     ]
    },
    {
     "name": "stderr",
     "output_type": "stream",
     "text": [
      "C:\\Users\\rabhi\\anaconda3\\lib\\site-packages\\xgboost\\sklearn.py:1224: UserWarning: The use of label encoder in XGBClassifier is deprecated and will be removed in a future release. To remove this warning, do the following: 1) Pass option use_label_encoder=False when constructing XGBClassifier object; and 2) Encode your labels (y) as integers starting with 0, i.e. 0, 1, 2, ..., [num_class - 1].\n",
      "  warnings.warn(label_encoder_deprecation_msg, UserWarning)\n"
     ]
    },
    {
     "name": "stdout",
     "output_type": "stream",
     "text": [
      "[21:43:52] WARNING: ..\\src\\learner.cc:1115: Starting in XGBoost 1.3.0, the default evaluation metric used with the objective 'binary:logistic' was changed from 'error' to 'logloss'. Explicitly set eval_metric if you'd like to restore the old behavior.\n",
      "The best model is: Random Forest with a score of 0.895\n"
     ]
    },
    {
     "data": {
      "image/png": "[encoded data removed]",
      "text/plain": [
       "<Figure size 1080x360 with 1 Axes>"
      ]
     },
     "metadata": {
      "needs_background": "light"
     },
     "output_type": "display_data"
    }
   ],
   "source": [
    "models = {\n",
    "    'logistic': lr,\n",
    "    'Random Forest': rfc ,\n",
    "    'XGBoost': xg,\n",
    "    'SVM' : sv,\n",
    "    'Decision Tree': dt\n",
    "\n",
    "}\n",
    "\n",
    "benchmark = Benchmark(models)\n",
    "print(benchmark.test_models())\n",
    "benchmark.plot_cv_results()"
   ]
  },
  {
   "cell_type": "code",
   "execution_count": null,
   "id": "922509bc",
   "metadata": {},
   "outputs": [],
   "source": []
  }
 ],
 "metadata": {
  "kernelspec": {
   "display_name": "Python 3 (ipykernel)",
   "language": "python",
   "name": "python3"
  },
  "language_info": {
   "codemirror_mode": {
    "name": "ipython",
    "version": 3
   },
   "file_extension": ".py",
   "mimetype": "text/x-python",
   "name": "python",
   "nbconvert_exporter": "python",
   "pygments_lexer": "ipython3",
   "version": "3.9.7"
  }
 },
 "nbformat": 4,
 "nbformat_minor": 5
}
