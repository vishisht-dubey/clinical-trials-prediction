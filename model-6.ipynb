{
 "cells": [
  {
   "cell_type": "code",
   "execution_count": 1,
   "id": "1edbb1d0",
   "metadata": {},
   "outputs": [],
   "source": [
    "import pandas as pd\n",
    "import numpy as np\n",
    "import matplotlib.pyplot as plt\n",
    "import seaborn as sns"
   ]
  },
  {
   "cell_type": "code",
   "execution_count": 2,
   "id": "368c5312",
   "metadata": {},
   "outputs": [],
   "source": [
    "cd=pd.read_csv(\"C:\\\\Users\\\\rabhi\\\\OneDrive\\\\Documents\\\\Data_Clinical_Samples.csv\")"
   ]
  },
  {
   "cell_type": "code",
   "execution_count": 3,
   "id": "205089fc",
   "metadata": {},
   "outputs": [
    {
     "data": {
      "text/html": [
       "<div>\n",
       "<style scoped>\n",
       "    .dataframe tbody tr th:only-of-type {\n",
       "        vertical-align: middle;\n",
       "    }\n",
       "\n",
       "    .dataframe tbody tr th {\n",
       "        vertical-align: top;\n",
       "    }\n",
       "\n",
       "    .dataframe thead th {\n",
       "        text-align: right;\n",
       "    }\n",
       "</style>\n",
       "<table border=\"1\" class=\"dataframe\">\n",
       "  <thead>\n",
       "    <tr style=\"text-align: right;\">\n",
       "      <th></th>\n",
       "      <th>Title</th>\n",
       "      <th>Status</th>\n",
       "      <th>Study Results</th>\n",
       "      <th>Conditions</th>\n",
       "      <th>Interventions</th>\n",
       "      <th>Outcome Measures</th>\n",
       "      <th>Sponsor/Collaborators</th>\n",
       "      <th>Gender</th>\n",
       "      <th>Age</th>\n",
       "      <th>Phases</th>\n",
       "      <th>Enrollment</th>\n",
       "      <th>Funded Bys</th>\n",
       "      <th>Study Type</th>\n",
       "      <th>Study Designs</th>\n",
       "      <th>Other IDs</th>\n",
       "      <th>Locations</th>\n",
       "    </tr>\n",
       "  </thead>\n",
       "  <tbody>\n",
       "    <tr>\n",
       "      <th>0</th>\n",
       "      <td>Financial and Insurance Assistance- Oncology F...</td>\n",
       "      <td>Completed</td>\n",
       "      <td>No Results Available</td>\n",
       "      <td>Financial Stress|Pediatric Cancer</td>\n",
       "      <td>Other: FINassist</td>\n",
       "      <td>FINassist Feasibility|FINassist Adherence|FINa...</td>\n",
       "      <td>Jean Edward|Robert Wood Johnson Foundation|Uni...</td>\n",
       "      <td>All</td>\n",
       "      <td>18 Years to 65 Years   (Adult, Older Adult)</td>\n",
       "      <td>Not Applicable</td>\n",
       "      <td>61.0</td>\n",
       "      <td>Other</td>\n",
       "      <td>Interventional</td>\n",
       "      <td>Allocation: Non-Randomized|Intervention Model:...</td>\n",
       "      <td>57238</td>\n",
       "      <td>University of Kentucky DanceBlue Pediatric Hem...</td>\n",
       "    </tr>\n",
       "    <tr>\n",
       "      <th>1</th>\n",
       "      <td>Study of Progression to Progressive Fibrosing ...</td>\n",
       "      <td>Completed</td>\n",
       "      <td>No Results Available</td>\n",
       "      <td>Lung Diseases, Interstitial</td>\n",
       "      <td>Other: No intervention</td>\n",
       "      <td>Incidence probability of progression to PF-ILD...</td>\n",
       "      <td>Boehringer Ingelheim</td>\n",
       "      <td>All</td>\n",
       "      <td>18 Years and older   (Adult, Older Adult)</td>\n",
       "      <td>Not Applicable</td>\n",
       "      <td>200000.0</td>\n",
       "      <td>Industry</td>\n",
       "      <td>Observational</td>\n",
       "      <td>Observational Model: Cohort|Time Perspective: ...</td>\n",
       "      <td>1199-0523</td>\n",
       "      <td>Boehringer Ingelheim Pharmaceuticals, Inc., Ri...</td>\n",
       "    </tr>\n",
       "    <tr>\n",
       "      <th>2</th>\n",
       "      <td>Retrospective Assessment of AE-Related Healthc...</td>\n",
       "      <td>Completed</td>\n",
       "      <td>No Results Available</td>\n",
       "      <td>Melanoma</td>\n",
       "      <td>Other: No intervention</td>\n",
       "      <td>Percentage of patients with adverse events (AE...</td>\n",
       "      <td>Novartis Pharmaceuticals|Novartis</td>\n",
       "      <td>All</td>\n",
       "      <td>18 Years and older   (Adult, Older Adult)</td>\n",
       "      <td>Not Applicable</td>\n",
       "      <td>17517.0</td>\n",
       "      <td>Industry</td>\n",
       "      <td>Observational</td>\n",
       "      <td>Observational Model: Cohort|Time Perspective: ...</td>\n",
       "      <td>CTMT212AUS62</td>\n",
       "      <td>Novartis, East Hanover, New Jersey, United States</td>\n",
       "    </tr>\n",
       "    <tr>\n",
       "      <th>3</th>\n",
       "      <td>The Impact of Heartfulness Self-Care Program o...</td>\n",
       "      <td>Completed</td>\n",
       "      <td>No Results Available</td>\n",
       "      <td>Anxiety|Satisfaction With Life|Loneliness</td>\n",
       "      <td>Behavioral: Self-Care Program through Heartful...</td>\n",
       "      <td>Assess the current level of Anxiety|Changes le...</td>\n",
       "      <td>Heartfulness Institute</td>\n",
       "      <td>All</td>\n",
       "      <td>14 Years to 80 Years   (Child, Adult, Older Ad...</td>\n",
       "      <td>Not Applicable</td>\n",
       "      <td>203.0</td>\n",
       "      <td>Other</td>\n",
       "      <td>Interventional</td>\n",
       "      <td>Allocation: Randomized|Intervention Model: Par...</td>\n",
       "      <td>02-01-2022</td>\n",
       "      <td>Ranjani B Iyer, Novi, Michigan, United States</td>\n",
       "    </tr>\n",
       "    <tr>\n",
       "      <th>4</th>\n",
       "      <td>A Study to Evaluate the Safety, Tolerability, ...</td>\n",
       "      <td>Completed</td>\n",
       "      <td>No Results Available</td>\n",
       "      <td>Chronic Graft-versus-host Disease (cGVHD)</td>\n",
       "      <td>Drug: AMG 592|Other: Placebo</td>\n",
       "      <td>Number of Participants with Treatment-emergent...</td>\n",
       "      <td>Amgen</td>\n",
       "      <td>All</td>\n",
       "      <td>18 Years to 55 Years   (Adult)</td>\n",
       "      <td>Phase 1</td>\n",
       "      <td>64.0</td>\n",
       "      <td>Industry</td>\n",
       "      <td>Interventional</td>\n",
       "      <td>Allocation: Randomized|Intervention Model: Par...</td>\n",
       "      <td>20140324</td>\n",
       "      <td>Research Site, Aventura, Florida, United States</td>\n",
       "    </tr>\n",
       "    <tr>\n",
       "      <th>...</th>\n",
       "      <td>...</td>\n",
       "      <td>...</td>\n",
       "      <td>...</td>\n",
       "      <td>...</td>\n",
       "      <td>...</td>\n",
       "      <td>...</td>\n",
       "      <td>...</td>\n",
       "      <td>...</td>\n",
       "      <td>...</td>\n",
       "      <td>...</td>\n",
       "      <td>...</td>\n",
       "      <td>...</td>\n",
       "      <td>...</td>\n",
       "      <td>...</td>\n",
       "      <td>...</td>\n",
       "      <td>...</td>\n",
       "    </tr>\n",
       "    <tr>\n",
       "      <th>69714</th>\n",
       "      <td>Nab-paclitaxel and Gemcitabine vs Gemcitabine ...</td>\n",
       "      <td>Completed</td>\n",
       "      <td>Has Results</td>\n",
       "      <td>Pancreatic Neoplasms|Digestive System Neoplasm...</td>\n",
       "      <td>Drug: nab-Paclitaxel|Drug: Gemcitabine</td>\n",
       "      <td>Kaplan Meier Estimate for Disease Free Surviva...</td>\n",
       "      <td>Celgene</td>\n",
       "      <td>All</td>\n",
       "      <td>18 Years and older   (Adult, Older Adult)</td>\n",
       "      <td>Phase 3</td>\n",
       "      <td>866.0</td>\n",
       "      <td>Industry</td>\n",
       "      <td>Interventional</td>\n",
       "      <td>Allocation: Randomized|Intervention Model: Par...</td>\n",
       "      <td>ABI-007-PANC-003|2013-003398-91</td>\n",
       "      <td>Local Institution - 043, Scottsdale, Arizona, ...</td>\n",
       "    </tr>\n",
       "    <tr>\n",
       "      <th>69715</th>\n",
       "      <td>IFN-free Combination Therapy in HCV-infected P...</td>\n",
       "      <td>Completed</td>\n",
       "      <td>Has Results</td>\n",
       "      <td>Hepatitis C, Chronic</td>\n",
       "      <td>Drug: Ribavirin (RBV)|Drug: BI 201335 (Faldapr...</td>\n",
       "      <td>SVR12 Rates With Historical Control|Comparison...</td>\n",
       "      <td>Boehringer Ingelheim</td>\n",
       "      <td>All</td>\n",
       "      <td>18 Years to 75 Years   (Adult, Older Adult)</td>\n",
       "      <td>Phase 3</td>\n",
       "      <td>470.0</td>\n",
       "      <td>Industry</td>\n",
       "      <td>Interventional</td>\n",
       "      <td>Allocation: Randomized|Intervention Model: Par...</td>\n",
       "      <td>1241.20|2012-003533-41</td>\n",
       "      <td>1241.20.00026 Boehringer Ingelheim Investigati...</td>\n",
       "    </tr>\n",
       "    <tr>\n",
       "      <th>69716</th>\n",
       "      <td>Effect of Glycopyrronium on Morning Symptoms a...</td>\n",
       "      <td>Completed</td>\n",
       "      <td>Has Results</td>\n",
       "      <td>COPD</td>\n",
       "      <td>Drug: Glycopyrronium|Drug: Tiotropium|Drug: Pl...</td>\n",
       "      <td>Forced Expiratory Volume in 1 Second (FEV1) AU...</td>\n",
       "      <td>Novartis Pharmaceuticals|Novartis</td>\n",
       "      <td>All</td>\n",
       "      <td>40 Years and older   (Adult, Older Adult)</td>\n",
       "      <td>Phase 4</td>\n",
       "      <td>124.0</td>\n",
       "      <td>Industry</td>\n",
       "      <td>Interventional</td>\n",
       "      <td>Allocation: Randomized|Intervention Model: Cro...</td>\n",
       "      <td>CNVA237A3401</td>\n",
       "      <td>Novartis Investigative Site, Geesthacht, Schle...</td>\n",
       "    </tr>\n",
       "    <tr>\n",
       "      <th>69717</th>\n",
       "      <td>A Study Comparing Trametinib and Dabrafenib Co...</td>\n",
       "      <td>Completed</td>\n",
       "      <td>Has Results</td>\n",
       "      <td>Melanoma</td>\n",
       "      <td>Drug: Dabrafenib|Drug: Trametinib|Drug: Tramet...</td>\n",
       "      <td>Progression-Free Survival (PFS) as Assessed by...</td>\n",
       "      <td>Novartis Pharmaceuticals|Novartis</td>\n",
       "      <td>All</td>\n",
       "      <td>18 Years and older   (Adult, Older Adult)</td>\n",
       "      <td>Phase 3</td>\n",
       "      <td>423.0</td>\n",
       "      <td>Industry</td>\n",
       "      <td>Interventional</td>\n",
       "      <td>Allocation: Randomized|Intervention Model: Par...</td>\n",
       "      <td>115306|2011-006087-49|CDRB436B2301</td>\n",
       "      <td>Novartis Investigative Site, Scottsdale, Arizo...</td>\n",
       "    </tr>\n",
       "    <tr>\n",
       "      <th>69718</th>\n",
       "      <td>A Phase 3 Study of Ibrutinib (PCI-32765) Versu...</td>\n",
       "      <td>Completed</td>\n",
       "      <td>Has Results</td>\n",
       "      <td>Relapsed or Refractory Chronic Lymphocytic Leu...</td>\n",
       "      <td>Drug: ofatumumab|Drug: ibrutinib</td>\n",
       "      <td>PFS (Progression Free Survival) by Independent...</td>\n",
       "      <td>Pharmacyclics LLC.|Janssen Research &amp; Developm...</td>\n",
       "      <td>All</td>\n",
       "      <td>18 Years and older   (Adult, Older Adult)</td>\n",
       "      <td>Phase 3</td>\n",
       "      <td>391.0</td>\n",
       "      <td>Industry</td>\n",
       "      <td>Interventional</td>\n",
       "      <td>Allocation: Randomized|Intervention Model: Par...</td>\n",
       "      <td>PCYC-1112-CA|2012-000694-23</td>\n",
       "      <td>Site #408, La Jolla, California, United States...</td>\n",
       "    </tr>\n",
       "  </tbody>\n",
       "</table>\n",
       "<p>69719 rows × 16 columns</p>\n",
       "</div>"
      ],
      "text/plain": [
       "                                                   Title     Status  \\\n",
       "0      Financial and Insurance Assistance- Oncology F...  Completed   \n",
       "1      Study of Progression to Progressive Fibrosing ...  Completed   \n",
       "2      Retrospective Assessment of AE-Related Healthc...  Completed   \n",
       "3      The Impact of Heartfulness Self-Care Program o...  Completed   \n",
       "4      A Study to Evaluate the Safety, Tolerability, ...  Completed   \n",
       "...                                                  ...        ...   \n",
       "69714  Nab-paclitaxel and Gemcitabine vs Gemcitabine ...  Completed   \n",
       "69715  IFN-free Combination Therapy in HCV-infected P...  Completed   \n",
       "69716  Effect of Glycopyrronium on Morning Symptoms a...  Completed   \n",
       "69717  A Study Comparing Trametinib and Dabrafenib Co...  Completed   \n",
       "69718  A Phase 3 Study of Ibrutinib (PCI-32765) Versu...  Completed   \n",
       "\n",
       "              Study Results  \\\n",
       "0      No Results Available   \n",
       "1      No Results Available   \n",
       "2      No Results Available   \n",
       "3      No Results Available   \n",
       "4      No Results Available   \n",
       "...                     ...   \n",
       "69714           Has Results   \n",
       "69715           Has Results   \n",
       "69716           Has Results   \n",
       "69717           Has Results   \n",
       "69718           Has Results   \n",
       "\n",
       "                                              Conditions  \\\n",
       "0                      Financial Stress|Pediatric Cancer   \n",
       "1                            Lung Diseases, Interstitial   \n",
       "2                                               Melanoma   \n",
       "3              Anxiety|Satisfaction With Life|Loneliness   \n",
       "4              Chronic Graft-versus-host Disease (cGVHD)   \n",
       "...                                                  ...   \n",
       "69714  Pancreatic Neoplasms|Digestive System Neoplasm...   \n",
       "69715                               Hepatitis C, Chronic   \n",
       "69716                                               COPD   \n",
       "69717                                           Melanoma   \n",
       "69718  Relapsed or Refractory Chronic Lymphocytic Leu...   \n",
       "\n",
       "                                           Interventions  \\\n",
       "0                                       Other: FINassist   \n",
       "1                                 Other: No intervention   \n",
       "2                                 Other: No intervention   \n",
       "3      Behavioral: Self-Care Program through Heartful...   \n",
       "4                           Drug: AMG 592|Other: Placebo   \n",
       "...                                                  ...   \n",
       "69714             Drug: nab-Paclitaxel|Drug: Gemcitabine   \n",
       "69715  Drug: Ribavirin (RBV)|Drug: BI 201335 (Faldapr...   \n",
       "69716  Drug: Glycopyrronium|Drug: Tiotropium|Drug: Pl...   \n",
       "69717  Drug: Dabrafenib|Drug: Trametinib|Drug: Tramet...   \n",
       "69718                   Drug: ofatumumab|Drug: ibrutinib   \n",
       "\n",
       "                                        Outcome Measures  \\\n",
       "0      FINassist Feasibility|FINassist Adherence|FINa...   \n",
       "1      Incidence probability of progression to PF-ILD...   \n",
       "2      Percentage of patients with adverse events (AE...   \n",
       "3      Assess the current level of Anxiety|Changes le...   \n",
       "4      Number of Participants with Treatment-emergent...   \n",
       "...                                                  ...   \n",
       "69714  Kaplan Meier Estimate for Disease Free Surviva...   \n",
       "69715  SVR12 Rates With Historical Control|Comparison...   \n",
       "69716  Forced Expiratory Volume in 1 Second (FEV1) AU...   \n",
       "69717  Progression-Free Survival (PFS) as Assessed by...   \n",
       "69718  PFS (Progression Free Survival) by Independent...   \n",
       "\n",
       "                                   Sponsor/Collaborators Gender  \\\n",
       "0      Jean Edward|Robert Wood Johnson Foundation|Uni...    All   \n",
       "1                                   Boehringer Ingelheim    All   \n",
       "2                      Novartis Pharmaceuticals|Novartis    All   \n",
       "3                                 Heartfulness Institute    All   \n",
       "4                                                  Amgen    All   \n",
       "...                                                  ...    ...   \n",
       "69714                                            Celgene    All   \n",
       "69715                               Boehringer Ingelheim    All   \n",
       "69716                  Novartis Pharmaceuticals|Novartis    All   \n",
       "69717                  Novartis Pharmaceuticals|Novartis    All   \n",
       "69718  Pharmacyclics LLC.|Janssen Research & Developm...    All   \n",
       "\n",
       "                                                     Age          Phases  \\\n",
       "0            18 Years to 65 Years   (Adult, Older Adult)  Not Applicable   \n",
       "1              18 Years and older   (Adult, Older Adult)  Not Applicable   \n",
       "2              18 Years and older   (Adult, Older Adult)  Not Applicable   \n",
       "3      14 Years to 80 Years   (Child, Adult, Older Ad...  Not Applicable   \n",
       "4                         18 Years to 55 Years   (Adult)         Phase 1   \n",
       "...                                                  ...             ...   \n",
       "69714          18 Years and older   (Adult, Older Adult)         Phase 3   \n",
       "69715        18 Years to 75 Years   (Adult, Older Adult)         Phase 3   \n",
       "69716          40 Years and older   (Adult, Older Adult)         Phase 4   \n",
       "69717          18 Years and older   (Adult, Older Adult)         Phase 3   \n",
       "69718          18 Years and older   (Adult, Older Adult)         Phase 3   \n",
       "\n",
       "       Enrollment Funded Bys      Study Type  \\\n",
       "0            61.0      Other  Interventional   \n",
       "1        200000.0   Industry   Observational   \n",
       "2         17517.0   Industry   Observational   \n",
       "3           203.0      Other  Interventional   \n",
       "4            64.0   Industry  Interventional   \n",
       "...           ...        ...             ...   \n",
       "69714       866.0   Industry  Interventional   \n",
       "69715       470.0   Industry  Interventional   \n",
       "69716       124.0   Industry  Interventional   \n",
       "69717       423.0   Industry  Interventional   \n",
       "69718       391.0   Industry  Interventional   \n",
       "\n",
       "                                           Study Designs  \\\n",
       "0      Allocation: Non-Randomized|Intervention Model:...   \n",
       "1      Observational Model: Cohort|Time Perspective: ...   \n",
       "2      Observational Model: Cohort|Time Perspective: ...   \n",
       "3      Allocation: Randomized|Intervention Model: Par...   \n",
       "4      Allocation: Randomized|Intervention Model: Par...   \n",
       "...                                                  ...   \n",
       "69714  Allocation: Randomized|Intervention Model: Par...   \n",
       "69715  Allocation: Randomized|Intervention Model: Par...   \n",
       "69716  Allocation: Randomized|Intervention Model: Cro...   \n",
       "69717  Allocation: Randomized|Intervention Model: Par...   \n",
       "69718  Allocation: Randomized|Intervention Model: Par...   \n",
       "\n",
       "                                Other IDs  \\\n",
       "0                                   57238   \n",
       "1                               1199-0523   \n",
       "2                            CTMT212AUS62   \n",
       "3                              02-01-2022   \n",
       "4                                20140324   \n",
       "...                                   ...   \n",
       "69714     ABI-007-PANC-003|2013-003398-91   \n",
       "69715              1241.20|2012-003533-41   \n",
       "69716                        CNVA237A3401   \n",
       "69717  115306|2011-006087-49|CDRB436B2301   \n",
       "69718         PCYC-1112-CA|2012-000694-23   \n",
       "\n",
       "                                               Locations  \n",
       "0      University of Kentucky DanceBlue Pediatric Hem...  \n",
       "1      Boehringer Ingelheim Pharmaceuticals, Inc., Ri...  \n",
       "2      Novartis, East Hanover, New Jersey, United States  \n",
       "3          Ranjani B Iyer, Novi, Michigan, United States  \n",
       "4        Research Site, Aventura, Florida, United States  \n",
       "...                                                  ...  \n",
       "69714  Local Institution - 043, Scottsdale, Arizona, ...  \n",
       "69715  1241.20.00026 Boehringer Ingelheim Investigati...  \n",
       "69716  Novartis Investigative Site, Geesthacht, Schle...  \n",
       "69717  Novartis Investigative Site, Scottsdale, Arizo...  \n",
       "69718  Site #408, La Jolla, California, United States...  \n",
       "\n",
       "[69719 rows x 16 columns]"
      ]
     },
     "execution_count": 3,
     "metadata": {},
     "output_type": "execute_result"
    }
   ],
   "source": [
    "cd"
   ]
  },
  {
   "cell_type": "code",
   "execution_count": 4,
   "id": "9d23391e",
   "metadata": {},
   "outputs": [],
   "source": [
    "cd1=cd.loc[20001:30001]"
   ]
  },
  {
   "cell_type": "code",
   "execution_count": 5,
   "id": "f5b28bf4",
   "metadata": {},
   "outputs": [
    {
     "data": {
      "text/html": [
       "<div>\n",
       "<style scoped>\n",
       "    .dataframe tbody tr th:only-of-type {\n",
       "        vertical-align: middle;\n",
       "    }\n",
       "\n",
       "    .dataframe tbody tr th {\n",
       "        vertical-align: top;\n",
       "    }\n",
       "\n",
       "    .dataframe thead th {\n",
       "        text-align: right;\n",
       "    }\n",
       "</style>\n",
       "<table border=\"1\" class=\"dataframe\">\n",
       "  <thead>\n",
       "    <tr style=\"text-align: right;\">\n",
       "      <th></th>\n",
       "      <th>Title</th>\n",
       "      <th>Status</th>\n",
       "      <th>Study Results</th>\n",
       "      <th>Conditions</th>\n",
       "      <th>Interventions</th>\n",
       "      <th>Outcome Measures</th>\n",
       "      <th>Sponsor/Collaborators</th>\n",
       "      <th>Gender</th>\n",
       "      <th>Age</th>\n",
       "      <th>Phases</th>\n",
       "      <th>Enrollment</th>\n",
       "      <th>Funded Bys</th>\n",
       "      <th>Study Type</th>\n",
       "      <th>Study Designs</th>\n",
       "      <th>Other IDs</th>\n",
       "      <th>Locations</th>\n",
       "    </tr>\n",
       "  </thead>\n",
       "  <tbody>\n",
       "    <tr>\n",
       "      <th>20001</th>\n",
       "      <td>Body PSOriasis: Long-term Relapse CONTROL</td>\n",
       "      <td>Completed</td>\n",
       "      <td>No Results Available</td>\n",
       "      <td>Psoriasis Vulgaris</td>\n",
       "      <td>Drug: Any topical drug treatment</td>\n",
       "      <td>Time of relapse|Dermatology Life Quality Index...</td>\n",
       "      <td>LEO Pharma</td>\n",
       "      <td>All</td>\n",
       "      <td>18 Years and older   (Adult, Older Adult)</td>\n",
       "      <td>Not Applicable</td>\n",
       "      <td>764.0</td>\n",
       "      <td>Industry</td>\n",
       "      <td>Observational</td>\n",
       "      <td>Observational Model: Cohort|Time Perspective: ...</td>\n",
       "      <td>NIS-PSORIASIS-1379</td>\n",
       "      <td>The State Autonomous Foundation of Public Heal...</td>\n",
       "    </tr>\n",
       "    <tr>\n",
       "      <th>20002</th>\n",
       "      <td>A Study of Perfusion of Colorectal Anastomosis...</td>\n",
       "      <td>Completed</td>\n",
       "      <td>No Results Available</td>\n",
       "      <td>Rectal Cancer|Sigmoid Cancer</td>\n",
       "      <td>Device: Fluorescence angiography with indocian...</td>\n",
       "      <td>Anastomotic Leak Rate</td>\n",
       "      <td>State Scientific Centre of Coloproctology, Rus...</td>\n",
       "      <td>All</td>\n",
       "      <td>18 Years and older   (Adult, Older Adult)</td>\n",
       "      <td>Not Applicable</td>\n",
       "      <td>377.0</td>\n",
       "      <td>Other</td>\n",
       "      <td>Interventional</td>\n",
       "      <td>Allocation: Randomized|Intervention Model: Par...</td>\n",
       "      <td>80</td>\n",
       "      <td>State Scientific Centre of Coloproctology, Mos...</td>\n",
       "    </tr>\n",
       "    <tr>\n",
       "      <th>20003</th>\n",
       "      <td>An International Multicenter, Randomized, Doub...</td>\n",
       "      <td>Completed</td>\n",
       "      <td>Has Results</td>\n",
       "      <td>Moderate to Severe Plaque Psoriasis</td>\n",
       "      <td>Drug: BCD-085 Q2W|Drug: BCD-085 Q4W|Drug: Placebo</td>\n",
       "      <td>• The Proportion (Number) of Patients in Each ...</td>\n",
       "      <td>Biocad</td>\n",
       "      <td>All</td>\n",
       "      <td>18 Years and older   (Adult, Older Adult)</td>\n",
       "      <td>Phase 3</td>\n",
       "      <td>213.0</td>\n",
       "      <td>Industry</td>\n",
       "      <td>Interventional</td>\n",
       "      <td>Allocation: Randomized|Intervention Model: Par...</td>\n",
       "      <td>BCD-085-7</td>\n",
       "      <td>BIOCAD, Saint Petersburg, Strelna, Russian Fed...</td>\n",
       "    </tr>\n",
       "    <tr>\n",
       "      <th>20004</th>\n",
       "      <td>Efficacy of Resveratrol in Depression</td>\n",
       "      <td>Completed</td>\n",
       "      <td>Has Results</td>\n",
       "      <td>Depression</td>\n",
       "      <td>Drug: Resveratrol Pill|Drug: Placebos</td>\n",
       "      <td>Change in Total HDRS-17 Score From Baseline to...</td>\n",
       "      <td>Russian Academy of Medical Sciences|Russian Sc...</td>\n",
       "      <td>All</td>\n",
       "      <td>18 Years to 75 Years   (Adult, Older Adult)</td>\n",
       "      <td>Phase 4</td>\n",
       "      <td>30.0</td>\n",
       "      <td>Other</td>\n",
       "      <td>Interventional</td>\n",
       "      <td>Allocation: Randomized|Intervention Model: Par...</td>\n",
       "      <td>RESV-depression</td>\n",
       "      <td>Lyubomir I. Aftanas, Novosibirsk, Russian Fede...</td>\n",
       "    </tr>\n",
       "    <tr>\n",
       "      <th>20005</th>\n",
       "      <td>Haploidentical Lymphocytes With Nivolumab/Ara-...</td>\n",
       "      <td>Terminated</td>\n",
       "      <td>No Results Available</td>\n",
       "      <td>Acute Myeloid Leukemia</td>\n",
       "      <td>Drug: Cytarabine|Drug: Nivolumab|Biological: G...</td>\n",
       "      <td>Disease-free survival|Overall survival|Inciden...</td>\n",
       "      <td>St. Petersburg State Pavlov Medical University</td>\n",
       "      <td>All</td>\n",
       "      <td>55 Years to 85 Years   (Adult, Older Adult)</td>\n",
       "      <td>Phase 2</td>\n",
       "      <td>16.0</td>\n",
       "      <td>Other</td>\n",
       "      <td>Interventional</td>\n",
       "      <td>Allocation: Randomized|Intervention Model: Par...</td>\n",
       "      <td>31/17-n</td>\n",
       "      <td>Boris V Afanasyev, MD, Prof., Saint Petersburg...</td>\n",
       "    </tr>\n",
       "    <tr>\n",
       "      <th>...</th>\n",
       "      <td>...</td>\n",
       "      <td>...</td>\n",
       "      <td>...</td>\n",
       "      <td>...</td>\n",
       "      <td>...</td>\n",
       "      <td>...</td>\n",
       "      <td>...</td>\n",
       "      <td>...</td>\n",
       "      <td>...</td>\n",
       "      <td>...</td>\n",
       "      <td>...</td>\n",
       "      <td>...</td>\n",
       "      <td>...</td>\n",
       "      <td>...</td>\n",
       "      <td>...</td>\n",
       "      <td>...</td>\n",
       "    </tr>\n",
       "    <tr>\n",
       "      <th>29997</th>\n",
       "      <td>Comparative Bioavailability Study of Lamotrigi...</td>\n",
       "      <td>Completed</td>\n",
       "      <td>No Results Available</td>\n",
       "      <td>Bioequivalence</td>\n",
       "      <td>Drug: Lamotrigine ER tablet 50mg</td>\n",
       "      <td>Cmax|AUC0-T|AUC0-∞</td>\n",
       "      <td>Alembic Pharmaceuticals Ltd.</td>\n",
       "      <td>All</td>\n",
       "      <td>18 Years to 54 Years   (Adult)</td>\n",
       "      <td>Phase 1</td>\n",
       "      <td>22.0</td>\n",
       "      <td>Industry</td>\n",
       "      <td>Interventional</td>\n",
       "      <td>Allocation: Randomized|Intervention Model: Cro...</td>\n",
       "      <td>AMC-P0-215</td>\n",
       "      <td>Algorithme Pharma, Mount Royal, Quebec, Canada</td>\n",
       "    </tr>\n",
       "    <tr>\n",
       "      <th>29998</th>\n",
       "      <td>The Effect of Brief Bodyweight Exercise on Acu...</td>\n",
       "      <td>Completed</td>\n",
       "      <td>No Results Available</td>\n",
       "      <td>Exercise</td>\n",
       "      <td>Other: Exercise</td>\n",
       "      <td>24-hour mean glucose|Glycemic variability|Peak...</td>\n",
       "      <td>McMaster University|York University</td>\n",
       "      <td>All</td>\n",
       "      <td>18 Years to 35 Years   (Adult)</td>\n",
       "      <td>Not Applicable</td>\n",
       "      <td>35.0</td>\n",
       "      <td>Other</td>\n",
       "      <td>Interventional</td>\n",
       "      <td>Allocation: Randomized|Intervention Model: Cro...</td>\n",
       "      <td>13864</td>\n",
       "      <td>McMaster University, Hamilton, Ontario, Canada</td>\n",
       "    </tr>\n",
       "    <tr>\n",
       "      <th>29999</th>\n",
       "      <td>A FIH Study to Assess the Safety and Tolerabil...</td>\n",
       "      <td>Completed</td>\n",
       "      <td>No Results Available</td>\n",
       "      <td>Neurodegenerative Diseases</td>\n",
       "      <td>Drug: NS101 IV infusion</td>\n",
       "      <td>AEs of NS101 following intravenous (IV) admini...</td>\n",
       "      <td>Neuracle Science Co., LTD.</td>\n",
       "      <td>Male</td>\n",
       "      <td>18 Years to 55 Years   (Adult)</td>\n",
       "      <td>Phase 1</td>\n",
       "      <td>64.0</td>\n",
       "      <td>Industry</td>\n",
       "      <td>Interventional</td>\n",
       "      <td>Allocation: Randomized|Intervention Model: Seq...</td>\n",
       "      <td>NS101_P1_01</td>\n",
       "      <td>Syneos Health, Québec, Canada</td>\n",
       "    </tr>\n",
       "    <tr>\n",
       "      <th>30000</th>\n",
       "      <td>Love Together, Parent Together: A Feasibility ...</td>\n",
       "      <td>Completed</td>\n",
       "      <td>No Results Available</td>\n",
       "      <td>Family Conflict|Internet-Based Intervention</td>\n",
       "      <td>Behavioral: Love Together Parent Together</td>\n",
       "      <td>Participants Accessed Per Week|Couple \"we-ness...</td>\n",
       "      <td>York University|University of Toronto|McMaster...</td>\n",
       "      <td>All</td>\n",
       "      <td>18 Years and older   (Adult, Older Adult)</td>\n",
       "      <td>Not Applicable</td>\n",
       "      <td>34.0</td>\n",
       "      <td>Other</td>\n",
       "      <td>Interventional</td>\n",
       "      <td>Allocation: N/A|Intervention Model: Single Gro...</td>\n",
       "      <td>e2021-266</td>\n",
       "      <td>York University, Toronto, Ontario, Canada</td>\n",
       "    </tr>\n",
       "    <tr>\n",
       "      <th>30001</th>\n",
       "      <td>Multidomain Intervention on Modifiable Lifesty...</td>\n",
       "      <td>Completed</td>\n",
       "      <td>No Results Available</td>\n",
       "      <td>Risk Behavior|Cognitive Decline</td>\n",
       "      <td>Behavioral: Luci Coach Assisted Intervention</td>\n",
       "      <td>Enrollment Ratio|Recruitment Rate|Acceptabilit...</td>\n",
       "      <td>LuciLab|Centre de Recherche de l'Institut Univ...</td>\n",
       "      <td>All</td>\n",
       "      <td>50 Years to 70 Years   (Adult, Older Adult)</td>\n",
       "      <td>Not Applicable</td>\n",
       "      <td>120.0</td>\n",
       "      <td>Industry|Other</td>\n",
       "      <td>Interventional</td>\n",
       "      <td>Allocation: Randomized|Intervention Model: Par...</td>\n",
       "      <td>LUCI-02</td>\n",
       "      <td>Lucilab, Montréal, Quebec, Canada</td>\n",
       "    </tr>\n",
       "  </tbody>\n",
       "</table>\n",
       "<p>10001 rows × 16 columns</p>\n",
       "</div>"
      ],
      "text/plain": [
       "                                                   Title      Status  \\\n",
       "20001          Body PSOriasis: Long-term Relapse CONTROL   Completed   \n",
       "20002  A Study of Perfusion of Colorectal Anastomosis...   Completed   \n",
       "20003  An International Multicenter, Randomized, Doub...   Completed   \n",
       "20004              Efficacy of Resveratrol in Depression   Completed   \n",
       "20005  Haploidentical Lymphocytes With Nivolumab/Ara-...  Terminated   \n",
       "...                                                  ...         ...   \n",
       "29997  Comparative Bioavailability Study of Lamotrigi...   Completed   \n",
       "29998  The Effect of Brief Bodyweight Exercise on Acu...   Completed   \n",
       "29999  A FIH Study to Assess the Safety and Tolerabil...   Completed   \n",
       "30000  Love Together, Parent Together: A Feasibility ...   Completed   \n",
       "30001  Multidomain Intervention on Modifiable Lifesty...   Completed   \n",
       "\n",
       "              Study Results                                   Conditions  \\\n",
       "20001  No Results Available                           Psoriasis Vulgaris   \n",
       "20002  No Results Available                 Rectal Cancer|Sigmoid Cancer   \n",
       "20003           Has Results          Moderate to Severe Plaque Psoriasis   \n",
       "20004           Has Results                                   Depression   \n",
       "20005  No Results Available                       Acute Myeloid Leukemia   \n",
       "...                     ...                                          ...   \n",
       "29997  No Results Available                               Bioequivalence   \n",
       "29998  No Results Available                                     Exercise   \n",
       "29999  No Results Available                   Neurodegenerative Diseases   \n",
       "30000  No Results Available  Family Conflict|Internet-Based Intervention   \n",
       "30001  No Results Available              Risk Behavior|Cognitive Decline   \n",
       "\n",
       "                                           Interventions  \\\n",
       "20001                   Drug: Any topical drug treatment   \n",
       "20002  Device: Fluorescence angiography with indocian...   \n",
       "20003  Drug: BCD-085 Q2W|Drug: BCD-085 Q4W|Drug: Placebo   \n",
       "20004              Drug: Resveratrol Pill|Drug: Placebos   \n",
       "20005  Drug: Cytarabine|Drug: Nivolumab|Biological: G...   \n",
       "...                                                  ...   \n",
       "29997                   Drug: Lamotrigine ER tablet 50mg   \n",
       "29998                                    Other: Exercise   \n",
       "29999                            Drug: NS101 IV infusion   \n",
       "30000          Behavioral: Love Together Parent Together   \n",
       "30001       Behavioral: Luci Coach Assisted Intervention   \n",
       "\n",
       "                                        Outcome Measures  \\\n",
       "20001  Time of relapse|Dermatology Life Quality Index...   \n",
       "20002                              Anastomotic Leak Rate   \n",
       "20003  • The Proportion (Number) of Patients in Each ...   \n",
       "20004  Change in Total HDRS-17 Score From Baseline to...   \n",
       "20005  Disease-free survival|Overall survival|Inciden...   \n",
       "...                                                  ...   \n",
       "29997                                 Cmax|AUC0-T|AUC0-∞   \n",
       "29998  24-hour mean glucose|Glycemic variability|Peak...   \n",
       "29999  AEs of NS101 following intravenous (IV) admini...   \n",
       "30000  Participants Accessed Per Week|Couple \"we-ness...   \n",
       "30001  Enrollment Ratio|Recruitment Rate|Acceptabilit...   \n",
       "\n",
       "                                   Sponsor/Collaborators Gender  \\\n",
       "20001                                         LEO Pharma    All   \n",
       "20002  State Scientific Centre of Coloproctology, Rus...    All   \n",
       "20003                                             Biocad    All   \n",
       "20004  Russian Academy of Medical Sciences|Russian Sc...    All   \n",
       "20005     St. Petersburg State Pavlov Medical University    All   \n",
       "...                                                  ...    ...   \n",
       "29997                       Alembic Pharmaceuticals Ltd.    All   \n",
       "29998                McMaster University|York University    All   \n",
       "29999                         Neuracle Science Co., LTD.   Male   \n",
       "30000  York University|University of Toronto|McMaster...    All   \n",
       "30001  LuciLab|Centre de Recherche de l'Institut Univ...    All   \n",
       "\n",
       "                                               Age          Phases  \\\n",
       "20001    18 Years and older   (Adult, Older Adult)  Not Applicable   \n",
       "20002    18 Years and older   (Adult, Older Adult)  Not Applicable   \n",
       "20003    18 Years and older   (Adult, Older Adult)         Phase 3   \n",
       "20004  18 Years to 75 Years   (Adult, Older Adult)         Phase 4   \n",
       "20005  55 Years to 85 Years   (Adult, Older Adult)         Phase 2   \n",
       "...                                            ...             ...   \n",
       "29997               18 Years to 54 Years   (Adult)         Phase 1   \n",
       "29998               18 Years to 35 Years   (Adult)  Not Applicable   \n",
       "29999               18 Years to 55 Years   (Adult)         Phase 1   \n",
       "30000    18 Years and older   (Adult, Older Adult)  Not Applicable   \n",
       "30001  50 Years to 70 Years   (Adult, Older Adult)  Not Applicable   \n",
       "\n",
       "       Enrollment      Funded Bys      Study Type  \\\n",
       "20001       764.0        Industry   Observational   \n",
       "20002       377.0           Other  Interventional   \n",
       "20003       213.0        Industry  Interventional   \n",
       "20004        30.0           Other  Interventional   \n",
       "20005        16.0           Other  Interventional   \n",
       "...           ...             ...             ...   \n",
       "29997        22.0        Industry  Interventional   \n",
       "29998        35.0           Other  Interventional   \n",
       "29999        64.0        Industry  Interventional   \n",
       "30000        34.0           Other  Interventional   \n",
       "30001       120.0  Industry|Other  Interventional   \n",
       "\n",
       "                                           Study Designs           Other IDs  \\\n",
       "20001  Observational Model: Cohort|Time Perspective: ...  NIS-PSORIASIS-1379   \n",
       "20002  Allocation: Randomized|Intervention Model: Par...                  80   \n",
       "20003  Allocation: Randomized|Intervention Model: Par...           BCD-085-7   \n",
       "20004  Allocation: Randomized|Intervention Model: Par...     RESV-depression   \n",
       "20005  Allocation: Randomized|Intervention Model: Par...             31/17-n   \n",
       "...                                                  ...                 ...   \n",
       "29997  Allocation: Randomized|Intervention Model: Cro...          AMC-P0-215   \n",
       "29998  Allocation: Randomized|Intervention Model: Cro...               13864   \n",
       "29999  Allocation: Randomized|Intervention Model: Seq...         NS101_P1_01   \n",
       "30000  Allocation: N/A|Intervention Model: Single Gro...           e2021-266   \n",
       "30001  Allocation: Randomized|Intervention Model: Par...             LUCI-02   \n",
       "\n",
       "                                               Locations  \n",
       "20001  The State Autonomous Foundation of Public Heal...  \n",
       "20002  State Scientific Centre of Coloproctology, Mos...  \n",
       "20003  BIOCAD, Saint Petersburg, Strelna, Russian Fed...  \n",
       "20004  Lyubomir I. Aftanas, Novosibirsk, Russian Fede...  \n",
       "20005  Boris V Afanasyev, MD, Prof., Saint Petersburg...  \n",
       "...                                                  ...  \n",
       "29997     Algorithme Pharma, Mount Royal, Quebec, Canada  \n",
       "29998     McMaster University, Hamilton, Ontario, Canada  \n",
       "29999                      Syneos Health, Québec, Canada  \n",
       "30000          York University, Toronto, Ontario, Canada  \n",
       "30001                  Lucilab, Montréal, Quebec, Canada  \n",
       "\n",
       "[10001 rows x 16 columns]"
      ]
     },
     "execution_count": 5,
     "metadata": {},
     "output_type": "execute_result"
    }
   ],
   "source": [
    "cd1"
   ]
  },
  {
   "cell_type": "code",
   "execution_count": 6,
   "id": "bf4d1207",
   "metadata": {},
   "outputs": [],
   "source": [
    "cd1.to_csv(r'C:/Users/rabhi/OneDrive/Documents/Data_Sample_2.csv', index = False, header = True)"
   ]
  },
  {
   "cell_type": "code",
   "execution_count": 7,
   "id": "1d287eb6",
   "metadata": {},
   "outputs": [],
   "source": [
    "o3=pd.read_csv('C:/Users/rabhi/OneDrive/Documents/O3.csv')"
   ]
  },
  {
   "cell_type": "code",
   "execution_count": 8,
   "id": "8b00897e",
   "metadata": {},
   "outputs": [],
   "source": [
    "o3[['OModel','Time Perspective']] = o3['Study Designs'].str.split('|', expand=True)"
   ]
  },
  {
   "cell_type": "code",
   "execution_count": 9,
   "id": "65425cf8",
   "metadata": {},
   "outputs": [],
   "source": [
    "o3.to_csv(r'C:/Users/rabhi/OneDrive/Documents/O33.csv', index = False, header = True)"
   ]
  },
  {
   "cell_type": "code",
   "execution_count": 10,
   "id": "df33a3d2",
   "metadata": {},
   "outputs": [],
   "source": [
    "i3=pd.read_csv(\"C:/Users/rabhi/OneDrive/Documents/I3.csv\")"
   ]
  },
  {
   "cell_type": "code",
   "execution_count": 11,
   "id": "5d41b685",
   "metadata": {},
   "outputs": [],
   "source": [
    "i3[['Allocation', 'IModel','Masking','Primary Purpose']] = i3['Study Designs'].str.split('|', expand=True)"
   ]
  },
  {
   "cell_type": "code",
   "execution_count": 12,
   "id": "6b650689",
   "metadata": {},
   "outputs": [],
   "source": [
    "i3.to_csv(r'C:/Users/rabhi/OneDrive/Documents/I33.csv', index = False, header = True)"
   ]
  },
  {
   "cell_type": "code",
   "execution_count": 13,
   "id": "af71291a",
   "metadata": {},
   "outputs": [],
   "source": [
    "cds3=pd.read_csv(\"C:/Users/rabhi/OneDrive/Documents/S3.csv\")"
   ]
  },
  {
   "cell_type": "code",
   "execution_count": 14,
   "id": "5d83029f",
   "metadata": {},
   "outputs": [
    {
     "data": {
      "text/html": [
       "<div>\n",
       "<style scoped>\n",
       "    .dataframe tbody tr th:only-of-type {\n",
       "        vertical-align: middle;\n",
       "    }\n",
       "\n",
       "    .dataframe tbody tr th {\n",
       "        vertical-align: top;\n",
       "    }\n",
       "\n",
       "    .dataframe thead th {\n",
       "        text-align: right;\n",
       "    }\n",
       "</style>\n",
       "<table border=\"1\" class=\"dataframe\">\n",
       "  <thead>\n",
       "    <tr style=\"text-align: right;\">\n",
       "      <th></th>\n",
       "      <th>Title</th>\n",
       "      <th>Status</th>\n",
       "      <th>Study Results</th>\n",
       "      <th>Conditions</th>\n",
       "      <th>Interventions</th>\n",
       "      <th>Outcome Measures</th>\n",
       "      <th>Sponsor/Collaborators</th>\n",
       "      <th>Gender</th>\n",
       "      <th>Age</th>\n",
       "      <th>Phases</th>\n",
       "      <th>...</th>\n",
       "      <th>Study Type</th>\n",
       "      <th>Study Designs</th>\n",
       "      <th>Other IDs</th>\n",
       "      <th>Locations</th>\n",
       "      <th>Allocation</th>\n",
       "      <th>IModel</th>\n",
       "      <th>Masking</th>\n",
       "      <th>Primary Purpose</th>\n",
       "      <th>Omodel</th>\n",
       "      <th>Time Perspective</th>\n",
       "    </tr>\n",
       "  </thead>\n",
       "  <tbody>\n",
       "    <tr>\n",
       "      <th>0</th>\n",
       "      <td>A Study of Perfusion of Colorectal Anastomosis...</td>\n",
       "      <td>Completed</td>\n",
       "      <td>No Results Available</td>\n",
       "      <td>Rectal Cancer|Sigmoid Cancer</td>\n",
       "      <td>Device: Fluorescence angiography with indocian...</td>\n",
       "      <td>Anastomotic Leak Rate</td>\n",
       "      <td>State Scientific Centre of Coloproctology, Rus...</td>\n",
       "      <td>All</td>\n",
       "      <td>18 Years and older   (Adult, Older Adult)</td>\n",
       "      <td>Not Applicable</td>\n",
       "      <td>...</td>\n",
       "      <td>Interventional</td>\n",
       "      <td>Allocation: Randomized|Intervention Model: Par...</td>\n",
       "      <td>80</td>\n",
       "      <td>State Scientific Centre of Coloproctology, Mos...</td>\n",
       "      <td>Allocation: Randomized</td>\n",
       "      <td>Intervention Model: Parallel Assignment</td>\n",
       "      <td>Masking: None (Open Label)</td>\n",
       "      <td>Primary Purpose: Treatment</td>\n",
       "      <td>None</td>\n",
       "      <td>None</td>\n",
       "    </tr>\n",
       "    <tr>\n",
       "      <th>1</th>\n",
       "      <td>An International Multicenter, Randomized, Doub...</td>\n",
       "      <td>Completed</td>\n",
       "      <td>Has Results</td>\n",
       "      <td>Moderate to Severe Plaque Psoriasis</td>\n",
       "      <td>Drug: BCD-085 Q2W|Drug: BCD-085 Q4W|Drug: Placebo</td>\n",
       "      <td>• The Proportion (Number) of Patients in Each ...</td>\n",
       "      <td>Biocad</td>\n",
       "      <td>All</td>\n",
       "      <td>18 Years and older   (Adult, Older Adult)</td>\n",
       "      <td>Phase 3</td>\n",
       "      <td>...</td>\n",
       "      <td>Interventional</td>\n",
       "      <td>Allocation: Randomized|Intervention Model: Par...</td>\n",
       "      <td>BCD-085-7</td>\n",
       "      <td>BIOCAD, Saint Petersburg, Strelna, Russian Fed...</td>\n",
       "      <td>Allocation: Randomized</td>\n",
       "      <td>Intervention Model: Parallel Assignment</td>\n",
       "      <td>Masking: Quadruple (Participant, Care Provider...</td>\n",
       "      <td>Primary Purpose: Treatment</td>\n",
       "      <td>None</td>\n",
       "      <td>None</td>\n",
       "    </tr>\n",
       "    <tr>\n",
       "      <th>2</th>\n",
       "      <td>Efficacy of Resveratrol in Depression</td>\n",
       "      <td>Completed</td>\n",
       "      <td>Has Results</td>\n",
       "      <td>Depression</td>\n",
       "      <td>Drug: Resveratrol Pill|Drug: Placebos</td>\n",
       "      <td>Change in Total HDRS-17 Score From Baseline to...</td>\n",
       "      <td>Russian Academy of Medical Sciences|Russian Sc...</td>\n",
       "      <td>All</td>\n",
       "      <td>18 Years to 75 Years   (Adult, Older Adult)</td>\n",
       "      <td>Phase 4</td>\n",
       "      <td>...</td>\n",
       "      <td>Interventional</td>\n",
       "      <td>Allocation: Randomized|Intervention Model: Par...</td>\n",
       "      <td>RESV-depression</td>\n",
       "      <td>Lyubomir I. Aftanas, Novosibirsk, Russian Fede...</td>\n",
       "      <td>Allocation: Randomized</td>\n",
       "      <td>Intervention Model: Parallel Assignment</td>\n",
       "      <td>Masking: Quadruple (Participant, Care Provider...</td>\n",
       "      <td>Primary Purpose: Treatment</td>\n",
       "      <td>None</td>\n",
       "      <td>None</td>\n",
       "    </tr>\n",
       "    <tr>\n",
       "      <th>3</th>\n",
       "      <td>Haploidentical Lymphocytes With Nivolumab/Ara-...</td>\n",
       "      <td>Terminated</td>\n",
       "      <td>No Results Available</td>\n",
       "      <td>Acute Myeloid Leukemia</td>\n",
       "      <td>Drug: Cytarabine|Drug: Nivolumab|Biological: G...</td>\n",
       "      <td>Disease-free survival|Overall survival|Inciden...</td>\n",
       "      <td>St. Petersburg State Pavlov Medical University</td>\n",
       "      <td>All</td>\n",
       "      <td>55 Years to 85 Years   (Adult, Older Adult)</td>\n",
       "      <td>Phase 2</td>\n",
       "      <td>...</td>\n",
       "      <td>Interventional</td>\n",
       "      <td>Allocation: Randomized|Intervention Model: Par...</td>\n",
       "      <td>31/17-n</td>\n",
       "      <td>Boris V Afanasyev, MD, Prof., Saint Petersburg...</td>\n",
       "      <td>Allocation: Randomized</td>\n",
       "      <td>Intervention Model: Parallel Assignment</td>\n",
       "      <td>Masking: None (Open Label)</td>\n",
       "      <td>Primary Purpose: Treatment</td>\n",
       "      <td>None</td>\n",
       "      <td>None</td>\n",
       "    </tr>\n",
       "    <tr>\n",
       "      <th>4</th>\n",
       "      <td>Treatment With Nivolumab at the Fixed Dose 40 ...</td>\n",
       "      <td>Completed</td>\n",
       "      <td>No Results Available</td>\n",
       "      <td>Hodgkin Lymphoma</td>\n",
       "      <td>Drug: Nivolumab 40 mg in 4 ml Injection</td>\n",
       "      <td>Overall Response Rate (ORR)|Frequency of grade...</td>\n",
       "      <td>St. Petersburg State Pavlov Medical University</td>\n",
       "      <td>All</td>\n",
       "      <td>18 Years to 80 Years   (Adult, Older Adult)</td>\n",
       "      <td>Phase 1|Phase 2</td>\n",
       "      <td>...</td>\n",
       "      <td>Interventional</td>\n",
       "      <td>Allocation: N/A|Intervention Model: Single Gro...</td>\n",
       "      <td>№30/17-н</td>\n",
       "      <td>First Pavlov State Medical University of St. P...</td>\n",
       "      <td>Allocation: N/A</td>\n",
       "      <td>Intervention Model: Single Group Assignment</td>\n",
       "      <td>Masking: None (Open Label)</td>\n",
       "      <td>Primary Purpose: Treatment</td>\n",
       "      <td>None</td>\n",
       "      <td>None</td>\n",
       "    </tr>\n",
       "    <tr>\n",
       "      <th>...</th>\n",
       "      <td>...</td>\n",
       "      <td>...</td>\n",
       "      <td>...</td>\n",
       "      <td>...</td>\n",
       "      <td>...</td>\n",
       "      <td>...</td>\n",
       "      <td>...</td>\n",
       "      <td>...</td>\n",
       "      <td>...</td>\n",
       "      <td>...</td>\n",
       "      <td>...</td>\n",
       "      <td>...</td>\n",
       "      <td>...</td>\n",
       "      <td>...</td>\n",
       "      <td>...</td>\n",
       "      <td>...</td>\n",
       "      <td>...</td>\n",
       "      <td>...</td>\n",
       "      <td>...</td>\n",
       "      <td>...</td>\n",
       "      <td>...</td>\n",
       "    </tr>\n",
       "    <tr>\n",
       "      <th>9615</th>\n",
       "      <td>The Evolving Use of Robotic Surgery</td>\n",
       "      <td>Completed</td>\n",
       "      <td>No Results Available</td>\n",
       "      <td>Surgery</td>\n",
       "      <td>Procedure: Robotic Surgery|Procedure: Open Sur...</td>\n",
       "      <td>Temporal trends</td>\n",
       "      <td>Sunnybrook Health Sciences Centre|University o...</td>\n",
       "      <td>All</td>\n",
       "      <td>18 Years and older   (Adult, Older Adult)</td>\n",
       "      <td>Not Applicable</td>\n",
       "      <td>...</td>\n",
       "      <td>Observational</td>\n",
       "      <td>Observational Model: Cohort|Time Perspective: ...</td>\n",
       "      <td>2019 0990 194 000</td>\n",
       "      <td>Sunnybrook Health Sciences Centre, Toronto, On...</td>\n",
       "      <td>None</td>\n",
       "      <td>None</td>\n",
       "      <td>None</td>\n",
       "      <td>None</td>\n",
       "      <td>Observational Model: Cohort</td>\n",
       "      <td>Time Perspective: Retrospective</td>\n",
       "    </tr>\n",
       "    <tr>\n",
       "      <th>9616</th>\n",
       "      <td>Determination of the Sensitivity, Specificity ...</td>\n",
       "      <td>Terminated</td>\n",
       "      <td>No Results Available</td>\n",
       "      <td>Peripheral Nerve Block</td>\n",
       "      <td>Other: No intervention</td>\n",
       "      <td>Ultrasound-guided peripheral nerve block failu...</td>\n",
       "      <td>Centre hospitalier de l'Université de Montréal...</td>\n",
       "      <td>All</td>\n",
       "      <td>18 Years and older   (Adult, Older Adult)</td>\n",
       "      <td>Not Applicable</td>\n",
       "      <td>...</td>\n",
       "      <td>Observational</td>\n",
       "      <td>Observational Model: Other|Time Perspective: P...</td>\n",
       "      <td>21.294</td>\n",
       "      <td>Centre Hospitalier de l'Université de Montréal...</td>\n",
       "      <td>None</td>\n",
       "      <td>None</td>\n",
       "      <td>None</td>\n",
       "      <td>None</td>\n",
       "      <td>Observational Model: Other</td>\n",
       "      <td>Time Perspective: Prospective</td>\n",
       "    </tr>\n",
       "    <tr>\n",
       "      <th>9617</th>\n",
       "      <td>Differential Sensory Block During Labor Epidur...</td>\n",
       "      <td>Completed</td>\n",
       "      <td>No Results Available</td>\n",
       "      <td>Labor Pain</td>\n",
       "      <td>Other: No intervention</td>\n",
       "      <td>Lower sensory block level: ice test|Upper sens...</td>\n",
       "      <td>Samuel Lunenfeld Research Institute, Mount Sin...</td>\n",
       "      <td>Female</td>\n",
       "      <td>18 Years to 60 Years   (Adult)</td>\n",
       "      <td>Not Applicable</td>\n",
       "      <td>...</td>\n",
       "      <td>Observational</td>\n",
       "      <td>Observational Model: Cohort|Time Perspective: ...</td>\n",
       "      <td>21-Aug</td>\n",
       "      <td>Mount Sinai Hospital, Toronto, Ontario, Canada</td>\n",
       "      <td>None</td>\n",
       "      <td>None</td>\n",
       "      <td>None</td>\n",
       "      <td>None</td>\n",
       "      <td>Observational Model: Cohort</td>\n",
       "      <td>Time Perspective: Prospective</td>\n",
       "    </tr>\n",
       "    <tr>\n",
       "      <th>9618</th>\n",
       "      <td>Impact of Blood Salvage Therapy on Outcomes Af...</td>\n",
       "      <td>Completed</td>\n",
       "      <td>No Results Available</td>\n",
       "      <td>Liver Neoplasms</td>\n",
       "      <td>Procedure: Blood salvage therapy</td>\n",
       "      <td>Recurrence free survival|Overall survival|Tran...</td>\n",
       "      <td>Université de Sherbrooke</td>\n",
       "      <td>All</td>\n",
       "      <td>18 Years and older   (Adult, Older Adult)</td>\n",
       "      <td>Not Applicable</td>\n",
       "      <td>...</td>\n",
       "      <td>Observational</td>\n",
       "      <td>Observational Model: Case-Control|Time Perspec...</td>\n",
       "      <td>2018-2534</td>\n",
       "      <td>Centre Hospitalier Universitaire de Sherbrooke...</td>\n",
       "      <td>None</td>\n",
       "      <td>None</td>\n",
       "      <td>None</td>\n",
       "      <td>None</td>\n",
       "      <td>Observational Model: Case-Control</td>\n",
       "      <td>Time Perspective: Retrospective</td>\n",
       "    </tr>\n",
       "    <tr>\n",
       "      <th>9619</th>\n",
       "      <td>Ultrafiltration in Pediatric Cardiac Surgery: ...</td>\n",
       "      <td>Completed</td>\n",
       "      <td>No Results Available</td>\n",
       "      <td>Congenital Heart Disease|Inflammation</td>\n",
       "      <td>Procedure: SBUF-SMUF</td>\n",
       "      <td>Inflammatory Mediator Analysis|Vasoactive-Vent...</td>\n",
       "      <td>IWK Health Centre</td>\n",
       "      <td>All</td>\n",
       "      <td>up to 15 Years   (Child)</td>\n",
       "      <td>Not Applicable</td>\n",
       "      <td>...</td>\n",
       "      <td>Observational</td>\n",
       "      <td>Observational Model: Cohort|Time Perspective: ...</td>\n",
       "      <td>1024869</td>\n",
       "      <td>IWK Health Centre, Halifax, Nova Scotia, Canada</td>\n",
       "      <td>None</td>\n",
       "      <td>None</td>\n",
       "      <td>None</td>\n",
       "      <td>None</td>\n",
       "      <td>Observational Model: Cohort</td>\n",
       "      <td>Time Perspective: Prospective</td>\n",
       "    </tr>\n",
       "  </tbody>\n",
       "</table>\n",
       "<p>9620 rows × 22 columns</p>\n",
       "</div>"
      ],
      "text/plain": [
       "                                                  Title      Status  \\\n",
       "0     A Study of Perfusion of Colorectal Anastomosis...   Completed   \n",
       "1     An International Multicenter, Randomized, Doub...   Completed   \n",
       "2                 Efficacy of Resveratrol in Depression   Completed   \n",
       "3     Haploidentical Lymphocytes With Nivolumab/Ara-...  Terminated   \n",
       "4     Treatment With Nivolumab at the Fixed Dose 40 ...   Completed   \n",
       "...                                                 ...         ...   \n",
       "9615                The Evolving Use of Robotic Surgery   Completed   \n",
       "9616  Determination of the Sensitivity, Specificity ...  Terminated   \n",
       "9617  Differential Sensory Block During Labor Epidur...   Completed   \n",
       "9618  Impact of Blood Salvage Therapy on Outcomes Af...   Completed   \n",
       "9619  Ultrafiltration in Pediatric Cardiac Surgery: ...   Completed   \n",
       "\n",
       "             Study Results                             Conditions  \\\n",
       "0     No Results Available           Rectal Cancer|Sigmoid Cancer   \n",
       "1              Has Results    Moderate to Severe Plaque Psoriasis   \n",
       "2              Has Results                             Depression   \n",
       "3     No Results Available                 Acute Myeloid Leukemia   \n",
       "4     No Results Available                       Hodgkin Lymphoma   \n",
       "...                    ...                                    ...   \n",
       "9615  No Results Available                                Surgery   \n",
       "9616  No Results Available                 Peripheral Nerve Block   \n",
       "9617  No Results Available                             Labor Pain   \n",
       "9618  No Results Available                        Liver Neoplasms   \n",
       "9619  No Results Available  Congenital Heart Disease|Inflammation   \n",
       "\n",
       "                                          Interventions  \\\n",
       "0     Device: Fluorescence angiography with indocian...   \n",
       "1     Drug: BCD-085 Q2W|Drug: BCD-085 Q4W|Drug: Placebo   \n",
       "2                 Drug: Resveratrol Pill|Drug: Placebos   \n",
       "3     Drug: Cytarabine|Drug: Nivolumab|Biological: G...   \n",
       "4               Drug: Nivolumab 40 mg in 4 ml Injection   \n",
       "...                                                 ...   \n",
       "9615  Procedure: Robotic Surgery|Procedure: Open Sur...   \n",
       "9616                             Other: No intervention   \n",
       "9617                             Other: No intervention   \n",
       "9618                   Procedure: Blood salvage therapy   \n",
       "9619                               Procedure: SBUF-SMUF   \n",
       "\n",
       "                                       Outcome Measures  \\\n",
       "0                                 Anastomotic Leak Rate   \n",
       "1     • The Proportion (Number) of Patients in Each ...   \n",
       "2     Change in Total HDRS-17 Score From Baseline to...   \n",
       "3     Disease-free survival|Overall survival|Inciden...   \n",
       "4     Overall Response Rate (ORR)|Frequency of grade...   \n",
       "...                                                 ...   \n",
       "9615                                    Temporal trends   \n",
       "9616  Ultrasound-guided peripheral nerve block failu...   \n",
       "9617  Lower sensory block level: ice test|Upper sens...   \n",
       "9618  Recurrence free survival|Overall survival|Tran...   \n",
       "9619  Inflammatory Mediator Analysis|Vasoactive-Vent...   \n",
       "\n",
       "                                  Sponsor/Collaborators  Gender  \\\n",
       "0     State Scientific Centre of Coloproctology, Rus...     All   \n",
       "1                                                Biocad     All   \n",
       "2     Russian Academy of Medical Sciences|Russian Sc...     All   \n",
       "3        St. Petersburg State Pavlov Medical University     All   \n",
       "4        St. Petersburg State Pavlov Medical University     All   \n",
       "...                                                 ...     ...   \n",
       "9615  Sunnybrook Health Sciences Centre|University o...     All   \n",
       "9616  Centre hospitalier de l'Université de Montréal...     All   \n",
       "9617  Samuel Lunenfeld Research Institute, Mount Sin...  Female   \n",
       "9618                           Université de Sherbrooke     All   \n",
       "9619                                  IWK Health Centre     All   \n",
       "\n",
       "                                              Age           Phases  ...  \\\n",
       "0       18 Years and older   (Adult, Older Adult)   Not Applicable  ...   \n",
       "1       18 Years and older   (Adult, Older Adult)          Phase 3  ...   \n",
       "2     18 Years to 75 Years   (Adult, Older Adult)          Phase 4  ...   \n",
       "3     55 Years to 85 Years   (Adult, Older Adult)          Phase 2  ...   \n",
       "4     18 Years to 80 Years   (Adult, Older Adult)  Phase 1|Phase 2  ...   \n",
       "...                                           ...              ...  ...   \n",
       "9615    18 Years and older   (Adult, Older Adult)   Not Applicable  ...   \n",
       "9616    18 Years and older   (Adult, Older Adult)   Not Applicable  ...   \n",
       "9617               18 Years to 60 Years   (Adult)   Not Applicable  ...   \n",
       "9618    18 Years and older   (Adult, Older Adult)   Not Applicable  ...   \n",
       "9619                     up to 15 Years   (Child)   Not Applicable  ...   \n",
       "\n",
       "          Study Type                                      Study Designs  \\\n",
       "0     Interventional  Allocation: Randomized|Intervention Model: Par...   \n",
       "1     Interventional  Allocation: Randomized|Intervention Model: Par...   \n",
       "2     Interventional  Allocation: Randomized|Intervention Model: Par...   \n",
       "3     Interventional  Allocation: Randomized|Intervention Model: Par...   \n",
       "4     Interventional  Allocation: N/A|Intervention Model: Single Gro...   \n",
       "...              ...                                                ...   \n",
       "9615   Observational  Observational Model: Cohort|Time Perspective: ...   \n",
       "9616   Observational  Observational Model: Other|Time Perspective: P...   \n",
       "9617   Observational  Observational Model: Cohort|Time Perspective: ...   \n",
       "9618   Observational  Observational Model: Case-Control|Time Perspec...   \n",
       "9619   Observational  Observational Model: Cohort|Time Perspective: ...   \n",
       "\n",
       "              Other IDs                                          Locations  \\\n",
       "0                    80  State Scientific Centre of Coloproctology, Mos...   \n",
       "1             BCD-085-7  BIOCAD, Saint Petersburg, Strelna, Russian Fed...   \n",
       "2       RESV-depression  Lyubomir I. Aftanas, Novosibirsk, Russian Fede...   \n",
       "3               31/17-n  Boris V Afanasyev, MD, Prof., Saint Petersburg...   \n",
       "4              №30/17-н  First Pavlov State Medical University of St. P...   \n",
       "...                 ...                                                ...   \n",
       "9615  2019 0990 194 000  Sunnybrook Health Sciences Centre, Toronto, On...   \n",
       "9616             21.294  Centre Hospitalier de l'Université de Montréal...   \n",
       "9617             21-Aug     Mount Sinai Hospital, Toronto, Ontario, Canada   \n",
       "9618          2018-2534  Centre Hospitalier Universitaire de Sherbrooke...   \n",
       "9619            1024869    IWK Health Centre, Halifax, Nova Scotia, Canada   \n",
       "\n",
       "                  Allocation                                       IModel  \\\n",
       "0     Allocation: Randomized      Intervention Model: Parallel Assignment   \n",
       "1     Allocation: Randomized      Intervention Model: Parallel Assignment   \n",
       "2     Allocation: Randomized      Intervention Model: Parallel Assignment   \n",
       "3     Allocation: Randomized      Intervention Model: Parallel Assignment   \n",
       "4            Allocation: N/A  Intervention Model: Single Group Assignment   \n",
       "...                      ...                                          ...   \n",
       "9615                    None                                         None   \n",
       "9616                    None                                         None   \n",
       "9617                    None                                         None   \n",
       "9618                    None                                         None   \n",
       "9619                    None                                         None   \n",
       "\n",
       "                                                Masking  \\\n",
       "0                            Masking: None (Open Label)   \n",
       "1     Masking: Quadruple (Participant, Care Provider...   \n",
       "2     Masking: Quadruple (Participant, Care Provider...   \n",
       "3                            Masking: None (Open Label)   \n",
       "4                            Masking: None (Open Label)   \n",
       "...                                                 ...   \n",
       "9615                                               None   \n",
       "9616                                               None   \n",
       "9617                                               None   \n",
       "9618                                               None   \n",
       "9619                                               None   \n",
       "\n",
       "                 Primary Purpose                             Omodel  \\\n",
       "0     Primary Purpose: Treatment                               None   \n",
       "1     Primary Purpose: Treatment                               None   \n",
       "2     Primary Purpose: Treatment                               None   \n",
       "3     Primary Purpose: Treatment                               None   \n",
       "4     Primary Purpose: Treatment                               None   \n",
       "...                          ...                                ...   \n",
       "9615                        None        Observational Model: Cohort   \n",
       "9616                        None         Observational Model: Other   \n",
       "9617                        None        Observational Model: Cohort   \n",
       "9618                        None  Observational Model: Case-Control   \n",
       "9619                        None        Observational Model: Cohort   \n",
       "\n",
       "                     Time Perspective  \n",
       "0                                None  \n",
       "1                                None  \n",
       "2                                None  \n",
       "3                                None  \n",
       "4                                None  \n",
       "...                               ...  \n",
       "9615  Time Perspective: Retrospective  \n",
       "9616    Time Perspective: Prospective  \n",
       "9617    Time Perspective: Prospective  \n",
       "9618  Time Perspective: Retrospective  \n",
       "9619    Time Perspective: Prospective  \n",
       "\n",
       "[9620 rows x 22 columns]"
      ]
     },
     "execution_count": 14,
     "metadata": {},
     "output_type": "execute_result"
    }
   ],
   "source": [
    "cds3"
   ]
  },
  {
   "cell_type": "code",
   "execution_count": 15,
   "id": "4ff93910",
   "metadata": {},
   "outputs": [
    {
     "data": {
      "text/plain": [
       "Title                    0\n",
       "Status                   0\n",
       "Study Results            0\n",
       "Conditions               0\n",
       "Interventions            0\n",
       "Outcome Measures         0\n",
       "Sponsor/Collaborators    0\n",
       "Gender                   0\n",
       "Age                      0\n",
       "Phases                   0\n",
       "Enrollment               0\n",
       "Funded Bys               0\n",
       "Study Type               0\n",
       "Study Designs            0\n",
       "Other IDs                0\n",
       "Locations                0\n",
       "Allocation               0\n",
       "IModel                   0\n",
       "Masking                  0\n",
       "Primary Purpose          0\n",
       "Omodel                   0\n",
       "Time Perspective         0\n",
       "dtype: int64"
      ]
     },
     "execution_count": 15,
     "metadata": {},
     "output_type": "execute_result"
    }
   ],
   "source": [
    "cds3.isnull().sum()"
   ]
  },
  {
   "cell_type": "code",
   "execution_count": 16,
   "id": "62337b4f",
   "metadata": {},
   "outputs": [],
   "source": [
    "cds3=cds3.fillna(value='None')"
   ]
  },
  {
   "cell_type": "code",
   "execution_count": 17,
   "id": "bcd72df4",
   "metadata": {},
   "outputs": [],
   "source": [
    "cds3=cds3.drop(['Study Designs'],axis=1)"
   ]
  },
  {
   "cell_type": "code",
   "execution_count": 18,
   "id": "a8da41c5",
   "metadata": {},
   "outputs": [],
   "source": [
    "from sklearn.feature_extraction.text import TfidfVectorizer\n",
    "\n",
    "# Create a TfidfVectorizer object\n",
    "vectorizer = TfidfVectorizer(stop_words='english')\n",
    "\n",
    "l=['Title','Conditions','Interventions','Outcome Measures','Sponsor/Collaborators','Age','Other IDs','Locations']\n",
    "\n",
    "for i in l:\n",
    "    vectorizer.fit(cds3[i]) # Fit the vectorizer to the text data\n",
    "    tfidf_representation = vectorizer.transform(cds3[i]) # Transform the text data into a TF-IDF representation\n",
    "    cds3[i]=tfidf_representation.toarray()"
   ]
  },
  {
   "cell_type": "code",
   "execution_count": 19,
   "id": "391ca6ee",
   "metadata": {},
   "outputs": [
    {
     "name": "stdout",
     "output_type": "stream",
     "text": [
      "<class 'pandas.core.frame.DataFrame'>\n",
      "RangeIndex: 9620 entries, 0 to 9619\n",
      "Data columns (total 21 columns):\n",
      " #   Column                 Non-Null Count  Dtype  \n",
      "---  ------                 --------------  -----  \n",
      " 0   Title                  9620 non-null   float64\n",
      " 1   Status                 9620 non-null   int32  \n",
      " 2   Study Results          9620 non-null   int32  \n",
      " 3   Conditions             9620 non-null   float64\n",
      " 4   Interventions          9620 non-null   float64\n",
      " 5   Outcome Measures       9620 non-null   float64\n",
      " 6   Sponsor/Collaborators  9620 non-null   float64\n",
      " 7   Gender                 9620 non-null   int32  \n",
      " 8   Age                    9620 non-null   float64\n",
      " 9   Phases                 9620 non-null   int32  \n",
      " 10  Enrollment             9620 non-null   float64\n",
      " 11  Funded Bys             9620 non-null   int32  \n",
      " 12  Study Type             9620 non-null   int32  \n",
      " 13  Other IDs              9620 non-null   float64\n",
      " 14  Locations              9620 non-null   float64\n",
      " 15  Allocation             9620 non-null   int32  \n",
      " 16  IModel                 9620 non-null   int32  \n",
      " 17  Masking                9620 non-null   int32  \n",
      " 18  Primary Purpose        9620 non-null   int32  \n",
      " 19  Omodel                 9620 non-null   int32  \n",
      " 20  Time Perspective       9620 non-null   int32  \n",
      "dtypes: float64(9), int32(12)\n",
      "memory usage: 1.1 MB\n",
      "None\n"
     ]
    }
   ],
   "source": [
    "l1=['Status','Study Results','Gender','Phases','Study Type','Allocation','IModel','Masking','Primary Purpose','Omodel','Time Perspective','Funded Bys']\n",
    "from sklearn.preprocessing import LabelEncoder\n",
    "le = LabelEncoder()\n",
    "\n",
    "for feat in l1:\n",
    "    cds3[feat] = le.fit_transform(cds3[feat].astype(str))\n",
    "\n",
    "print (cds3.info())"
   ]
  },
  {
   "cell_type": "code",
   "execution_count": 20,
   "id": "4711d052",
   "metadata": {},
   "outputs": [
    {
     "data": {
      "text/html": [
       "<div>\n",
       "<style scoped>\n",
       "    .dataframe tbody tr th:only-of-type {\n",
       "        vertical-align: middle;\n",
       "    }\n",
       "\n",
       "    .dataframe tbody tr th {\n",
       "        vertical-align: top;\n",
       "    }\n",
       "\n",
       "    .dataframe thead th {\n",
       "        text-align: right;\n",
       "    }\n",
       "</style>\n",
       "<table border=\"1\" class=\"dataframe\">\n",
       "  <thead>\n",
       "    <tr style=\"text-align: right;\">\n",
       "      <th></th>\n",
       "      <th>Title</th>\n",
       "      <th>Status</th>\n",
       "      <th>Study Results</th>\n",
       "      <th>Conditions</th>\n",
       "      <th>Interventions</th>\n",
       "      <th>Outcome Measures</th>\n",
       "      <th>Sponsor/Collaborators</th>\n",
       "      <th>Gender</th>\n",
       "      <th>Age</th>\n",
       "      <th>Phases</th>\n",
       "      <th>...</th>\n",
       "      <th>Funded Bys</th>\n",
       "      <th>Study Type</th>\n",
       "      <th>Other IDs</th>\n",
       "      <th>Locations</th>\n",
       "      <th>Allocation</th>\n",
       "      <th>IModel</th>\n",
       "      <th>Masking</th>\n",
       "      <th>Primary Purpose</th>\n",
       "      <th>Omodel</th>\n",
       "      <th>Time Perspective</th>\n",
       "    </tr>\n",
       "  </thead>\n",
       "  <tbody>\n",
       "    <tr>\n",
       "      <th>0</th>\n",
       "      <td>0.0</td>\n",
       "      <td>0</td>\n",
       "      <td>1</td>\n",
       "      <td>0.0</td>\n",
       "      <td>0.0</td>\n",
       "      <td>0.0</td>\n",
       "      <td>0.0</td>\n",
       "      <td>0</td>\n",
       "      <td>0.0</td>\n",
       "      <td>1</td>\n",
       "      <td>...</td>\n",
       "      <td>10</td>\n",
       "      <td>0</td>\n",
       "      <td>0.0</td>\n",
       "      <td>0.0</td>\n",
       "      <td>2</td>\n",
       "      <td>2</td>\n",
       "      <td>6</td>\n",
       "      <td>10</td>\n",
       "      <td>0</td>\n",
       "      <td>0</td>\n",
       "    </tr>\n",
       "    <tr>\n",
       "      <th>1</th>\n",
       "      <td>0.0</td>\n",
       "      <td>0</td>\n",
       "      <td>0</td>\n",
       "      <td>0.0</td>\n",
       "      <td>0.0</td>\n",
       "      <td>0.0</td>\n",
       "      <td>0.0</td>\n",
       "      <td>0</td>\n",
       "      <td>0.0</td>\n",
       "      <td>6</td>\n",
       "      <td>...</td>\n",
       "      <td>0</td>\n",
       "      <td>0</td>\n",
       "      <td>0.0</td>\n",
       "      <td>0.0</td>\n",
       "      <td>2</td>\n",
       "      <td>2</td>\n",
       "      <td>7</td>\n",
       "      <td>10</td>\n",
       "      <td>0</td>\n",
       "      <td>0</td>\n",
       "    </tr>\n",
       "    <tr>\n",
       "      <th>2</th>\n",
       "      <td>0.0</td>\n",
       "      <td>0</td>\n",
       "      <td>0</td>\n",
       "      <td>0.0</td>\n",
       "      <td>0.0</td>\n",
       "      <td>0.0</td>\n",
       "      <td>0.0</td>\n",
       "      <td>0</td>\n",
       "      <td>0.0</td>\n",
       "      <td>7</td>\n",
       "      <td>...</td>\n",
       "      <td>10</td>\n",
       "      <td>0</td>\n",
       "      <td>0.0</td>\n",
       "      <td>0.0</td>\n",
       "      <td>2</td>\n",
       "      <td>2</td>\n",
       "      <td>7</td>\n",
       "      <td>10</td>\n",
       "      <td>0</td>\n",
       "      <td>0</td>\n",
       "    </tr>\n",
       "    <tr>\n",
       "      <th>3</th>\n",
       "      <td>0.0</td>\n",
       "      <td>1</td>\n",
       "      <td>1</td>\n",
       "      <td>0.0</td>\n",
       "      <td>0.0</td>\n",
       "      <td>0.0</td>\n",
       "      <td>0.0</td>\n",
       "      <td>0</td>\n",
       "      <td>0.0</td>\n",
       "      <td>4</td>\n",
       "      <td>...</td>\n",
       "      <td>10</td>\n",
       "      <td>0</td>\n",
       "      <td>0.0</td>\n",
       "      <td>0.0</td>\n",
       "      <td>2</td>\n",
       "      <td>2</td>\n",
       "      <td>6</td>\n",
       "      <td>10</td>\n",
       "      <td>0</td>\n",
       "      <td>0</td>\n",
       "    </tr>\n",
       "    <tr>\n",
       "      <th>4</th>\n",
       "      <td>0.0</td>\n",
       "      <td>0</td>\n",
       "      <td>1</td>\n",
       "      <td>0.0</td>\n",
       "      <td>0.0</td>\n",
       "      <td>0.0</td>\n",
       "      <td>0.0</td>\n",
       "      <td>0</td>\n",
       "      <td>0.0</td>\n",
       "      <td>3</td>\n",
       "      <td>...</td>\n",
       "      <td>10</td>\n",
       "      <td>0</td>\n",
       "      <td>0.0</td>\n",
       "      <td>0.0</td>\n",
       "      <td>0</td>\n",
       "      <td>4</td>\n",
       "      <td>6</td>\n",
       "      <td>10</td>\n",
       "      <td>0</td>\n",
       "      <td>0</td>\n",
       "    </tr>\n",
       "    <tr>\n",
       "      <th>...</th>\n",
       "      <td>...</td>\n",
       "      <td>...</td>\n",
       "      <td>...</td>\n",
       "      <td>...</td>\n",
       "      <td>...</td>\n",
       "      <td>...</td>\n",
       "      <td>...</td>\n",
       "      <td>...</td>\n",
       "      <td>...</td>\n",
       "      <td>...</td>\n",
       "      <td>...</td>\n",
       "      <td>...</td>\n",
       "      <td>...</td>\n",
       "      <td>...</td>\n",
       "      <td>...</td>\n",
       "      <td>...</td>\n",
       "      <td>...</td>\n",
       "      <td>...</td>\n",
       "      <td>...</td>\n",
       "      <td>...</td>\n",
       "      <td>...</td>\n",
       "    </tr>\n",
       "    <tr>\n",
       "      <th>9615</th>\n",
       "      <td>0.0</td>\n",
       "      <td>0</td>\n",
       "      <td>1</td>\n",
       "      <td>0.0</td>\n",
       "      <td>0.0</td>\n",
       "      <td>0.0</td>\n",
       "      <td>0.0</td>\n",
       "      <td>0</td>\n",
       "      <td>0.0</td>\n",
       "      <td>1</td>\n",
       "      <td>...</td>\n",
       "      <td>10</td>\n",
       "      <td>1</td>\n",
       "      <td>0.0</td>\n",
       "      <td>0.0</td>\n",
       "      <td>3</td>\n",
       "      <td>5</td>\n",
       "      <td>17</td>\n",
       "      <td>0</td>\n",
       "      <td>4</td>\n",
       "      <td>4</td>\n",
       "    </tr>\n",
       "    <tr>\n",
       "      <th>9616</th>\n",
       "      <td>0.0</td>\n",
       "      <td>1</td>\n",
       "      <td>1</td>\n",
       "      <td>0.0</td>\n",
       "      <td>0.0</td>\n",
       "      <td>0.0</td>\n",
       "      <td>0.0</td>\n",
       "      <td>0</td>\n",
       "      <td>0.0</td>\n",
       "      <td>1</td>\n",
       "      <td>...</td>\n",
       "      <td>10</td>\n",
       "      <td>1</td>\n",
       "      <td>0.0</td>\n",
       "      <td>0.0</td>\n",
       "      <td>3</td>\n",
       "      <td>5</td>\n",
       "      <td>17</td>\n",
       "      <td>0</td>\n",
       "      <td>8</td>\n",
       "      <td>3</td>\n",
       "    </tr>\n",
       "    <tr>\n",
       "      <th>9617</th>\n",
       "      <td>0.0</td>\n",
       "      <td>0</td>\n",
       "      <td>1</td>\n",
       "      <td>0.0</td>\n",
       "      <td>0.0</td>\n",
       "      <td>0.0</td>\n",
       "      <td>0.0</td>\n",
       "      <td>1</td>\n",
       "      <td>0.0</td>\n",
       "      <td>1</td>\n",
       "      <td>...</td>\n",
       "      <td>10</td>\n",
       "      <td>1</td>\n",
       "      <td>0.0</td>\n",
       "      <td>0.0</td>\n",
       "      <td>3</td>\n",
       "      <td>5</td>\n",
       "      <td>17</td>\n",
       "      <td>0</td>\n",
       "      <td>4</td>\n",
       "      <td>3</td>\n",
       "    </tr>\n",
       "    <tr>\n",
       "      <th>9618</th>\n",
       "      <td>0.0</td>\n",
       "      <td>0</td>\n",
       "      <td>1</td>\n",
       "      <td>0.0</td>\n",
       "      <td>0.0</td>\n",
       "      <td>0.0</td>\n",
       "      <td>0.0</td>\n",
       "      <td>0</td>\n",
       "      <td>0.0</td>\n",
       "      <td>1</td>\n",
       "      <td>...</td>\n",
       "      <td>10</td>\n",
       "      <td>1</td>\n",
       "      <td>0.0</td>\n",
       "      <td>0.0</td>\n",
       "      <td>3</td>\n",
       "      <td>5</td>\n",
       "      <td>17</td>\n",
       "      <td>0</td>\n",
       "      <td>1</td>\n",
       "      <td>4</td>\n",
       "    </tr>\n",
       "    <tr>\n",
       "      <th>9619</th>\n",
       "      <td>0.0</td>\n",
       "      <td>0</td>\n",
       "      <td>1</td>\n",
       "      <td>0.0</td>\n",
       "      <td>0.0</td>\n",
       "      <td>0.0</td>\n",
       "      <td>0.0</td>\n",
       "      <td>0</td>\n",
       "      <td>0.0</td>\n",
       "      <td>1</td>\n",
       "      <td>...</td>\n",
       "      <td>10</td>\n",
       "      <td>1</td>\n",
       "      <td>0.0</td>\n",
       "      <td>0.0</td>\n",
       "      <td>3</td>\n",
       "      <td>5</td>\n",
       "      <td>17</td>\n",
       "      <td>0</td>\n",
       "      <td>4</td>\n",
       "      <td>3</td>\n",
       "    </tr>\n",
       "  </tbody>\n",
       "</table>\n",
       "<p>9620 rows × 21 columns</p>\n",
       "</div>"
      ],
      "text/plain": [
       "      Title  Status  Study Results  Conditions  Interventions  \\\n",
       "0       0.0       0              1         0.0            0.0   \n",
       "1       0.0       0              0         0.0            0.0   \n",
       "2       0.0       0              0         0.0            0.0   \n",
       "3       0.0       1              1         0.0            0.0   \n",
       "4       0.0       0              1         0.0            0.0   \n",
       "...     ...     ...            ...         ...            ...   \n",
       "9615    0.0       0              1         0.0            0.0   \n",
       "9616    0.0       1              1         0.0            0.0   \n",
       "9617    0.0       0              1         0.0            0.0   \n",
       "9618    0.0       0              1         0.0            0.0   \n",
       "9619    0.0       0              1         0.0            0.0   \n",
       "\n",
       "      Outcome Measures  Sponsor/Collaborators  Gender  Age  Phases  ...  \\\n",
       "0                  0.0                    0.0       0  0.0       1  ...   \n",
       "1                  0.0                    0.0       0  0.0       6  ...   \n",
       "2                  0.0                    0.0       0  0.0       7  ...   \n",
       "3                  0.0                    0.0       0  0.0       4  ...   \n",
       "4                  0.0                    0.0       0  0.0       3  ...   \n",
       "...                ...                    ...     ...  ...     ...  ...   \n",
       "9615               0.0                    0.0       0  0.0       1  ...   \n",
       "9616               0.0                    0.0       0  0.0       1  ...   \n",
       "9617               0.0                    0.0       1  0.0       1  ...   \n",
       "9618               0.0                    0.0       0  0.0       1  ...   \n",
       "9619               0.0                    0.0       0  0.0       1  ...   \n",
       "\n",
       "      Funded Bys  Study Type  Other IDs  Locations  Allocation  IModel  \\\n",
       "0             10           0        0.0        0.0           2       2   \n",
       "1              0           0        0.0        0.0           2       2   \n",
       "2             10           0        0.0        0.0           2       2   \n",
       "3             10           0        0.0        0.0           2       2   \n",
       "4             10           0        0.0        0.0           0       4   \n",
       "...          ...         ...        ...        ...         ...     ...   \n",
       "9615          10           1        0.0        0.0           3       5   \n",
       "9616          10           1        0.0        0.0           3       5   \n",
       "9617          10           1        0.0        0.0           3       5   \n",
       "9618          10           1        0.0        0.0           3       5   \n",
       "9619          10           1        0.0        0.0           3       5   \n",
       "\n",
       "      Masking  Primary Purpose  Omodel  Time Perspective  \n",
       "0           6               10       0                 0  \n",
       "1           7               10       0                 0  \n",
       "2           7               10       0                 0  \n",
       "3           6               10       0                 0  \n",
       "4           6               10       0                 0  \n",
       "...       ...              ...     ...               ...  \n",
       "9615       17                0       4                 4  \n",
       "9616       17                0       8                 3  \n",
       "9617       17                0       4                 3  \n",
       "9618       17                0       1                 4  \n",
       "9619       17                0       4                 3  \n",
       "\n",
       "[9620 rows x 21 columns]"
      ]
     },
     "execution_count": 20,
     "metadata": {},
     "output_type": "execute_result"
    }
   ],
   "source": [
    "cds3"
   ]
  },
  {
   "cell_type": "code",
   "execution_count": 21,
   "id": "a94af725",
   "metadata": {},
   "outputs": [],
   "source": [
    "x=cds3.drop(['Status'],axis=1)\n",
    "y=cds3['Status']"
   ]
  },
  {
   "cell_type": "code",
   "execution_count": 22,
   "id": "034574ff",
   "metadata": {},
   "outputs": [
    {
     "data": {
      "image/png": "[encoded data removed]",
      "text/plain": [
       "<Figure size 1296x1152 with 2 Axes>"
      ]
     },
     "metadata": {
      "needs_background": "light"
     },
     "output_type": "display_data"
    }
   ],
   "source": [
    "plt.figure(figsize=(18,16))\n",
    "cor=x.corr()\n",
    "sns.heatmap(cor,annot=True,cmap=plt.cm.CMRmap_r)\n",
    "plt.show()"
   ]
  },
  {
   "cell_type": "code",
   "execution_count": 23,
   "id": "b068ed6b",
   "metadata": {},
   "outputs": [],
   "source": [
    "def correlation(dataset, threshold):\n",
    "    col_corr = set()  # Set of all the names of correlated columns\n",
    "    corr_matrix = dataset.corr()\n",
    "    for i in range(len(corr_matrix.columns)):\n",
    "        for j in range(i):\n",
    "            if (abs(corr_matrix.iloc[i, j])) > threshold: # we are interested in absolute coeff value\n",
    "                colname = corr_matrix.columns[i]  # getting the name of column\n",
    "                col_corr.add(colname)\n",
    "    return col_corr\n"
   ]
  },
  {
   "cell_type": "code",
   "execution_count": 24,
   "id": "a471ca99",
   "metadata": {},
   "outputs": [
    {
     "data": {
      "text/plain": [
       "3"
      ]
     },
     "execution_count": 24,
     "metadata": {},
     "output_type": "execute_result"
    }
   ],
   "source": [
    "corr_features = correlation(x, 0.80)\n",
    "len(set(corr_features))"
   ]
  },
  {
   "cell_type": "code",
   "execution_count": 25,
   "id": "068f102a",
   "metadata": {},
   "outputs": [],
   "source": [
    "x=x.drop(corr_features,axis=1)"
   ]
  },
  {
   "cell_type": "code",
   "execution_count": 26,
   "id": "81479f5a",
   "metadata": {},
   "outputs": [],
   "source": [
    "from sklearn.model_selection import train_test_split"
   ]
  },
  {
   "cell_type": "code",
   "execution_count": 27,
   "id": "09b07259",
   "metadata": {},
   "outputs": [],
   "source": [
    "x_train,x_test,y_train,y_test=train_test_split(x,y,test_size=0.3,random_state=100)"
   ]
  },
  {
   "cell_type": "code",
   "execution_count": 28,
   "id": "c4d33578",
   "metadata": {},
   "outputs": [],
   "source": [
    "from sklearn.linear_model import LogisticRegression"
   ]
  },
  {
   "cell_type": "code",
   "execution_count": 29,
   "id": "2ea44425",
   "metadata": {},
   "outputs": [],
   "source": [
    "lr=LogisticRegression(class_weight='balanced')"
   ]
  },
  {
   "cell_type": "code",
   "execution_count": 30,
   "id": "0ee5a38a",
   "metadata": {},
   "outputs": [
    {
     "data": {
      "text/html": [
       "<style>#sk-container-id-1 {color: black;background-color: white;}#sk-container-id-1 pre{padding: 0;}#sk-container-id-1 div.sk-toggleable {background-color: white;}#sk-container-id-1 label.sk-toggleable__label {cursor: pointer;display: block;width: 100%;margin-bottom: 0;padding: 0.3em;box-sizing: border-box;text-align: center;}#sk-container-id-1 label.sk-toggleable__label-arrow:before {content: \"▸\";float: left;margin-right: 0.25em;color: #696969;}#sk-container-id-1 label.sk-toggleable__label-arrow:hover:before {color: black;}#sk-container-id-1 div.sk-estimator:hover label.sk-toggleable__label-arrow:before {color: black;}#sk-container-id-1 div.sk-toggleable__content {max-height: 0;max-width: 0;overflow: hidden;text-align: left;background-color: #f0f8ff;}#sk-container-id-1 div.sk-toggleable__content pre {margin: 0.2em;color: black;border-radius: 0.25em;background-color: #f0f8ff;}#sk-container-id-1 input.sk-toggleable__control:checked~div.sk-toggleable__content {max-height: 200px;max-width: 100%;overflow: auto;}#sk-container-id-1 input.sk-toggleable__control:checked~label.sk-toggleable__label-arrow:before {content: \"▾\";}#sk-container-id-1 div.sk-estimator input.sk-toggleable__control:checked~label.sk-toggleable__label {background-color: #d4ebff;}#sk-container-id-1 div.sk-label input.sk-toggleable__control:checked~label.sk-toggleable__label {background-color: #d4ebff;}#sk-container-id-1 input.sk-hidden--visually {border: 0;clip: rect(1px 1px 1px 1px);clip: rect(1px, 1px, 1px, 1px);height: 1px;margin: -1px;overflow: hidden;padding: 0;position: absolute;width: 1px;}#sk-container-id-1 div.sk-estimator {font-family: monospace;background-color: #f0f8ff;border: 1px dotted black;border-radius: 0.25em;box-sizing: border-box;margin-bottom: 0.5em;}#sk-container-id-1 div.sk-estimator:hover {background-color: #d4ebff;}#sk-container-id-1 div.sk-parallel-item::after {content: \"\";width: 100%;border-bottom: 1px solid gray;flex-grow: 1;}#sk-container-id-1 div.sk-label:hover label.sk-toggleable__label {background-color: #d4ebff;}#sk-container-id-1 div.sk-serial::before {content: \"\";position: absolute;border-left: 1px solid gray;box-sizing: border-box;top: 0;bottom: 0;left: 50%;z-index: 0;}#sk-container-id-1 div.sk-serial {display: flex;flex-direction: column;align-items: center;background-color: white;padding-right: 0.2em;padding-left: 0.2em;position: relative;}#sk-container-id-1 div.sk-item {position: relative;z-index: 1;}#sk-container-id-1 div.sk-parallel {display: flex;align-items: stretch;justify-content: center;background-color: white;position: relative;}#sk-container-id-1 div.sk-item::before, #sk-container-id-1 div.sk-parallel-item::before {content: \"\";position: absolute;border-left: 1px solid gray;box-sizing: border-box;top: 0;bottom: 0;left: 50%;z-index: -1;}#sk-container-id-1 div.sk-parallel-item {display: flex;flex-direction: column;z-index: 1;position: relative;background-color: white;}#sk-container-id-1 div.sk-parallel-item:first-child::after {align-self: flex-end;width: 50%;}#sk-container-id-1 div.sk-parallel-item:last-child::after {align-self: flex-start;width: 50%;}#sk-container-id-1 div.sk-parallel-item:only-child::after {width: 0;}#sk-container-id-1 div.sk-dashed-wrapped {border: 1px dashed gray;margin: 0 0.4em 0.5em 0.4em;box-sizing: border-box;padding-bottom: 0.4em;background-color: white;}#sk-container-id-1 div.sk-label label {font-family: monospace;font-weight: bold;display: inline-block;line-height: 1.2em;}#sk-container-id-1 div.sk-label-container {text-align: center;}#sk-container-id-1 div.sk-container {/* jupyter's `normalize.less` sets `[hidden] { display: none; }` but bootstrap.min.css set `[hidden] { display: none !important; }` so we also need the `!important` here to be able to override the default hidden behavior on the sphinx rendered scikit-learn.org. See: https://github.com/scikit-learn/scikit-learn/issues/21755 */display: inline-block !important;position: relative;}#sk-container-id-1 div.sk-text-repr-fallback {display: none;}</style><div id=\"sk-container-id-1\" class=\"sk-top-container\"><div class=\"sk-text-repr-fallback\"><pre>LogisticRegression(class_weight=&#x27;balanced&#x27;)</pre><b>In a Jupyter environment, please rerun this cell to show the HTML representation or trust the notebook. <br />On GitHub, the HTML representation is unable to render, please try loading this page with nbviewer.org.</b></div><div class=\"sk-container\" hidden><div class=\"sk-item\"><div class=\"sk-estimator sk-toggleable\"><input class=\"sk-toggleable__control sk-hidden--visually\" id=\"sk-estimator-id-1\" type=\"checkbox\" checked><label for=\"sk-estimator-id-1\" class=\"sk-toggleable__label sk-toggleable__label-arrow\">LogisticRegression</label><div class=\"sk-toggleable__content\"><pre>LogisticRegression(class_weight=&#x27;balanced&#x27;)</pre></div></div></div></div></div>"
      ],
      "text/plain": [
       "LogisticRegression(class_weight='balanced')"
      ]
     },
     "execution_count": 30,
     "metadata": {},
     "output_type": "execute_result"
    }
   ],
   "source": [
    "lr.fit(x_train,y_train)"
   ]
  },
  {
   "cell_type": "code",
   "execution_count": 31,
   "id": "dfd4b5df",
   "metadata": {},
   "outputs": [
    {
     "name": "stdout",
     "output_type": "stream",
     "text": [
      "Predicted Class: [1 1 0 ... 1 0 1]\n"
     ]
    }
   ],
   "source": [
    "y_pred_lr=lr.predict(x_test)\n",
    "print(\"Predicted Class: {}\".format(y_pred_lr))"
   ]
  },
  {
   "cell_type": "code",
   "execution_count": 32,
   "id": "b9fd612c",
   "metadata": {},
   "outputs": [],
   "source": [
    "from sklearn.metrics import classification_report,precision_score,recall_score,f1_score"
   ]
  },
  {
   "cell_type": "code",
   "execution_count": 33,
   "id": "59086a85",
   "metadata": {},
   "outputs": [
    {
     "data": {
      "text/plain": [
       "0.45634095634095634"
      ]
     },
     "execution_count": 33,
     "metadata": {},
     "output_type": "execute_result"
    }
   ],
   "source": [
    "recall_score(y_test,y_pred_lr,average='weighted')"
   ]
  },
  {
   "cell_type": "code",
   "execution_count": 34,
   "id": "e8267dfc",
   "metadata": {},
   "outputs": [
    {
     "data": {
      "text/plain": [
       "0.8228160387324088"
      ]
     },
     "execution_count": 34,
     "metadata": {},
     "output_type": "execute_result"
    }
   ],
   "source": [
    "precision_score(y_test,y_pred_lr,average='weighted')"
   ]
  },
  {
   "cell_type": "code",
   "execution_count": 35,
   "id": "7714659e",
   "metadata": {},
   "outputs": [
    {
     "data": {
      "text/plain": [
       "0.5412215432719095"
      ]
     },
     "execution_count": 35,
     "metadata": {},
     "output_type": "execute_result"
    }
   ],
   "source": [
    "f1_score(y_test,y_pred_lr,average='weighted')"
   ]
  },
  {
   "cell_type": "code",
   "execution_count": 36,
   "id": "f310d39f",
   "metadata": {},
   "outputs": [
    {
     "data": {
      "text/plain": [
       "0.5528283405824407"
      ]
     },
     "execution_count": 36,
     "metadata": {},
     "output_type": "execute_result"
    }
   ],
   "source": [
    "from sklearn.metrics import balanced_accuracy_score\n",
    "\n",
    "balanced_acc = balanced_accuracy_score(y_test, y_pred_lr)\n",
    "balanced_acc"
   ]
  },
  {
   "cell_type": "code",
   "execution_count": 37,
   "id": "b98dac44",
   "metadata": {},
   "outputs": [],
   "source": [
    "from sklearn.ensemble import RandomForestClassifier"
   ]
  },
  {
   "cell_type": "code",
   "execution_count": 38,
   "id": "303b97d5",
   "metadata": {},
   "outputs": [],
   "source": [
    "rfc=RandomForestClassifier(class_weight='balanced')"
   ]
  },
  {
   "cell_type": "code",
   "execution_count": 39,
   "id": "031a0b3a",
   "metadata": {},
   "outputs": [
    {
     "data": {
      "text/html": [
       "<style>#sk-container-id-2 {color: black;background-color: white;}#sk-container-id-2 pre{padding: 0;}#sk-container-id-2 div.sk-toggleable {background-color: white;}#sk-container-id-2 label.sk-toggleable__label {cursor: pointer;display: block;width: 100%;margin-bottom: 0;padding: 0.3em;box-sizing: border-box;text-align: center;}#sk-container-id-2 label.sk-toggleable__label-arrow:before {content: \"▸\";float: left;margin-right: 0.25em;color: #696969;}#sk-container-id-2 label.sk-toggleable__label-arrow:hover:before {color: black;}#sk-container-id-2 div.sk-estimator:hover label.sk-toggleable__label-arrow:before {color: black;}#sk-container-id-2 div.sk-toggleable__content {max-height: 0;max-width: 0;overflow: hidden;text-align: left;background-color: #f0f8ff;}#sk-container-id-2 div.sk-toggleable__content pre {margin: 0.2em;color: black;border-radius: 0.25em;background-color: #f0f8ff;}#sk-container-id-2 input.sk-toggleable__control:checked~div.sk-toggleable__content {max-height: 200px;max-width: 100%;overflow: auto;}#sk-container-id-2 input.sk-toggleable__control:checked~label.sk-toggleable__label-arrow:before {content: \"▾\";}#sk-container-id-2 div.sk-estimator input.sk-toggleable__control:checked~label.sk-toggleable__label {background-color: #d4ebff;}#sk-container-id-2 div.sk-label input.sk-toggleable__control:checked~label.sk-toggleable__label {background-color: #d4ebff;}#sk-container-id-2 input.sk-hidden--visually {border: 0;clip: rect(1px 1px 1px 1px);clip: rect(1px, 1px, 1px, 1px);height: 1px;margin: -1px;overflow: hidden;padding: 0;position: absolute;width: 1px;}#sk-container-id-2 div.sk-estimator {font-family: monospace;background-color: #f0f8ff;border: 1px dotted black;border-radius: 0.25em;box-sizing: border-box;margin-bottom: 0.5em;}#sk-container-id-2 div.sk-estimator:hover {background-color: #d4ebff;}#sk-container-id-2 div.sk-parallel-item::after {content: \"\";width: 100%;border-bottom: 1px solid gray;flex-grow: 1;}#sk-container-id-2 div.sk-label:hover label.sk-toggleable__label {background-color: #d4ebff;}#sk-container-id-2 div.sk-serial::before {content: \"\";position: absolute;border-left: 1px solid gray;box-sizing: border-box;top: 0;bottom: 0;left: 50%;z-index: 0;}#sk-container-id-2 div.sk-serial {display: flex;flex-direction: column;align-items: center;background-color: white;padding-right: 0.2em;padding-left: 0.2em;position: relative;}#sk-container-id-2 div.sk-item {position: relative;z-index: 1;}#sk-container-id-2 div.sk-parallel {display: flex;align-items: stretch;justify-content: center;background-color: white;position: relative;}#sk-container-id-2 div.sk-item::before, #sk-container-id-2 div.sk-parallel-item::before {content: \"\";position: absolute;border-left: 1px solid gray;box-sizing: border-box;top: 0;bottom: 0;left: 50%;z-index: -1;}#sk-container-id-2 div.sk-parallel-item {display: flex;flex-direction: column;z-index: 1;position: relative;background-color: white;}#sk-container-id-2 div.sk-parallel-item:first-child::after {align-self: flex-end;width: 50%;}#sk-container-id-2 div.sk-parallel-item:last-child::after {align-self: flex-start;width: 50%;}#sk-container-id-2 div.sk-parallel-item:only-child::after {width: 0;}#sk-container-id-2 div.sk-dashed-wrapped {border: 1px dashed gray;margin: 0 0.4em 0.5em 0.4em;box-sizing: border-box;padding-bottom: 0.4em;background-color: white;}#sk-container-id-2 div.sk-label label {font-family: monospace;font-weight: bold;display: inline-block;line-height: 1.2em;}#sk-container-id-2 div.sk-label-container {text-align: center;}#sk-container-id-2 div.sk-container {/* jupyter's `normalize.less` sets `[hidden] { display: none; }` but bootstrap.min.css set `[hidden] { display: none !important; }` so we also need the `!important` here to be able to override the default hidden behavior on the sphinx rendered scikit-learn.org. See: https://github.com/scikit-learn/scikit-learn/issues/21755 */display: inline-block !important;position: relative;}#sk-container-id-2 div.sk-text-repr-fallback {display: none;}</style><div id=\"sk-container-id-2\" class=\"sk-top-container\"><div class=\"sk-text-repr-fallback\"><pre>RandomForestClassifier(class_weight=&#x27;balanced&#x27;)</pre><b>In a Jupyter environment, please rerun this cell to show the HTML representation or trust the notebook. <br />On GitHub, the HTML representation is unable to render, please try loading this page with nbviewer.org.</b></div><div class=\"sk-container\" hidden><div class=\"sk-item\"><div class=\"sk-estimator sk-toggleable\"><input class=\"sk-toggleable__control sk-hidden--visually\" id=\"sk-estimator-id-2\" type=\"checkbox\" checked><label for=\"sk-estimator-id-2\" class=\"sk-toggleable__label sk-toggleable__label-arrow\">RandomForestClassifier</label><div class=\"sk-toggleable__content\"><pre>RandomForestClassifier(class_weight=&#x27;balanced&#x27;)</pre></div></div></div></div></div>"
      ],
      "text/plain": [
       "RandomForestClassifier(class_weight='balanced')"
      ]
     },
     "execution_count": 39,
     "metadata": {},
     "output_type": "execute_result"
    }
   ],
   "source": [
    "rfc.fit(x_train,y_train)"
   ]
  },
  {
   "cell_type": "code",
   "execution_count": 40,
   "id": "c4513815",
   "metadata": {},
   "outputs": [],
   "source": [
    "y_pred_rfc=rfc.predict(x_test)"
   ]
  },
  {
   "cell_type": "code",
   "execution_count": 41,
   "id": "cc1047c7",
   "metadata": {},
   "outputs": [
    {
     "data": {
      "text/plain": [
       "0.8555093555093555"
      ]
     },
     "execution_count": 41,
     "metadata": {},
     "output_type": "execute_result"
    }
   ],
   "source": [
    "recall_score(y_test,y_pred_rfc,average='weighted')"
   ]
  },
  {
   "cell_type": "code",
   "execution_count": 42,
   "id": "e2757276",
   "metadata": {},
   "outputs": [
    {
     "data": {
      "text/plain": [
       "0.8417214390557878"
      ]
     },
     "execution_count": 42,
     "metadata": {},
     "output_type": "execute_result"
    }
   ],
   "source": [
    "precision_score(y_test,y_pred_rfc,average='weighted')"
   ]
  },
  {
   "cell_type": "code",
   "execution_count": 43,
   "id": "7fbed17e",
   "metadata": {},
   "outputs": [
    {
     "data": {
      "text/plain": [
       "0.8480077657432645"
      ]
     },
     "execution_count": 43,
     "metadata": {},
     "output_type": "execute_result"
    }
   ],
   "source": [
    "f1_score(y_test,y_pred_rfc,average='weighted')"
   ]
  },
  {
   "cell_type": "code",
   "execution_count": 44,
   "id": "5e75253c",
   "metadata": {},
   "outputs": [
    {
     "data": {
      "text/plain": [
       "0.5966748409812506"
      ]
     },
     "execution_count": 44,
     "metadata": {},
     "output_type": "execute_result"
    }
   ],
   "source": [
    "balanced_acc = balanced_accuracy_score(y_test, y_pred_rfc)\n",
    "balanced_acc"
   ]
  },
  {
   "cell_type": "code",
   "execution_count": 45,
   "id": "2697b518",
   "metadata": {},
   "outputs": [],
   "source": [
    "import xgboost as xgb"
   ]
  },
  {
   "cell_type": "code",
   "execution_count": 46,
   "id": "4d8851cc",
   "metadata": {},
   "outputs": [],
   "source": [
    "smallest_class_count = y_train.sum()\n",
    "largest_class_count = len(y_train) - smallest_class_count\n",
    "spw = largest_class_count / smallest_class_count"
   ]
  },
  {
   "cell_type": "code",
   "execution_count": 47,
   "id": "9ee97f09",
   "metadata": {},
   "outputs": [],
   "source": [
    "xg=xgb.XGBClassifier(scale_pos_weight=spw)"
   ]
  },
  {
   "cell_type": "code",
   "execution_count": 48,
   "id": "eee2f032",
   "metadata": {},
   "outputs": [
    {
     "name": "stderr",
     "output_type": "stream",
     "text": [
      "C:\\Users\\rabhi\\anaconda3\\lib\\site-packages\\xgboost\\sklearn.py:1224: UserWarning: The use of label encoder in XGBClassifier is deprecated and will be removed in a future release. To remove this warning, do the following: 1) Pass option use_label_encoder=False when constructing XGBClassifier object; and 2) Encode your labels (y) as integers starting with 0, i.e. 0, 1, 2, ..., [num_class - 1].\n",
      "  warnings.warn(label_encoder_deprecation_msg, UserWarning)\n"
     ]
    },
    {
     "name": "stdout",
     "output_type": "stream",
     "text": [
      "[21:41:33] WARNING: ..\\src\\learner.cc:1115: Starting in XGBoost 1.3.0, the default evaluation metric used with the objective 'binary:logistic' was changed from 'error' to 'logloss'. Explicitly set eval_metric if you'd like to restore the old behavior.\n"
     ]
    },
    {
     "data": {
      "text/html": [
       "<style>#sk-container-id-3 {color: black;background-color: white;}#sk-container-id-3 pre{padding: 0;}#sk-container-id-3 div.sk-toggleable {background-color: white;}#sk-container-id-3 label.sk-toggleable__label {cursor: pointer;display: block;width: 100%;margin-bottom: 0;padding: 0.3em;box-sizing: border-box;text-align: center;}#sk-container-id-3 label.sk-toggleable__label-arrow:before {content: \"▸\";float: left;margin-right: 0.25em;color: #696969;}#sk-container-id-3 label.sk-toggleable__label-arrow:hover:before {color: black;}#sk-container-id-3 div.sk-estimator:hover label.sk-toggleable__label-arrow:before {color: black;}#sk-container-id-3 div.sk-toggleable__content {max-height: 0;max-width: 0;overflow: hidden;text-align: left;background-color: #f0f8ff;}#sk-container-id-3 div.sk-toggleable__content pre {margin: 0.2em;color: black;border-radius: 0.25em;background-color: #f0f8ff;}#sk-container-id-3 input.sk-toggleable__control:checked~div.sk-toggleable__content {max-height: 200px;max-width: 100%;overflow: auto;}#sk-container-id-3 input.sk-toggleable__control:checked~label.sk-toggleable__label-arrow:before {content: \"▾\";}#sk-container-id-3 div.sk-estimator input.sk-toggleable__control:checked~label.sk-toggleable__label {background-color: #d4ebff;}#sk-container-id-3 div.sk-label input.sk-toggleable__control:checked~label.sk-toggleable__label {background-color: #d4ebff;}#sk-container-id-3 input.sk-hidden--visually {border: 0;clip: rect(1px 1px 1px 1px);clip: rect(1px, 1px, 1px, 1px);height: 1px;margin: -1px;overflow: hidden;padding: 0;position: absolute;width: 1px;}#sk-container-id-3 div.sk-estimator {font-family: monospace;background-color: #f0f8ff;border: 1px dotted black;border-radius: 0.25em;box-sizing: border-box;margin-bottom: 0.5em;}#sk-container-id-3 div.sk-estimator:hover {background-color: #d4ebff;}#sk-container-id-3 div.sk-parallel-item::after {content: \"\";width: 100%;border-bottom: 1px solid gray;flex-grow: 1;}#sk-container-id-3 div.sk-label:hover label.sk-toggleable__label {background-color: #d4ebff;}#sk-container-id-3 div.sk-serial::before {content: \"\";position: absolute;border-left: 1px solid gray;box-sizing: border-box;top: 0;bottom: 0;left: 50%;z-index: 0;}#sk-container-id-3 div.sk-serial {display: flex;flex-direction: column;align-items: center;background-color: white;padding-right: 0.2em;padding-left: 0.2em;position: relative;}#sk-container-id-3 div.sk-item {position: relative;z-index: 1;}#sk-container-id-3 div.sk-parallel {display: flex;align-items: stretch;justify-content: center;background-color: white;position: relative;}#sk-container-id-3 div.sk-item::before, #sk-container-id-3 div.sk-parallel-item::before {content: \"\";position: absolute;border-left: 1px solid gray;box-sizing: border-box;top: 0;bottom: 0;left: 50%;z-index: -1;}#sk-container-id-3 div.sk-parallel-item {display: flex;flex-direction: column;z-index: 1;position: relative;background-color: white;}#sk-container-id-3 div.sk-parallel-item:first-child::after {align-self: flex-end;width: 50%;}#sk-container-id-3 div.sk-parallel-item:last-child::after {align-self: flex-start;width: 50%;}#sk-container-id-3 div.sk-parallel-item:only-child::after {width: 0;}#sk-container-id-3 div.sk-dashed-wrapped {border: 1px dashed gray;margin: 0 0.4em 0.5em 0.4em;box-sizing: border-box;padding-bottom: 0.4em;background-color: white;}#sk-container-id-3 div.sk-label label {font-family: monospace;font-weight: bold;display: inline-block;line-height: 1.2em;}#sk-container-id-3 div.sk-label-container {text-align: center;}#sk-container-id-3 div.sk-container {/* jupyter's `normalize.less` sets `[hidden] { display: none; }` but bootstrap.min.css set `[hidden] { display: none !important; }` so we also need the `!important` here to be able to override the default hidden behavior on the sphinx rendered scikit-learn.org. See: https://github.com/scikit-learn/scikit-learn/issues/21755 */display: inline-block !important;position: relative;}#sk-container-id-3 div.sk-text-repr-fallback {display: none;}</style><div id=\"sk-container-id-3\" class=\"sk-top-container\"><div class=\"sk-text-repr-fallback\"><pre>XGBClassifier(base_score=0.5, booster=&#x27;gbtree&#x27;, colsample_bylevel=1,\n",
       "              colsample_bynode=1, colsample_bytree=1, enable_categorical=False,\n",
       "              gamma=0, gpu_id=-1, importance_type=None,\n",
       "              interaction_constraints=&#x27;&#x27;, learning_rate=0.300000012,\n",
       "              max_delta_step=0, max_depth=6, min_child_weight=1, missing=nan,\n",
       "              monotone_constraints=&#x27;()&#x27;, n_estimators=100, n_jobs=8,\n",
       "              num_parallel_tree=1, predictor=&#x27;auto&#x27;, random_state=0,\n",
       "              reg_alpha=0, reg_lambda=1, scale_pos_weight=7.406991260923845,\n",
       "              subsample=1, tree_method=&#x27;exact&#x27;, validate_parameters=1,\n",
       "              verbosity=None)</pre><b>In a Jupyter environment, please rerun this cell to show the HTML representation or trust the notebook. <br />On GitHub, the HTML representation is unable to render, please try loading this page with nbviewer.org.</b></div><div class=\"sk-container\" hidden><div class=\"sk-item\"><div class=\"sk-estimator sk-toggleable\"><input class=\"sk-toggleable__control sk-hidden--visually\" id=\"sk-estimator-id-3\" type=\"checkbox\" checked><label for=\"sk-estimator-id-3\" class=\"sk-toggleable__label sk-toggleable__label-arrow\">XGBClassifier</label><div class=\"sk-toggleable__content\"><pre>XGBClassifier(base_score=0.5, booster=&#x27;gbtree&#x27;, colsample_bylevel=1,\n",
       "              colsample_bynode=1, colsample_bytree=1, enable_categorical=False,\n",
       "              gamma=0, gpu_id=-1, importance_type=None,\n",
       "              interaction_constraints=&#x27;&#x27;, learning_rate=0.300000012,\n",
       "              max_delta_step=0, max_depth=6, min_child_weight=1, missing=nan,\n",
       "              monotone_constraints=&#x27;()&#x27;, n_estimators=100, n_jobs=8,\n",
       "              num_parallel_tree=1, predictor=&#x27;auto&#x27;, random_state=0,\n",
       "              reg_alpha=0, reg_lambda=1, scale_pos_weight=7.406991260923845,\n",
       "              subsample=1, tree_method=&#x27;exact&#x27;, validate_parameters=1,\n",
       "              verbosity=None)</pre></div></div></div></div></div>"
      ],
      "text/plain": [
       "XGBClassifier(base_score=0.5, booster='gbtree', colsample_bylevel=1,\n",
       "              colsample_bynode=1, colsample_bytree=1, enable_categorical=False,\n",
       "              gamma=0, gpu_id=-1, importance_type=None,\n",
       "              interaction_constraints='', learning_rate=0.300000012,\n",
       "              max_delta_step=0, max_depth=6, min_child_weight=1, missing=nan,\n",
       "              monotone_constraints='()', n_estimators=100, n_jobs=8,\n",
       "              num_parallel_tree=1, predictor='auto', random_state=0,\n",
       "              reg_alpha=0, reg_lambda=1, scale_pos_weight=7.406991260923845,\n",
       "              subsample=1, tree_method='exact', validate_parameters=1,\n",
       "              verbosity=None)"
      ]
     },
     "execution_count": 48,
     "metadata": {},
     "output_type": "execute_result"
    }
   ],
   "source": [
    "xg.fit(x_train,y_train)"
   ]
  },
  {
   "cell_type": "code",
   "execution_count": 49,
   "id": "b660ea61",
   "metadata": {},
   "outputs": [],
   "source": [
    "y_pred_xg=xg.predict(x_test)"
   ]
  },
  {
   "cell_type": "code",
   "execution_count": 50,
   "id": "d07dd58a",
   "metadata": {},
   "outputs": [
    {
     "data": {
      "text/plain": [
       "0.7685377685377686"
      ]
     },
     "execution_count": 50,
     "metadata": {},
     "output_type": "execute_result"
    }
   ],
   "source": [
    "recall_score(y_test,y_pred_xg,average='weighted')"
   ]
  },
  {
   "cell_type": "code",
   "execution_count": 51,
   "id": "5c04d42c",
   "metadata": {},
   "outputs": [
    {
     "data": {
      "text/plain": [
       "0.8404765798063313"
      ]
     },
     "execution_count": 51,
     "metadata": {},
     "output_type": "execute_result"
    }
   ],
   "source": [
    "precision_score(y_test,y_pred_xg,average='weighted')"
   ]
  },
  {
   "cell_type": "code",
   "execution_count": 52,
   "id": "1f224d55",
   "metadata": {},
   "outputs": [
    {
     "data": {
      "text/plain": [
       "0.7976815908081493"
      ]
     },
     "execution_count": 52,
     "metadata": {},
     "output_type": "execute_result"
    }
   ],
   "source": [
    "f1_score(y_test,y_pred_xg,average='weighted')"
   ]
  },
  {
   "cell_type": "code",
   "execution_count": 53,
   "id": "0c6b8b42",
   "metadata": {},
   "outputs": [
    {
     "data": {
      "text/plain": [
       "0.6270467980500516"
      ]
     },
     "execution_count": 53,
     "metadata": {},
     "output_type": "execute_result"
    }
   ],
   "source": [
    "balanced_acc = balanced_accuracy_score(y_test, y_pred_xg)\n",
    "balanced_acc"
   ]
  },
  {
   "cell_type": "code",
   "execution_count": 54,
   "id": "e4c4c59c",
   "metadata": {},
   "outputs": [],
   "source": [
    "from sklearn.tree import DecisionTreeClassifier"
   ]
  },
  {
   "cell_type": "code",
   "execution_count": 55,
   "id": "0d01643f",
   "metadata": {},
   "outputs": [],
   "source": [
    "dt=DecisionTreeClassifier(class_weight='balanced')"
   ]
  },
  {
   "cell_type": "code",
   "execution_count": 56,
   "id": "5ed9fb8a",
   "metadata": {},
   "outputs": [
    {
     "data": {
      "text/html": [
       "<style>#sk-container-id-4 {color: black;background-color: white;}#sk-container-id-4 pre{padding: 0;}#sk-container-id-4 div.sk-toggleable {background-color: white;}#sk-container-id-4 label.sk-toggleable__label {cursor: pointer;display: block;width: 100%;margin-bottom: 0;padding: 0.3em;box-sizing: border-box;text-align: center;}#sk-container-id-4 label.sk-toggleable__label-arrow:before {content: \"▸\";float: left;margin-right: 0.25em;color: #696969;}#sk-container-id-4 label.sk-toggleable__label-arrow:hover:before {color: black;}#sk-container-id-4 div.sk-estimator:hover label.sk-toggleable__label-arrow:before {color: black;}#sk-container-id-4 div.sk-toggleable__content {max-height: 0;max-width: 0;overflow: hidden;text-align: left;background-color: #f0f8ff;}#sk-container-id-4 div.sk-toggleable__content pre {margin: 0.2em;color: black;border-radius: 0.25em;background-color: #f0f8ff;}#sk-container-id-4 input.sk-toggleable__control:checked~div.sk-toggleable__content {max-height: 200px;max-width: 100%;overflow: auto;}#sk-container-id-4 input.sk-toggleable__control:checked~label.sk-toggleable__label-arrow:before {content: \"▾\";}#sk-container-id-4 div.sk-estimator input.sk-toggleable__control:checked~label.sk-toggleable__label {background-color: #d4ebff;}#sk-container-id-4 div.sk-label input.sk-toggleable__control:checked~label.sk-toggleable__label {background-color: #d4ebff;}#sk-container-id-4 input.sk-hidden--visually {border: 0;clip: rect(1px 1px 1px 1px);clip: rect(1px, 1px, 1px, 1px);height: 1px;margin: -1px;overflow: hidden;padding: 0;position: absolute;width: 1px;}#sk-container-id-4 div.sk-estimator {font-family: monospace;background-color: #f0f8ff;border: 1px dotted black;border-radius: 0.25em;box-sizing: border-box;margin-bottom: 0.5em;}#sk-container-id-4 div.sk-estimator:hover {background-color: #d4ebff;}#sk-container-id-4 div.sk-parallel-item::after {content: \"\";width: 100%;border-bottom: 1px solid gray;flex-grow: 1;}#sk-container-id-4 div.sk-label:hover label.sk-toggleable__label {background-color: #d4ebff;}#sk-container-id-4 div.sk-serial::before {content: \"\";position: absolute;border-left: 1px solid gray;box-sizing: border-box;top: 0;bottom: 0;left: 50%;z-index: 0;}#sk-container-id-4 div.sk-serial {display: flex;flex-direction: column;align-items: center;background-color: white;padding-right: 0.2em;padding-left: 0.2em;position: relative;}#sk-container-id-4 div.sk-item {position: relative;z-index: 1;}#sk-container-id-4 div.sk-parallel {display: flex;align-items: stretch;justify-content: center;background-color: white;position: relative;}#sk-container-id-4 div.sk-item::before, #sk-container-id-4 div.sk-parallel-item::before {content: \"\";position: absolute;border-left: 1px solid gray;box-sizing: border-box;top: 0;bottom: 0;left: 50%;z-index: -1;}#sk-container-id-4 div.sk-parallel-item {display: flex;flex-direction: column;z-index: 1;position: relative;background-color: white;}#sk-container-id-4 div.sk-parallel-item:first-child::after {align-self: flex-end;width: 50%;}#sk-container-id-4 div.sk-parallel-item:last-child::after {align-self: flex-start;width: 50%;}#sk-container-id-4 div.sk-parallel-item:only-child::after {width: 0;}#sk-container-id-4 div.sk-dashed-wrapped {border: 1px dashed gray;margin: 0 0.4em 0.5em 0.4em;box-sizing: border-box;padding-bottom: 0.4em;background-color: white;}#sk-container-id-4 div.sk-label label {font-family: monospace;font-weight: bold;display: inline-block;line-height: 1.2em;}#sk-container-id-4 div.sk-label-container {text-align: center;}#sk-container-id-4 div.sk-container {/* jupyter's `normalize.less` sets `[hidden] { display: none; }` but bootstrap.min.css set `[hidden] { display: none !important; }` so we also need the `!important` here to be able to override the default hidden behavior on the sphinx rendered scikit-learn.org. See: https://github.com/scikit-learn/scikit-learn/issues/21755 */display: inline-block !important;position: relative;}#sk-container-id-4 div.sk-text-repr-fallback {display: none;}</style><div id=\"sk-container-id-4\" class=\"sk-top-container\"><div class=\"sk-text-repr-fallback\"><pre>DecisionTreeClassifier(class_weight=&#x27;balanced&#x27;)</pre><b>In a Jupyter environment, please rerun this cell to show the HTML representation or trust the notebook. <br />On GitHub, the HTML representation is unable to render, please try loading this page with nbviewer.org.</b></div><div class=\"sk-container\" hidden><div class=\"sk-item\"><div class=\"sk-estimator sk-toggleable\"><input class=\"sk-toggleable__control sk-hidden--visually\" id=\"sk-estimator-id-4\" type=\"checkbox\" checked><label for=\"sk-estimator-id-4\" class=\"sk-toggleable__label sk-toggleable__label-arrow\">DecisionTreeClassifier</label><div class=\"sk-toggleable__content\"><pre>DecisionTreeClassifier(class_weight=&#x27;balanced&#x27;)</pre></div></div></div></div></div>"
      ],
      "text/plain": [
       "DecisionTreeClassifier(class_weight='balanced')"
      ]
     },
     "execution_count": 56,
     "metadata": {},
     "output_type": "execute_result"
    }
   ],
   "source": [
    "dt.fit(x_train,y_train)"
   ]
  },
  {
   "cell_type": "code",
   "execution_count": 57,
   "id": "aa1dd04e",
   "metadata": {},
   "outputs": [],
   "source": [
    "y_pred_dt=dt.predict(x_test)"
   ]
  },
  {
   "cell_type": "code",
   "execution_count": 58,
   "id": "fd380a4b",
   "metadata": {},
   "outputs": [
    {
     "data": {
      "text/plain": [
       "0.8104643104643104"
      ]
     },
     "execution_count": 58,
     "metadata": {},
     "output_type": "execute_result"
    }
   ],
   "source": [
    "recall_score(y_test,y_pred_dt,average='weighted')"
   ]
  },
  {
   "cell_type": "code",
   "execution_count": 59,
   "id": "547798d0",
   "metadata": {},
   "outputs": [
    {
     "data": {
      "text/plain": [
       "0.8314979353300522"
      ]
     },
     "execution_count": 59,
     "metadata": {},
     "output_type": "execute_result"
    }
   ],
   "source": [
    "precision_score(y_test,y_pred_dt,average='weighted')"
   ]
  },
  {
   "cell_type": "code",
   "execution_count": 60,
   "id": "feb5278a",
   "metadata": {},
   "outputs": [
    {
     "data": {
      "text/plain": [
       "0.8202612836232764"
      ]
     },
     "execution_count": 60,
     "metadata": {},
     "output_type": "execute_result"
    }
   ],
   "source": [
    "f1_score(y_test,y_pred_dt,average='weighted')"
   ]
  },
  {
   "cell_type": "code",
   "execution_count": 61,
   "id": "6ee808be",
   "metadata": {},
   "outputs": [
    {
     "data": {
      "text/plain": [
       "0.5911176542609655"
      ]
     },
     "execution_count": 61,
     "metadata": {},
     "output_type": "execute_result"
    }
   ],
   "source": [
    "balanced_acc = balanced_accuracy_score(y_test, y_pred_dt)\n",
    "balanced_acc"
   ]
  },
  {
   "cell_type": "code",
   "execution_count": 62,
   "id": "c208835c",
   "metadata": {},
   "outputs": [],
   "source": [
    "from sklearn.svm import SVC"
   ]
  },
  {
   "cell_type": "code",
   "execution_count": 63,
   "id": "fe1b1770",
   "metadata": {},
   "outputs": [],
   "source": [
    "sv=SVC(class_weight='balanced')"
   ]
  },
  {
   "cell_type": "code",
   "execution_count": 64,
   "id": "bcc475e3",
   "metadata": {},
   "outputs": [
    {
     "data": {
      "text/html": [
       "<style>#sk-container-id-5 {color: black;background-color: white;}#sk-container-id-5 pre{padding: 0;}#sk-container-id-5 div.sk-toggleable {background-color: white;}#sk-container-id-5 label.sk-toggleable__label {cursor: pointer;display: block;width: 100%;margin-bottom: 0;padding: 0.3em;box-sizing: border-box;text-align: center;}#sk-container-id-5 label.sk-toggleable__label-arrow:before {content: \"▸\";float: left;margin-right: 0.25em;color: #696969;}#sk-container-id-5 label.sk-toggleable__label-arrow:hover:before {color: black;}#sk-container-id-5 div.sk-estimator:hover label.sk-toggleable__label-arrow:before {color: black;}#sk-container-id-5 div.sk-toggleable__content {max-height: 0;max-width: 0;overflow: hidden;text-align: left;background-color: #f0f8ff;}#sk-container-id-5 div.sk-toggleable__content pre {margin: 0.2em;color: black;border-radius: 0.25em;background-color: #f0f8ff;}#sk-container-id-5 input.sk-toggleable__control:checked~div.sk-toggleable__content {max-height: 200px;max-width: 100%;overflow: auto;}#sk-container-id-5 input.sk-toggleable__control:checked~label.sk-toggleable__label-arrow:before {content: \"▾\";}#sk-container-id-5 div.sk-estimator input.sk-toggleable__control:checked~label.sk-toggleable__label {background-color: #d4ebff;}#sk-container-id-5 div.sk-label input.sk-toggleable__control:checked~label.sk-toggleable__label {background-color: #d4ebff;}#sk-container-id-5 input.sk-hidden--visually {border: 0;clip: rect(1px 1px 1px 1px);clip: rect(1px, 1px, 1px, 1px);height: 1px;margin: -1px;overflow: hidden;padding: 0;position: absolute;width: 1px;}#sk-container-id-5 div.sk-estimator {font-family: monospace;background-color: #f0f8ff;border: 1px dotted black;border-radius: 0.25em;box-sizing: border-box;margin-bottom: 0.5em;}#sk-container-id-5 div.sk-estimator:hover {background-color: #d4ebff;}#sk-container-id-5 div.sk-parallel-item::after {content: \"\";width: 100%;border-bottom: 1px solid gray;flex-grow: 1;}#sk-container-id-5 div.sk-label:hover label.sk-toggleable__label {background-color: #d4ebff;}#sk-container-id-5 div.sk-serial::before {content: \"\";position: absolute;border-left: 1px solid gray;box-sizing: border-box;top: 0;bottom: 0;left: 50%;z-index: 0;}#sk-container-id-5 div.sk-serial {display: flex;flex-direction: column;align-items: center;background-color: white;padding-right: 0.2em;padding-left: 0.2em;position: relative;}#sk-container-id-5 div.sk-item {position: relative;z-index: 1;}#sk-container-id-5 div.sk-parallel {display: flex;align-items: stretch;justify-content: center;background-color: white;position: relative;}#sk-container-id-5 div.sk-item::before, #sk-container-id-5 div.sk-parallel-item::before {content: \"\";position: absolute;border-left: 1px solid gray;box-sizing: border-box;top: 0;bottom: 0;left: 50%;z-index: -1;}#sk-container-id-5 div.sk-parallel-item {display: flex;flex-direction: column;z-index: 1;position: relative;background-color: white;}#sk-container-id-5 div.sk-parallel-item:first-child::after {align-self: flex-end;width: 50%;}#sk-container-id-5 div.sk-parallel-item:last-child::after {align-self: flex-start;width: 50%;}#sk-container-id-5 div.sk-parallel-item:only-child::after {width: 0;}#sk-container-id-5 div.sk-dashed-wrapped {border: 1px dashed gray;margin: 0 0.4em 0.5em 0.4em;box-sizing: border-box;padding-bottom: 0.4em;background-color: white;}#sk-container-id-5 div.sk-label label {font-family: monospace;font-weight: bold;display: inline-block;line-height: 1.2em;}#sk-container-id-5 div.sk-label-container {text-align: center;}#sk-container-id-5 div.sk-container {/* jupyter's `normalize.less` sets `[hidden] { display: none; }` but bootstrap.min.css set `[hidden] { display: none !important; }` so we also need the `!important` here to be able to override the default hidden behavior on the sphinx rendered scikit-learn.org. See: https://github.com/scikit-learn/scikit-learn/issues/21755 */display: inline-block !important;position: relative;}#sk-container-id-5 div.sk-text-repr-fallback {display: none;}</style><div id=\"sk-container-id-5\" class=\"sk-top-container\"><div class=\"sk-text-repr-fallback\"><pre>SVC(class_weight=&#x27;balanced&#x27;)</pre><b>In a Jupyter environment, please rerun this cell to show the HTML representation or trust the notebook. <br />On GitHub, the HTML representation is unable to render, please try loading this page with nbviewer.org.</b></div><div class=\"sk-container\" hidden><div class=\"sk-item\"><div class=\"sk-estimator sk-toggleable\"><input class=\"sk-toggleable__control sk-hidden--visually\" id=\"sk-estimator-id-5\" type=\"checkbox\" checked><label for=\"sk-estimator-id-5\" class=\"sk-toggleable__label sk-toggleable__label-arrow\">SVC</label><div class=\"sk-toggleable__content\"><pre>SVC(class_weight=&#x27;balanced&#x27;)</pre></div></div></div></div></div>"
      ],
      "text/plain": [
       "SVC(class_weight='balanced')"
      ]
     },
     "execution_count": 64,
     "metadata": {},
     "output_type": "execute_result"
    }
   ],
   "source": [
    "sv.fit(x_train,y_train)"
   ]
  },
  {
   "cell_type": "code",
   "execution_count": 65,
   "id": "017d6706",
   "metadata": {},
   "outputs": [],
   "source": [
    "y_pred_sv=sv.predict(x_test)"
   ]
  },
  {
   "cell_type": "code",
   "execution_count": 66,
   "id": "59c828da",
   "metadata": {},
   "outputs": [
    {
     "data": {
      "text/plain": [
       "0.32813582813582814"
      ]
     },
     "execution_count": 66,
     "metadata": {},
     "output_type": "execute_result"
    }
   ],
   "source": [
    "recall_score(y_test,y_pred_sv,average='weighted')"
   ]
  },
  {
   "cell_type": "code",
   "execution_count": 67,
   "id": "8d813a82",
   "metadata": {},
   "outputs": [
    {
     "data": {
      "text/plain": [
       "0.8241071940334049"
      ]
     },
     "execution_count": 67,
     "metadata": {},
     "output_type": "execute_result"
    }
   ],
   "source": [
    "precision_score(y_test,y_pred_sv,average='weighted')"
   ]
  },
  {
   "cell_type": "code",
   "execution_count": 68,
   "id": "5415b0bb",
   "metadata": {},
   "outputs": [
    {
     "data": {
      "text/plain": [
       "0.3903524352701783"
      ]
     },
     "execution_count": 68,
     "metadata": {},
     "output_type": "execute_result"
    }
   ],
   "source": [
    "f1_score(y_test,y_pred_sv,average='weighted')"
   ]
  },
  {
   "cell_type": "code",
   "execution_count": 69,
   "id": "97cd6a2a",
   "metadata": {},
   "outputs": [
    {
     "data": {
      "text/plain": [
       "0.5360949678634133"
      ]
     },
     "execution_count": 69,
     "metadata": {},
     "output_type": "execute_result"
    }
   ],
   "source": [
    "balanced_acc = balanced_accuracy_score(y_test, y_pred_sv)\n",
    "balanced_acc"
   ]
  },
  {
   "cell_type": "code",
   "execution_count": 70,
   "id": "342ebaba",
   "metadata": {},
   "outputs": [],
   "source": [
    "cds3.to_csv(r'C:/Users/rabhi/OneDrive/Documents/Data_Clinical_Sample_3.csv', index = False, header = True)"
   ]
  },
  {
   "cell_type": "code",
   "execution_count": 71,
   "id": "b95b1465",
   "metadata": {},
   "outputs": [],
   "source": [
    "from sklearn import model_selection\n",
    "class Benchmark:\n",
    "    def plot_cv_results(self):\n",
    "        plt.figure(figsize=(15,5))\n",
    "        x = np.arange(len(self.results))\n",
    "        plt.bar(x, list(self.results.values()), align='center', color ='g')\n",
    "        plt.xticks(x, list(self.results.keys()))\n",
    "        plt.ylim([0, 1])\n",
    "        plt.ylabel('Cross-Validation Score')\n",
    "        plt.xlabel('Models')\n",
    "        plt.title('Model Comparison')\n",
    "        for index, value in enumerate(self.results.values()):\n",
    "            plt.text(index, value, str(round(value,2)))\n",
    "        plt.show()\n",
    "\n",
    "\n",
    "    def __init__(self, models):\n",
    "        self.models = models\n",
    "\n",
    "    def test_models(self, X=x, y=y, cv=5):\n",
    "        self.results = {}\n",
    "        for name, model in self.models.items():\n",
    "            scores = model_selection.cross_val_score(model, X, y, cv=cv)\n",
    "            self.results[name] = scores.mean()\n",
    "        self.best_model = max(self.results, key=self.results.get)\n",
    "        return f\"The best model is: {self.best_model} with a score of {self.results[self.best_model]:.3f}\""
   ]
  },
  {
   "cell_type": "code",
   "execution_count": 72,
   "id": "ae2f8a9d",
   "metadata": {},
   "outputs": [
    {
     "name": "stderr",
     "output_type": "stream",
     "text": [
      "C:\\Users\\rabhi\\anaconda3\\lib\\site-packages\\sklearn\\linear_model\\_logistic.py:458: ConvergenceWarning: lbfgs failed to converge (status=1):\n",
      "STOP: TOTAL NO. of ITERATIONS REACHED LIMIT.\n",
      "\n",
      "Increase the number of iterations (max_iter) or scale the data as shown in:\n",
      "    https://scikit-learn.org/stable/modules/preprocessing.html\n",
      "Please also refer to the documentation for alternative solver options:\n",
      "    https://scikit-learn.org/stable/modules/linear_model.html#logistic-regression\n",
      "  n_iter_i = _check_optimize_result(\n",
      "C:\\Users\\rabhi\\anaconda3\\lib\\site-packages\\sklearn\\linear_model\\_logistic.py:458: ConvergenceWarning: lbfgs failed to converge (status=1):\n",
      "STOP: TOTAL NO. of ITERATIONS REACHED LIMIT.\n",
      "\n",
      "Increase the number of iterations (max_iter) or scale the data as shown in:\n",
      "    https://scikit-learn.org/stable/modules/preprocessing.html\n",
      "Please also refer to the documentation for alternative solver options:\n",
      "    https://scikit-learn.org/stable/modules/linear_model.html#logistic-regression\n",
      "  n_iter_i = _check_optimize_result(\n",
      "C:\\Users\\rabhi\\anaconda3\\lib\\site-packages\\sklearn\\linear_model\\_logistic.py:458: ConvergenceWarning: lbfgs failed to converge (status=1):\n",
      "STOP: TOTAL NO. of ITERATIONS REACHED LIMIT.\n",
      "\n",
      "Increase the number of iterations (max_iter) or scale the data as shown in:\n",
      "    https://scikit-learn.org/stable/modules/preprocessing.html\n",
      "Please also refer to the documentation for alternative solver options:\n",
      "    https://scikit-learn.org/stable/modules/linear_model.html#logistic-regression\n",
      "  n_iter_i = _check_optimize_result(\n",
      "C:\\Users\\rabhi\\anaconda3\\lib\\site-packages\\sklearn\\linear_model\\_logistic.py:458: ConvergenceWarning: lbfgs failed to converge (status=1):\n",
      "STOP: TOTAL NO. of ITERATIONS REACHED LIMIT.\n",
      "\n",
      "Increase the number of iterations (max_iter) or scale the data as shown in:\n",
      "    https://scikit-learn.org/stable/modules/preprocessing.html\n",
      "Please also refer to the documentation for alternative solver options:\n",
      "    https://scikit-learn.org/stable/modules/linear_model.html#logistic-regression\n",
      "  n_iter_i = _check_optimize_result(\n",
      "C:\\Users\\rabhi\\anaconda3\\lib\\site-packages\\xgboost\\sklearn.py:1224: UserWarning: The use of label encoder in XGBClassifier is deprecated and will be removed in a future release. To remove this warning, do the following: 1) Pass option use_label_encoder=False when constructing XGBClassifier object; and 2) Encode your labels (y) as integers starting with 0, i.e. 0, 1, 2, ..., [num_class - 1].\n",
      "  warnings.warn(label_encoder_deprecation_msg, UserWarning)\n"
     ]
    },
    {
     "name": "stdout",
     "output_type": "stream",
     "text": [
      "[21:41:47] WARNING: ..\\src\\learner.cc:1115: Starting in XGBoost 1.3.0, the default evaluation metric used with the objective 'binary:logistic' was changed from 'error' to 'logloss'. Explicitly set eval_metric if you'd like to restore the old behavior.\n"
     ]
    },
    {
     "name": "stderr",
     "output_type": "stream",
     "text": [
      "C:\\Users\\rabhi\\anaconda3\\lib\\site-packages\\xgboost\\sklearn.py:1224: UserWarning: The use of label encoder in XGBClassifier is deprecated and will be removed in a future release. To remove this warning, do the following: 1) Pass option use_label_encoder=False when constructing XGBClassifier object; and 2) Encode your labels (y) as integers starting with 0, i.e. 0, 1, 2, ..., [num_class - 1].\n",
      "  warnings.warn(label_encoder_deprecation_msg, UserWarning)\n"
     ]
    },
    {
     "name": "stdout",
     "output_type": "stream",
     "text": [
      "[21:41:48] WARNING: ..\\src\\learner.cc:1115: Starting in XGBoost 1.3.0, the default evaluation metric used with the objective 'binary:logistic' was changed from 'error' to 'logloss'. Explicitly set eval_metric if you'd like to restore the old behavior.\n"
     ]
    },
    {
     "name": "stderr",
     "output_type": "stream",
     "text": [
      "C:\\Users\\rabhi\\anaconda3\\lib\\site-packages\\xgboost\\sklearn.py:1224: UserWarning: The use of label encoder in XGBClassifier is deprecated and will be removed in a future release. To remove this warning, do the following: 1) Pass option use_label_encoder=False when constructing XGBClassifier object; and 2) Encode your labels (y) as integers starting with 0, i.e. 0, 1, 2, ..., [num_class - 1].\n",
      "  warnings.warn(label_encoder_deprecation_msg, UserWarning)\n"
     ]
    },
    {
     "name": "stdout",
     "output_type": "stream",
     "text": [
      "[21:41:48] WARNING: ..\\src\\learner.cc:1115: Starting in XGBoost 1.3.0, the default evaluation metric used with the objective 'binary:logistic' was changed from 'error' to 'logloss'. Explicitly set eval_metric if you'd like to restore the old behavior.\n"
     ]
    },
    {
     "name": "stderr",
     "output_type": "stream",
     "text": [
      "C:\\Users\\rabhi\\anaconda3\\lib\\site-packages\\xgboost\\sklearn.py:1224: UserWarning: The use of label encoder in XGBClassifier is deprecated and will be removed in a future release. To remove this warning, do the following: 1) Pass option use_label_encoder=False when constructing XGBClassifier object; and 2) Encode your labels (y) as integers starting with 0, i.e. 0, 1, 2, ..., [num_class - 1].\n",
      "  warnings.warn(label_encoder_deprecation_msg, UserWarning)\n"
     ]
    },
    {
     "name": "stdout",
     "output_type": "stream",
     "text": [
      "[21:41:49] WARNING: ..\\src\\learner.cc:1115: Starting in XGBoost 1.3.0, the default evaluation metric used with the objective 'binary:logistic' was changed from 'error' to 'logloss'. Explicitly set eval_metric if you'd like to restore the old behavior.\n"
     ]
    },
    {
     "name": "stderr",
     "output_type": "stream",
     "text": [
      "C:\\Users\\rabhi\\anaconda3\\lib\\site-packages\\xgboost\\sklearn.py:1224: UserWarning: The use of label encoder in XGBClassifier is deprecated and will be removed in a future release. To remove this warning, do the following: 1) Pass option use_label_encoder=False when constructing XGBClassifier object; and 2) Encode your labels (y) as integers starting with 0, i.e. 0, 1, 2, ..., [num_class - 1].\n",
      "  warnings.warn(label_encoder_deprecation_msg, UserWarning)\n"
     ]
    },
    {
     "name": "stdout",
     "output_type": "stream",
     "text": [
      "[21:41:49] WARNING: ..\\src\\learner.cc:1115: Starting in XGBoost 1.3.0, the default evaluation metric used with the objective 'binary:logistic' was changed from 'error' to 'logloss'. Explicitly set eval_metric if you'd like to restore the old behavior.\n",
      "The best model is: Random Forest with a score of 0.865\n"
     ]
    },
    {
     "data": {
      "image/png": "[encoded data removed]",
      "text/plain": [
       "<Figure size 1080x360 with 1 Axes>"
      ]
     },
     "metadata": {
      "needs_background": "light"
     },
     "output_type": "display_data"
    }
   ],
   "source": [
    "models = {\n",
    "    'logistic': lr,\n",
    "    'Random Forest': rfc ,\n",
    "    'XGBoost': xg,\n",
    "    'SVM' : sv,\n",
    "    'Decision Tree': dt\n",
    "\n",
    "}\n",
    "\n",
    "benchmark = Benchmark(models)\n",
    "print(benchmark.test_models())\n",
    "benchmark.plot_cv_results()"
   ]
  },
  {
   "cell_type": "code",
   "execution_count": null,
   "id": "bba7e892",
   "metadata": {},
   "outputs": [],
   "source": []
  },
  {
   "cell_type": "code",
   "execution_count": null,
   "id": "90520a64",
   "metadata": {},
   "outputs": [],
   "source": []
  }
 ],
 "metadata": {
  "kernelspec": {
   "display_name": "Python 3 (ipykernel)",
   "language": "python",
   "name": "python3"
  },
  "language_info": {
   "codemirror_mode": {
    "name": "ipython",
    "version": 3
   },
   "file_extension": ".py",
   "mimetype": "text/x-python",
   "name": "python",
   "nbconvert_exporter": "python",
   "pygments_lexer": "ipython3",
   "version": "3.9.7"
  }
 },
 "nbformat": 4,
 "nbformat_minor": 5
}
